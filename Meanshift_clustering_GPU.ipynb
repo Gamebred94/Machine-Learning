{
  "cells": [
    {
      "cell_type": "markdown",
      "metadata": {
        "id": "view-in-github",
        "colab_type": "text"
      },
      "source": [
        "<a href=\"https://colab.research.google.com/github/Gamebred94/Machine-Learning/blob/master/Meanshift_clustering_GPU.ipynb\" target=\"_parent\"><img src=\"https://colab.research.google.com/assets/colab-badge.svg\" alt=\"Open In Colab\"/></a>"
      ]
    },
    {
      "cell_type": "markdown",
      "metadata": {
        "id": "Zv2le5FxGmYx"
      },
      "source": [
        "# Clustering"
      ]
    },
    {
      "cell_type": "markdown",
      "metadata": {
        "id": "zuUafzUHGmYy"
      },
      "source": [
        "Clustering techniques are unsupervised learning algorithms that try to group unlabelled data into \"clusters\", using the (typically spatial) structure of the data itself. It has many [applications](https://en.wikipedia.org/wiki/Cluster_analysis#Applications).\n",
        "\n",
        "The easiest way to demonstrate how clustering works is to simply generate some synthetic data and show them in action."
      ]
    },
    {
      "cell_type": "code",
      "source": [
        "import math, matplotlib.pyplot as plt, operator, torch\n",
        "from functools import partial"
      ],
      "metadata": {
        "id": "SrjvrnZVG9kK"
      },
      "execution_count": 1,
      "outputs": []
    },
    {
      "cell_type": "code",
      "execution_count": 2,
      "metadata": {
        "id": "5xX3E4qwGmYz"
      },
      "outputs": [],
      "source": [
        "torch.manual_seed(42)\n",
        "torch.set_printoptions(precision=3, linewidth=140, sci_mode=False)"
      ]
    },
    {
      "cell_type": "markdown",
      "metadata": {
        "id": "kG9Pnw_xGmY0"
      },
      "source": [
        "## Create data"
      ]
    },
    {
      "cell_type": "code",
      "execution_count": null,
      "metadata": {
        "id": "2xyG3GvBGmY0"
      },
      "outputs": [],
      "source": [
        "n_clusters=6\n",
        "n_samples =250"
      ]
    },
    {
      "cell_type": "markdown",
      "metadata": {
        "id": "iloUiO9sGmY0"
      },
      "source": [
        "To generate our data, we're going to pick 6 random points, which we'll call centroids, and for each point we're going to generate 250 random points about it.\n",
        "\n",
        "Multiplying by 70 and subtracting by 35 results in centroids being randomly placed within a square region defined by x and y coordinates ranging from -35 to 35."
      ]
    },
    {
      "cell_type": "code",
      "execution_count": null,
      "metadata": {
        "id": "YLT3FJKbGmY0"
      },
      "outputs": [],
      "source": [
        "centroids = torch.rand(n_clusters, 2)*70-35"
      ]
    },
    {
      "cell_type": "code",
      "source": [
        "from torch.distributions.multivariate_normal import MultivariateNormal\n",
        "from torch import tensor"
      ],
      "metadata": {
        "id": "V5VKE4YBM3ET"
      },
      "execution_count": null,
      "outputs": []
    },
    {
      "cell_type": "markdown",
      "source": [
        "Generating a sample space for each centroid with the centroid as mean and a std dev of 5(cov matrix) from a normal distribution\n",
        "\n",
        "In the context of a multivariate normal distribution, the covariance matrix describes the relationships\n",
        "- The values on the main diagonal of the matrix represent the variance of each dimension. A higher variance means the data is more spread out along that dimension.\n",
        "- The values off the main diagonal represent the covariance between pairs of dimensions. A non-zero covariance indicates that the dimensions are correlated (e.g., as x increases, y also tends to increase).\n",
        "\n",
        "Why do we do it?  \n",
        "Independence: By setting the off-diagonal elements to zero, we are specifying that the x and y dimensions are independent. This means that the value of a data point's x-coordinate doesn't influence its y-coordinate, and vice versa. This is a common assumption for simplicity in generating synthetic data for clustering, resulting in clusters that are roughly spherical.  \n",
        "Control over Spread: The values on the diagonal (5.0 in this case) control the spread or dispersion of the data points around the centroids along each dimension. A larger value would result in more scattered data points, while a smaller value would create tighter clusters.\n",
        "\n"
      ],
      "metadata": {
        "id": "qNvZyFudZ8-J"
      }
    },
    {
      "cell_type": "code",
      "execution_count": null,
      "metadata": {
        "id": "xQAQkqgXGmY0"
      },
      "outputs": [],
      "source": [
        "def sample(m): return MultivariateNormal(m, torch.diag(tensor([5.,5.]))).sample((n_samples,))"
      ]
    },
    {
      "cell_type": "code",
      "source": [
        "slices = [sample(c) for c in centroids]\n",
        "data = torch.cat(slices)\n",
        "data.shape"
      ],
      "metadata": {
        "colab": {
          "base_uri": "https://localhost:8080/"
        },
        "id": "QDMhoVoaSKxx",
        "outputId": "6846d96d-a4a5-4a1c-d333-47ceef877754"
      },
      "execution_count": null,
      "outputs": [
        {
          "output_type": "execute_result",
          "data": {
            "text/plain": [
              "torch.Size([1500, 2])"
            ]
          },
          "metadata": {},
          "execution_count": 7
        }
      ]
    },
    {
      "cell_type": "markdown",
      "metadata": {
        "id": "KTt2SXf4GmY1"
      },
      "source": [
        "Below we can see each centroid marked w/ X, and the coloring associated to each respective cluster."
      ]
    },
    {
      "cell_type": "code",
      "source": [
        "def plot_data(centroids, data, n_samples, ax=None):\n",
        "  if ax is None:\n",
        "    _,ax = plt.subplots()\n",
        "  for i,centroid in enumerate(centroids):\n",
        "      samples = data[i*n_samples:(i+1)*n_samples]\n",
        "      ax.scatter(samples[:,0], samples[:,1], s=1)\n",
        "      ax.plot(*centroid, markersize=10, marker=\"x\", color=\"k\", mew=5) # big-marker X\n",
        "      ax.plot(*centroid, markersize=5, marker=\"x\", color=\"m\", mew=2) # small-marker x\n"
      ],
      "metadata": {
        "id": "TWX_Vr6FUMwq"
      },
      "execution_count": null,
      "outputs": []
    },
    {
      "cell_type": "code",
      "source": [
        "plot_data(centroids, data, n_samples)"
      ],
      "metadata": {
        "colab": {
          "base_uri": "https://localhost:8080/",
          "height": 430
        },
        "id": "muxy3KfxWnSx",
        "outputId": "729a245a-6a6e-40b7-bc28-3d4437638713"
      },
      "execution_count": null,
      "outputs": [
        {
          "output_type": "display_data",
          "data": {
            "text/plain": [
              "<Figure size 640x480 with 1 Axes>"
            ],
            "image/png": "[encoded data removed]"
          },
          "metadata": {}
        }
      ]
    },
    {
      "cell_type": "markdown",
      "metadata": {
        "id": "RBkYej-7GmY1"
      },
      "source": [
        "## Mean shift"
      ]
    },
    {
      "cell_type": "markdown",
      "metadata": {
        "id": "AVvrhZi7GmY1"
      },
      "source": [
        "Most people that have come across clustering algorithms have learnt about **k-means**. Mean shift clustering is a newer and less well-known approach, but it has some important advantages:\n",
        "* It doesn't require selecting the number of clusters in advance, but instead just requires a **bandwidth** to be specified, which can be easily chosen automatically\n",
        "* It can handle clusters of any shape, whereas k-means (without using special extensions) requires that clusters be roughly ball shaped."
      ]
    },
    {
      "cell_type": "markdown",
      "metadata": {
        "id": "2zZWWTZWGmY1"
      },
      "source": [
        "The algorithm is as follows:\n",
        "* For each data point x in the sample X, find the distance between that point x and every other point in X\n",
        "* Create weights for each point in X by using the **Gaussian kernel** of that point's distance to x\n",
        "    * This weighting approach penalizes points further away from x\n",
        "    * The rate at which the weights fall to zero is determined by the **bandwidth**, which is the standard deviation of the Gaussian\n",
        "* Update x as the weighted average of all other points in X, weighted based on the previous step\n",
        "\n",
        "This will iteratively push points that are close together even closer until they are next to each other."
      ]
    },
    {
      "cell_type": "code",
      "source": [
        "midp = centroids.mean(0)\n",
        "midp"
      ],
      "metadata": {
        "colab": {
          "base_uri": "https://localhost:8080/"
        },
        "id": "lOYA3csltiXu",
        "outputId": "d9e30f69-ae77-41c8-aaac-c1c52ccba645"
      },
      "execution_count": null,
      "outputs": [
        {
          "output_type": "execute_result",
          "data": {
            "text/plain": [
              "tensor([ 9.188, 11.615])"
            ]
          },
          "metadata": {},
          "execution_count": 10
        }
      ]
    },
    {
      "cell_type": "code",
      "execution_count": null,
      "metadata": {
        "id": "Gmhv7qvVGmY1",
        "outputId": "e7e6d373-179a-43dc-84d4-2531c52a5672",
        "colab": {
          "base_uri": "https://localhost:8080/",
          "height": 430
        }
      },
      "outputs": [
        {
          "output_type": "display_data",
          "data": {
            "text/plain": [
              "<Figure size 640x480 with 1 Axes>"
            ],
            "image/png": "[encoded data removed]"
          },
          "metadata": {}
        }
      ],
      "source": [
        "plot_data([midp]*6, data, n_samples)"
      ]
    },
    {
      "cell_type": "markdown",
      "metadata": {
        "id": "O48Rik9LGmY2"
      },
      "source": [
        "So here's the definition of the gaussian kernel, which you may remember from high school...\n",
        " This person at the science march certainly remembered!\n",
        "\n",
        "<img src=\"http://i.imgur.com/nijQLHw.jpg\" width=400>"
      ]
    },
    {
      "cell_type": "code",
      "source": [
        "def gaussian(d, bw): return torch.exp(-0.5*((d/bw))**2) / (bw*math.sqrt(2*math.pi)) # where d is the distance and bw is the std. dev"
      ],
      "metadata": {
        "id": "ZliKacIHt1f_"
      },
      "execution_count": null,
      "outputs": []
    },
    {
      "cell_type": "code",
      "execution_count": null,
      "metadata": {
        "id": "2YQ4lHMuGmY2"
      },
      "outputs": [],
      "source": [
        "def plot_func(f):\n",
        "    x = torch.linspace(0,10,100)\n",
        "    plt.plot(x, f(x))"
      ]
    },
    {
      "cell_type": "code",
      "source": [
        "plot_func(partial(gaussian, bw=2.5))"
      ],
      "metadata": {
        "colab": {
          "base_uri": "https://localhost:8080/",
          "height": 430
        },
        "id": "lsiH4zCXHP3G",
        "outputId": "6169c08f-96c4-48d1-c9cb-5237acd43210"
      },
      "execution_count": null,
      "outputs": [
        {
          "output_type": "display_data",
          "data": {
            "text/plain": [
              "<Figure size 640x480 with 1 Axes>"
            ],
            "image/png": "[encoded data removed]"
          },
          "metadata": {}
        }
      ]
    },
    {
      "cell_type": "code",
      "source": [
        "f = partial(gaussian, bw=2.5)\n",
        "f(tensor(4.))"
      ],
      "metadata": {
        "colab": {
          "base_uri": "https://localhost:8080/"
        },
        "id": "03z11muDNMXC",
        "outputId": "62948d5b-3db1-47e4-cee5-4948a47f14ea"
      },
      "execution_count": null,
      "outputs": [
        {
          "output_type": "execute_result",
          "data": {
            "text/plain": [
              "tensor(0.044)"
            ]
          },
          "metadata": {},
          "execution_count": 15
        }
      ]
    },
    {
      "cell_type": "code",
      "source": [
        "#another approach\n",
        "plot_func(lambda x: gaussian(x, bw=2.5))"
      ],
      "metadata": {
        "colab": {
          "base_uri": "https://localhost:8080/",
          "height": 430
        },
        "id": "BR41EB-vN7Wq",
        "outputId": "f4b6cf69-4332-4a3f-ade1-e34e3380d034"
      },
      "execution_count": null,
      "outputs": [
        {
          "output_type": "display_data",
          "data": {
            "text/plain": [
              "<Figure size 640x480 with 1 Axes>"
            ],
            "image/png": "[encoded data removed]"
          },
          "metadata": {}
        }
      ]
    },
    {
      "cell_type": "markdown",
      "metadata": {
        "id": "Q7p0AFjCGmY2"
      },
      "source": [
        "In our implementation, we choose the bandwidth to be 2.5.\n",
        "\n",
        "One easy way to choose bandwidth is to find which bandwidth covers one third of the data."
      ]
    },
    {
      "cell_type": "code",
      "source": [
        "def tri(d,i):\n",
        "  return (-d+i).clamp_min(0)/i"
      ],
      "metadata": {
        "id": "3v4GsE3rjV-3"
      },
      "execution_count": null,
      "outputs": []
    },
    {
      "cell_type": "code",
      "execution_count": null,
      "metadata": {
        "id": "DXCBS2DkGmY2",
        "colab": {
          "base_uri": "https://localhost:8080/",
          "height": 430
        },
        "outputId": "00aa2987-6be5-4561-9656-4be1def64f50"
      },
      "outputs": [
        {
          "output_type": "display_data",
          "data": {
            "text/plain": [
              "<Figure size 640x480 with 1 Axes>"
            ],
            "image/png": "[encoded data removed]"
          },
          "metadata": {}
        }
      ],
      "source": [
        "plot_func(partial(tri, i=8))"
      ]
    },
    {
      "cell_type": "code",
      "source": [
        "X = data.clone()\n",
        "x = data[0]\n",
        "x"
      ],
      "metadata": {
        "colab": {
          "base_uri": "https://localhost:8080/"
        },
        "id": "lC8Nz3zFlg9A",
        "outputId": "55e5f01d-b511-4848-f477-4248991d1507"
      },
      "execution_count": null,
      "outputs": [
        {
          "output_type": "execute_result",
          "data": {
            "text/plain": [
              "tensor([26.204, 26.349])"
            ]
          },
          "metadata": {},
          "execution_count": 19
        }
      ]
    },
    {
      "cell_type": "code",
      "execution_count": null,
      "metadata": {
        "id": "DDuwVCLHGmY3",
        "outputId": "4b5b5ea8-3657-4ef1-951b-da9aa83bc812",
        "colab": {
          "base_uri": "https://localhost:8080/"
        }
      },
      "outputs": [
        {
          "output_type": "execute_result",
          "data": {
            "text/plain": [
              "(torch.Size([2]), torch.Size([1500, 2]), torch.Size([1, 2]))"
            ]
          },
          "metadata": {},
          "execution_count": 20
        }
      ],
      "source": [
        "x.shape, X.shape, x[None].shape"
      ]
    },
    {
      "cell_type": "code",
      "source": [
        "(x[None] - X)[:8]"
      ],
      "metadata": {
        "colab": {
          "base_uri": "https://localhost:8080/"
        },
        "id": "jfX_jKx8oHt8",
        "outputId": "71c021c3-1c29-445e-8725-ec4987333c44"
      },
      "execution_count": null,
      "outputs": [
        {
          "output_type": "execute_result",
          "data": {
            "text/plain": [
              "tensor([[ 0.000,  0.000],\n",
              "        [ 0.513, -3.865],\n",
              "        [-4.227, -2.345],\n",
              "        [ 0.557, -3.685],\n",
              "        [-5.033, -3.745],\n",
              "        [-4.073, -0.638],\n",
              "        [-3.415, -5.601],\n",
              "        [-1.920, -5.686]])"
            ]
          },
          "metadata": {},
          "execution_count": 21
        }
      ]
    },
    {
      "cell_type": "code",
      "execution_count": null,
      "metadata": {
        "id": "HvJ55UZ7GmY3",
        "outputId": "85a0b589-e491-4410-99b8-6463bee077f1",
        "colab": {
          "base_uri": "https://localhost:8080/"
        }
      },
      "outputs": [
        {
          "output_type": "execute_result",
          "data": {
            "text/plain": [
              "tensor([[ 0.000,  0.000],\n",
              "        [ 0.513, -3.865],\n",
              "        [-4.227, -2.345],\n",
              "        [ 0.557, -3.685],\n",
              "        [-5.033, -3.745],\n",
              "        [-4.073, -0.638],\n",
              "        [-3.415, -5.601],\n",
              "        [-1.920, -5.686]])"
            ]
          },
          "metadata": {},
          "execution_count": 22
        }
      ],
      "source": [
        "(x-X)[:8]"
      ]
    },
    {
      "cell_type": "markdown",
      "source": [
        "Step 1:\n",
        "For each data point x in the sample X, find the distance between that point x and every other point in X"
      ],
      "metadata": {
        "id": "GSsGyaI0zwK1"
      }
    },
    {
      "cell_type": "code",
      "source": [
        "from fastcore.test import test_close,test_eq\n",
        "dist = ((x-X)**2).sum(1).sqrt()\n",
        "dist_ein = torch.sqrt(torch.einsum('ij,ij->i', (x-X), (x-X))) # same written using einsum\n",
        "dist[:8]"
      ],
      "metadata": {
        "colab": {
          "base_uri": "https://localhost:8080/"
        },
        "id": "Q9Na_CFKrxqx",
        "outputId": "ac866766-8dc9-4d79-ff7e-fe9eb681ceb2"
      },
      "execution_count": null,
      "outputs": [
        {
          "output_type": "execute_result",
          "data": {
            "text/plain": [
              "tensor([0.000, 3.899, 4.834, 3.726, 6.273, 4.122, 6.560, 6.002])"
            ]
          },
          "metadata": {},
          "execution_count": 23
        }
      ]
    },
    {
      "cell_type": "code",
      "source": [
        "test_close(dist, dist_ein)"
      ],
      "metadata": {
        "id": "_5UwCxAH0FaN"
      },
      "execution_count": null,
      "outputs": []
    },
    {
      "cell_type": "markdown",
      "source": [
        "Step 2: Create weights using the **Gaussian kernel** and the computed distance from Step 1"
      ],
      "metadata": {
        "id": "IM4454Yq0RbU"
      }
    },
    {
      "cell_type": "code",
      "source": [
        "weight = gaussian(dist, 2.5)\n",
        "weight"
      ],
      "metadata": {
        "colab": {
          "base_uri": "https://localhost:8080/"
        },
        "id": "n9aVB5fRyPBg",
        "outputId": "a9ece97d-561f-4567-d745-c7776a317e34"
      },
      "execution_count": null,
      "outputs": [
        {
          "output_type": "execute_result",
          "data": {
            "text/plain": [
              "tensor([    0.160,     0.047,     0.025,  ...,     0.000,     0.000,     0.000])"
            ]
          },
          "metadata": {},
          "execution_count": 25
        }
      ]
    },
    {
      "cell_type": "markdown",
      "source": [
        "Step3: Update x as the weighted average of all other points in X, weighted based on the previous step"
      ],
      "metadata": {
        "id": "q7KOi1v24nJ-"
      }
    },
    {
      "cell_type": "code",
      "execution_count": null,
      "metadata": {
        "id": "_NQYiutvGmY3",
        "outputId": "98052030-5c53-48fd-88b5-49a59cf00ab3",
        "colab": {
          "base_uri": "https://localhost:8080/"
        }
      },
      "outputs": [
        {
          "output_type": "execute_result",
          "data": {
            "text/plain": [
              "(torch.Size([1500]), torch.Size([1500, 2]), torch.Size([1500, 1]))"
            ]
          },
          "metadata": {},
          "execution_count": 26
        }
      ],
      "source": [
        "weight.shape, X.shape, weight[:,None].shape"
      ]
    },
    {
      "cell_type": "code",
      "execution_count": null,
      "metadata": {
        "id": "4h26UffbGmY3",
        "outputId": "dbd14743-d4da-4d2a-8b1a-6f11e690ced1",
        "colab": {
          "base_uri": "https://localhost:8080/"
        }
      },
      "outputs": [
        {
          "output_type": "execute_result",
          "data": {
            "text/plain": [
              "tensor([[    4.182,     4.205],\n",
              "        [    1.215,     1.429],\n",
              "        [    0.749,     0.706],\n",
              "        ...,\n",
              "        [    0.000,     0.000],\n",
              "        [    0.000,     0.000],\n",
              "        [    0.000,     0.000]])"
            ]
          },
          "metadata": {},
          "execution_count": 27
        }
      ],
      "source": [
        "(weight[:,None]*X)"
      ]
    },
    {
      "cell_type": "code",
      "source": [
        "def one_update(X):\n",
        "  for i, x in enumerate(X):\n",
        "    dist = torch.sqrt(((x-X)**2).sum(1))\n",
        "    weight = gaussian(dist, 2.5)\n",
        "    #weight = tri(dist, i=8) - can be used instead of gaussian\n",
        "    X[i] = (weight[:,None]*X).sum(0)/weight.sum()\n"
      ],
      "metadata": {
        "id": "gTvVjrHJ5_V9"
      },
      "execution_count": null,
      "outputs": []
    },
    {
      "cell_type": "code",
      "source": [
        "def meanshift(data, iterations=5):\n",
        "  X = data.clone()\n",
        "  for it in range(iterations):\n",
        "    one_update(X)\n",
        "  return X"
      ],
      "metadata": {
        "id": "tluLP0A0__zN"
      },
      "execution_count": null,
      "outputs": []
    },
    {
      "cell_type": "code",
      "source": [
        "%time X = meanshift(data)"
      ],
      "metadata": {
        "colab": {
          "base_uri": "https://localhost:8080/"
        },
        "id": "PldzeA8yAd4u",
        "outputId": "28c2581f-7115-4a98-bfe4-fdbbad101a3f"
      },
      "execution_count": null,
      "outputs": [
        {
          "output_type": "stream",
          "name": "stdout",
          "text": [
            "CPU times: user 1.23 s, sys: 316 µs, total: 1.23 s\n",
            "Wall time: 1.24 s\n"
          ]
        }
      ]
    },
    {
      "cell_type": "code",
      "source": [
        "plot_data(centroids, X, n_samples)\n",
        "plot_data(centroids+2, X, n_samples) # centroids shifted to show the actual data pts"
      ],
      "metadata": {
        "colab": {
          "base_uri": "https://localhost:8080/",
          "height": 843
        },
        "id": "ioIbwGB1ApSF",
        "outputId": "4ccdcb59-da35-4772-e352-d74edf4c6a38"
      },
      "execution_count": null,
      "outputs": [
        {
          "output_type": "display_data",
          "data": {
            "text/plain": [
              "<Figure size 640x480 with 1 Axes>"
            ],
            "image/png": "[encoded data removed]"
          },
          "metadata": {}
        },
        {
          "output_type": "display_data",
          "data": {
            "text/plain": [
              "<Figure size 640x480 with 1 Axes>"
            ],
            "image/png": "[encoded data removed]"
          },
          "metadata": {}
        }
      ]
    },
    {
      "cell_type": "markdown",
      "metadata": {
        "id": "kOHpJiHcGmY4"
      },
      "source": [
        "## Animation"
      ]
    },
    {
      "cell_type": "code",
      "source": [
        "from matplotlib.animation import FuncAnimation\n",
        "from IPython.display import HTML"
      ],
      "metadata": {
        "id": "eaoLmSaCG5YU"
      },
      "execution_count": null,
      "outputs": []
    },
    {
      "cell_type": "code",
      "source": [
        "def do_one(d): #d = frame\n",
        "  if d: one_update(X)\n",
        "  ax.clear()\n",
        "  plot_data(centroids+2, X, n_samples, ax=ax)"
      ],
      "metadata": {
        "id": "yBZ8EwFVK7B7"
      },
      "execution_count": null,
      "outputs": []
    },
    {
      "cell_type": "code",
      "source": [
        "# create your own animation\n",
        "X = data.clone()\n",
        "fig,ax = plt.subplots()\n",
        "ani = FuncAnimation(fig, do_one, frames=5, interval=800, repeat=False)\n",
        "plt.close()\n",
        "HTML(ani.to_jshtml())\n",
        "\n"
      ],
      "metadata": {
        "colab": {
          "base_uri": "https://localhost:8080/",
          "height": 578
        },
        "id": "yTFeYiTEM22z",
        "outputId": "f10ba89d-64c0-4c41-c25c-84da48743a5f"
      },
      "execution_count": null,
      "outputs": [
        {
          "output_type": "execute_result",
          "data": {
            "text/plain": [
              "<IPython.core.display.HTML object>"
            ],
            "text/html": [
              "\n",
              "<link rel=\"stylesheet\"\n",
              "href=\"https://maxcdn.bootstrapcdn.com/font-awesome/4.4.0/css/font-awesome.min.css\">\n",
              "<script language=\"javascript\">\n",
              "  function isInternetExplorer() {\n",
              "    ua = navigator.userAgent;\n",
              "    /* MSIE used to detect old browsers and Trident used to newer ones*/\n",
              "    return ua.indexOf(\"MSIE \") > -1 || ua.indexOf(\"Trident/\") > -1;\n",
              "  }\n",
              "\n",
              "  /* Define the Animation class */\n",
              "  function Animation(frames, img_id, slider_id, interval, loop_select_id){\n",
              "    this.img_id = img_id;\n",
              "    this.slider_id = slider_id;\n",
              "    this.loop_select_id = loop_select_id;\n",
              "    this.interval = interval;\n",
              "    this.current_frame = 0;\n",
              "    this.direction = 0;\n",
              "    this.timer = null;\n",
              "    this.frames = new Array(frames.length);\n",
              "\n",
              "    for (var i=0; i<frames.length; i++)\n",
              "    {\n",
              "     this.frames[i] = new Image();\n",
              "     this.frames[i].src = frames[i];\n",
              "    }\n",
              "    var slider = document.getElementById(this.slider_id);\n",
              "    slider.max = this.frames.length - 1;\n",
              "    if (isInternetExplorer()) {\n",
              "        // switch from oninput to onchange because IE <= 11 does not conform\n",
              "        // with W3C specification. It ignores oninput and onchange behaves\n",
              "        // like oninput. In contrast, Microsoft Edge behaves correctly.\n",
              "        slider.setAttribute('onchange', slider.getAttribute('oninput'));\n",
              "        slider.setAttribute('oninput', null);\n",
              "    }\n",
              "    this.set_frame(this.current_frame);\n",
              "  }\n",
              "\n",
              "  Animation.prototype.get_loop_state = function(){\n",
              "    var button_group = document[this.loop_select_id].state;\n",
              "    for (var i = 0; i < button_group.length; i++) {\n",
              "        var button = button_group[i];\n",
              "        if (button.checked) {\n",
              "            return button.value;\n",
              "        }\n",
              "    }\n",
              "    return undefined;\n",
              "  }\n",
              "\n",
              "  Animation.prototype.set_frame = function(frame){\n",
              "    this.current_frame = frame;\n",
              "    document.getElementById(this.img_id).src =\n",
              "            this.frames[this.current_frame].src;\n",
              "    document.getElementById(this.slider_id).value = this.current_frame;\n",
              "  }\n",
              "\n",
              "  Animation.prototype.next_frame = function()\n",
              "  {\n",
              "    this.set_frame(Math.min(this.frames.length - 1, this.current_frame + 1));\n",
              "  }\n",
              "\n",
              "  Animation.prototype.previous_frame = function()\n",
              "  {\n",
              "    this.set_frame(Math.max(0, this.current_frame - 1));\n",
              "  }\n",
              "\n",
              "  Animation.prototype.first_frame = function()\n",
              "  {\n",
              "    this.set_frame(0);\n",
              "  }\n",
              "\n",
              "  Animation.prototype.last_frame = function()\n",
              "  {\n",
              "    this.set_frame(this.frames.length - 1);\n",
              "  }\n",
              "\n",
              "  Animation.prototype.slower = function()\n",
              "  {\n",
              "    this.interval /= 0.7;\n",
              "    if(this.direction > 0){this.play_animation();}\n",
              "    else if(this.direction < 0){this.reverse_animation();}\n",
              "  }\n",
              "\n",
              "  Animation.prototype.faster = function()\n",
              "  {\n",
              "    this.interval *= 0.7;\n",
              "    if(this.direction > 0){this.play_animation();}\n",
              "    else if(this.direction < 0){this.reverse_animation();}\n",
              "  }\n",
              "\n",
              "  Animation.prototype.anim_step_forward = function()\n",
              "  {\n",
              "    this.current_frame += 1;\n",
              "    if(this.current_frame < this.frames.length){\n",
              "      this.set_frame(this.current_frame);\n",
              "    }else{\n",
              "      var loop_state = this.get_loop_state();\n",
              "      if(loop_state == \"loop\"){\n",
              "        this.first_frame();\n",
              "      }else if(loop_state == \"reflect\"){\n",
              "        this.last_frame();\n",
              "        this.reverse_animation();\n",
              "      }else{\n",
              "        this.pause_animation();\n",
              "        this.last_frame();\n",
              "      }\n",
              "    }\n",
              "  }\n",
              "\n",
              "  Animation.prototype.anim_step_reverse = function()\n",
              "  {\n",
              "    this.current_frame -= 1;\n",
              "    if(this.current_frame >= 0){\n",
              "      this.set_frame(this.current_frame);\n",
              "    }else{\n",
              "      var loop_state = this.get_loop_state();\n",
              "      if(loop_state == \"loop\"){\n",
              "        this.last_frame();\n",
              "      }else if(loop_state == \"reflect\"){\n",
              "        this.first_frame();\n",
              "        this.play_animation();\n",
              "      }else{\n",
              "        this.pause_animation();\n",
              "        this.first_frame();\n",
              "      }\n",
              "    }\n",
              "  }\n",
              "\n",
              "  Animation.prototype.pause_animation = function()\n",
              "  {\n",
              "    this.direction = 0;\n",
              "    if (this.timer){\n",
              "      clearInterval(this.timer);\n",
              "      this.timer = null;\n",
              "    }\n",
              "  }\n",
              "\n",
              "  Animation.prototype.play_animation = function()\n",
              "  {\n",
              "    this.pause_animation();\n",
              "    this.direction = 1;\n",
              "    var t = this;\n",
              "    if (!this.timer) this.timer = setInterval(function() {\n",
              "        t.anim_step_forward();\n",
              "    }, this.interval);\n",
              "  }\n",
              "\n",
              "  Animation.prototype.reverse_animation = function()\n",
              "  {\n",
              "    this.pause_animation();\n",
              "    this.direction = -1;\n",
              "    var t = this;\n",
              "    if (!this.timer) this.timer = setInterval(function() {\n",
              "        t.anim_step_reverse();\n",
              "    }, this.interval);\n",
              "  }\n",
              "</script>\n",
              "\n",
              "<style>\n",
              ".animation {\n",
              "    display: inline-block;\n",
              "    text-align: center;\n",
              "}\n",
              "input[type=range].anim-slider {\n",
              "    width: 374px;\n",
              "    margin-left: auto;\n",
              "    margin-right: auto;\n",
              "}\n",
              ".anim-buttons {\n",
              "    margin: 8px 0px;\n",
              "}\n",
              ".anim-buttons button {\n",
              "    padding: 0;\n",
              "    width: 36px;\n",
              "}\n",
              ".anim-state label {\n",
              "    margin-right: 8px;\n",
              "}\n",
              ".anim-state input {\n",
              "    margin: 0;\n",
              "    vertical-align: middle;\n",
              "}\n",
              "</style>\n",
              "\n",
              "<div class=\"animation\">\n",
              "  <img id=\"_anim_img1216b40927e34ed8ae5243158573660a\">\n",
              "  <div class=\"anim-controls\">\n",
              "    <input id=\"_anim_slider1216b40927e34ed8ae5243158573660a\" type=\"range\" class=\"anim-slider\"\n",
              "           name=\"points\" min=\"0\" max=\"1\" step=\"1\" value=\"0\"\n",
              "           oninput=\"anim1216b40927e34ed8ae5243158573660a.set_frame(parseInt(this.value));\">\n",
              "    <div class=\"anim-buttons\">\n",
              "      <button title=\"Decrease speed\" aria-label=\"Decrease speed\" onclick=\"anim1216b40927e34ed8ae5243158573660a.slower()\">\n",
              "          <i class=\"fa fa-minus\"></i></button>\n",
              "      <button title=\"First frame\" aria-label=\"First frame\" onclick=\"anim1216b40927e34ed8ae5243158573660a.first_frame()\">\n",
              "        <i class=\"fa fa-fast-backward\"></i></button>\n",
              "      <button title=\"Previous frame\" aria-label=\"Previous frame\" onclick=\"anim1216b40927e34ed8ae5243158573660a.previous_frame()\">\n",
              "          <i class=\"fa fa-step-backward\"></i></button>\n",
              "      <button title=\"Play backwards\" aria-label=\"Play backwards\" onclick=\"anim1216b40927e34ed8ae5243158573660a.reverse_animation()\">\n",
              "          <i class=\"fa fa-play fa-flip-horizontal\"></i></button>\n",
              "      <button title=\"Pause\" aria-label=\"Pause\" onclick=\"anim1216b40927e34ed8ae5243158573660a.pause_animation()\">\n",
              "          <i class=\"fa fa-pause\"></i></button>\n",
              "      <button title=\"Play\" aria-label=\"Play\" onclick=\"anim1216b40927e34ed8ae5243158573660a.play_animation()\">\n",
              "          <i class=\"fa fa-play\"></i></button>\n",
              "      <button title=\"Next frame\" aria-label=\"Next frame\" onclick=\"anim1216b40927e34ed8ae5243158573660a.next_frame()\">\n",
              "          <i class=\"fa fa-step-forward\"></i></button>\n",
              "      <button title=\"Last frame\" aria-label=\"Last frame\" onclick=\"anim1216b40927e34ed8ae5243158573660a.last_frame()\">\n",
              "          <i class=\"fa fa-fast-forward\"></i></button>\n",
              "      <button title=\"Increase speed\" aria-label=\"Increase speed\" onclick=\"anim1216b40927e34ed8ae5243158573660a.faster()\">\n",
              "          <i class=\"fa fa-plus\"></i></button>\n",
              "    </div>\n",
              "    <form title=\"Repetition mode\" aria-label=\"Repetition mode\" action=\"#n\" name=\"_anim_loop_select1216b40927e34ed8ae5243158573660a\"\n",
              "          class=\"anim-state\">\n",
              "      <input type=\"radio\" name=\"state\" value=\"once\" id=\"_anim_radio1_1216b40927e34ed8ae5243158573660a\"\n",
              "             checked>\n",
              "      <label for=\"_anim_radio1_1216b40927e34ed8ae5243158573660a\">Once</label>\n",
              "      <input type=\"radio\" name=\"state\" value=\"loop\" id=\"_anim_radio2_1216b40927e34ed8ae5243158573660a\"\n",
              "             >\n",
              "      <label for=\"_anim_radio2_1216b40927e34ed8ae5243158573660a\">Loop</label>\n",
              "      <input type=\"radio\" name=\"state\" value=\"reflect\" id=\"_anim_radio3_1216b40927e34ed8ae5243158573660a\"\n",
              "             >\n",
              "      <label for=\"_anim_radio3_1216b40927e34ed8ae5243158573660a\">Reflect</label>\n",
              "    </form>\n",
              "  </div>\n",
              "</div>\n",
              "\n",
              "\n",
              "<script language=\"javascript\">\n",
              "  /* Instantiate the Animation class. */\n",
              "  /* The IDs given should match those used in the template above. */\n",
              "  (function() {\n",
              "    var img_id = \"_anim_img1216b40927e34ed8ae5243158573660a\";\n",
              "    var slider_id = \"_anim_slider1216b40927e34ed8ae5243158573660a\";\n",
              "    var loop_select_id = \"_anim_loop_select1216b40927e34ed8ae5243158573660a\";\n",
              "    var frames = new Array(5);\n",
              "    \n",
              "  frames[0] = \"data:image/png;base64,iVBORw0KGgoAAAANSUhEUgAAAoAAAAHgCAYAAAA10dzkAAAAOnRFWHRTb2Z0d2FyZQBNYXRwbG90\\\n",
              "bGliIHZlcnNpb24zLjEwLjAsIGh0dHBzOi8vbWF0cGxvdGxpYi5vcmcvlHJYcgAAAAlwSFlzAAAP\\\n",
              "YQAAD2EBqD+naQAAbUZJREFUeJzt3Xl4VOX9NvB7JstkgUxYQkIwLKINSxSRKkQoPxUElLaiIMW+\\\n",
              "FRBUtAkqUAsUkVC1qFgXICoqCtZqivaV1qoIv1jhhYJiCEsQUqWylJCAQiYQkpkkc94/Ds/JOWfO\\\n",
              "TGayzXLuT680ycxZnpkrl3PzLN/HIkmSBCIiIiIyDWuwG0BERERE7YsBkIiIiMhkGACJiIiITIYB\\\n",
              "kIiIiMhkGACJiIiITIYBkIiIiMhkGACJiIiITIYBkIiIiMhkGACJiIiITIYBkIiIiMhkGACJiIiI\\\n",
              "TIYBkIiIiMhkGACJiIiITIYBkIiIiMhkGACJiIiITIYBkIiIiMhkGACJiIiITIYBkIiIiMhkGACJ\\\n",
              "iIiITIYBkIiIiMhkGACJiIiITIYBkIiIiMhkGACJiIiITIYBkIiIiMhkGACJiIiITIYBkIiIiMhk\\\n",
              "GACJiIiITIYBkIiIiMhkGACJiIiITIYBkIiIiMhkGACJiIiITIYBkIiIiMhkGACJiIiITIYBkIiI\\\n",
              "iMhkGACJiIiITIYBkIiIiMhkGACJiIiITIYBkIiIiMhkGACJiIiITIYBkIiIiMhkGACJiIiITIYB\\\n",
              "kIiIiMhkGACJiIiITIYBkIiIiMhkGACJiIiITIYBkIiIiMhkGACJiIiITIYBkIiIiMhkGACJiIiI\\\n",
              "TIYBkIiIiMhkGACJiIiITIYBkIiIiMhkGACJiIiITIYBkIiIiMhkGACJiIiITIYBkIiIiMhkooPd\\\n",
              "gHDmdrtRVlaGjh07wmKxBLs5RERE5AdJknDu3Dmkp6fDajVnXxgDYAuUlZUhIyMj2M0gIiKiZjh+\\\n",
              "/DguueSSYDcjKBgAW6Bjx44A5D+gpKSkILeGiIiI/FFVVYWMjAzlc9yMGABbQAz7JiUlMQASERGF\\\n",
              "GTNP3zLnwDcRERGRiTEAEhEREZkMAyARERGRyTAAEhEREZmMKQLgU089BYvFgocfflh5rLa2Fjk5\\\n",
              "OejSpQs6dOiAiRMnoqKiIniNJCIiImonER8Ad+3ahdWrV+PKK6/UPD5nzhx8+OGHeO+997BlyxaU\\\n",
              "lZXh9ttvD1IriYiIiNpPRAfA8+fP4//8n/+D1157DZ06dVIedzgcWLNmDZ577jnceOONGDJkCN58\\\n",
              "803861//ws6dO4PYYiIiIqK2F9EBMCcnB+PHj8fo0aM1jxcVFaGurk7zeL9+/dCzZ0/s2LHD6/Wc\\\n",
              "Tieqqqo0X0REREThJmILQRcUFGD37t3YtWuXx3Pl5eWIjY1FcnKy5vHU1FSUl5d7veayZcuwdOnS\\\n",
              "1m4qERERUbuKyB7A48eP46GHHsKf//xnxMXFtdp1Fy5cCIfDoXwdP3681a5NRERE1F4iMgAWFRXh\\\n",
              "1KlTuPrqqxEdHY3o6Ghs2bIFK1asQHR0NFJTU+FyuVBZWak5r6KiAmlpaV6va7PZlG3fuP0bERER\\\n",
              "hauIHAIeNWoU9u/fr3ns7rvvRr9+/TB//nxkZGQgJiYGhYWFmDhxIgCgtLQUx44dQ3Z2djCaTERE\\\n",
              "RNRuIjIAduzYEVlZWZrHEhMT0aVLF+XxmTNnYu7cuejcuTOSkpIwe/ZsZGdnY9iwYcFoMrWXXWuA\\\n",
              "bc8DI+YA18wMdmuIiIiCIiIDoD+ef/55WK1WTJw4EU6nE2PHjsVLL70U7GZRW9v2POA4Ln9nACQi\\\n",
              "IpOySJIkBbsR4aqqqgp2ux0Oh4PzAcNFS3oA2XtIRBQR+PnNANgi/AMymeez5N5DewYwpyTYrSEi\\\n",
              "ombi53eErgImahMj5sjhb8Scpo/dtUYOjLvWtH27iIiIAsQASOSva2bKPX/+DP+q5xq2NYZNIiIK\\\n",
              "EAMgUVsIpLewpdozbBIRUUQw7SpgojZ1zcz2WygyYk7j4hQiIiI/sAeQIoOZh0EDGZomIiICAyBF\\\n",
              "itYeBtUHSjMHTCIiijgMgBQZ9HPuWhrY9IGyrebZMVgSEVEQMABSZNAPg7Y0sOkDZVst6uACDiIi\\\n",
              "CgIGQIpMRoHNV2+b/jl9oGzJPDtf923P1cJEREQXcSeQFmAl8TDjayePttzlgzuIEBGFFH5+sweQ\\\n",
              "zCRjKGCJkr/rtUZPnLeevkCvzXmBRETUxlgHkMzj+BeA1CB/11PPHVT/bmTXGvm4jKHytUbMkY9X\\\n",
              "z+dTn6+7dt5Hx5GSkoKcnBzj6297HvmbD+P0xoXI+5SlXYiIqPUxAJJ5NFUw2VuA83ZcVZkcKD9+\\\n",
              "xPj6IiiKxx3HkffoQizddFq5lFEIzD85CLmfHABQC+TlIS8vr3mvl4iIyAvOAWwBziGIEN569Jo6\\\n",
              "LmMocOADOQTGdwJiO2jPfao3UHsWiOsEjFrsEf4AYNXtachZ8IRyTn5+PnJzczXHLFmyhCGQiKgV\\\n",
              "8fObPYBEjT16gO9FGt6OO/AB4DwP1JwFCh9vDIAWKN/zPjruEf4AIPf/lgN4FDl/nWkY/gBg6dKl\\\n",
              "AMAQSERErYaLQIj8XaRhdNy3hXIPoLtO/t2iOv7GxYA9A3nfXqmEOCO5/7ccAy5NNwx/wtKlS+UA\\\n",
              "yAUiRETUChgAifyt8Wd0nAh8MQlyOLxxscfxKVeN9XrJLGQBAA5+d1Lzu5GUlBQWjiYykbd3HsXw\\\n",
              "pz7D2zuPBrspFIEYAMkcRM/Z+zNbrwdt1xpAgjz/b8wTjYs9dNfOycnBqlWrPE6fhmlYiZWYgikA\\\n",
              "gCmYgpVYiWmY5nHsqlWr5AUj3nor2TNIFHFe/vwwTlTW4OXPDwe7KRSBuAikBTiJNIyIYsyWKHnI\\\n",
              "tqVFmXetkVf/qq/lq+DzrjXIf+rRi3P+5J6+lVipPO2AA3bYld9nYzZKIF9DCX/+vD4WmyaKGG/v\\\n",
              "PIqXPz+MB67vi18N6xXs5kQUfn6zB5DMQvScDbwt8ILP+t41dfizRGn3C47rBLjOe/bEbXseOVdc\\\n",
              "wKrb0wAAJSjBaqxWnlaHv9VYHVj4U78+bilHFDF+NawXti+4keGP2gR7AFuA/4Iwiad7yyt84zsB\\\n",
              "849oexNvWa6dE6juidPXBbz484Bpf8TBgwcBABuwQRP+HHBgAiYAAPr374+vv/7a/zI1RBRSWrMH\\\n",
              "j72BrYuf3+wBJDNp7jxASfc9YygACxBt87z+hR/k5zKGehaWnlOC/C9rlfA3BVM04Q+QewLFnMCD\\\n",
              "Bw8iPz+/8ToHPuACEKIwEugcPl+LPjgfkFobAyCZR+HjcoAq+atnkPK1iGLUYnlo13LxuONfAJCA\\\n",
              "ugvyULA4Z9vz8mOQGnvqRE/grjXIn9hdKfWShSzMwizlFg44lJ9nYZayGjg3Nxf5Jwd5H75ui8Ut\\\n",
              "RNQqHri+L3okx+OB6/t6PUYd+nyFPH+uRRQIDgG3ALuQw8iuNcBH8wBIcsmWhC7aodSmFlGIYWBY\\\n",
              "gKyJcv2/2kr5euKcXWuAzx6XewovG9W4W8jhQuRvqUDuJ7WaS07DNEzHdKzGahSgAFMwBbMwC2ux\\\n",
              "FuuwTnOs17mArb24hYja1fCnPsOJyhol3AUyzMth4ebj5zd3AiGz2PY8AEkOSmOe8JxDZ7RPsHov\\\n",
              "X+WfSRd79xYc0T4PyNc8+i95qLb0Y7k30HEc+V+6PMIfAKzDOhShSFnwUYAClFz8n57oOfQIgaLd\\\n",
              "6vmBRBQ29KEvkCCn7jH0dh5DInnDIWAKfS2pcSfOzRjaOIyqrtUnngc8izyLuXcfzQU695YXgUQn\\\n",
              "NK7yNSoMLfYGrrugPHT6gttr80TY659q0/xu5PRpz63klDb0us73+0BE7crfIs6/GtZLCYGBFnz2\\\n",
              "Z1jY17AyC02bGwMghb5Ad79QB0Zx7vEv5KB0/AvttcTznz3uGTLVvWkn98krgBO7yEPB4nx9OB14\\\n",
              "W+M5MQkAgLzr47Dkf2K9NnfVzGH4+sN8pUSMkSX3/Mz3XsDcIYQopOiDl7ew9fbOo1jytxLNsbff\\\n",
              "8zAuvfVBn8EsPz8f3258s8kyMeqQqG8DF5aYGwMghb5Aa9ypw5D+XG+/S/AMUNfMBLImycPGItjp\\\n",
              "z9cHr0lrgPHPyYtGom3y+bDIIXCUdsUvAKy6OQ45GaUedQLVlvxPLPIG/Kd13yMialX6cKXvnfMW\\\n",
              "tl7+/DAaJCDKIp+Tl5eHD9a8iO/+vhKPLfuj4b3y8/ORm5vbuEe4D+pagvo2cGGJuXERSAtwEmmI\\\n",
              "Us/N87denn4+X+Hj8qpfsbev+nr6Yz97HKh3yj9LAGIuloepOdsYHi/Oz8t7dCGWbpKHclfNHCaH\\\n",
              "PxEuD3wADLwN+RVXK3P+ltzzMzn8sfYfUaswmhPXGvPk1Is5ti+40a/76h//duObWLp0qeY8/QIw\\\n",
              "Ef7UlixZ4hEE2+p1Rgp+fjMAtgj/gMKIt2LK6pW7oxbLj4mVtYDcqwZoVwiL5+M6AbYO8pzAmrPa\\\n",
              "+8V1ApxVnitzd61B3qMLkZLRFzkDzzW2Q1dAOv+pR3G68zXIe+3v7fYWEZmB0arbamc9KmvqvIY3\\\n",
              "fzz4bjE+2leG8VemY8WdgwM69+2dR7Hw0cfw38K3DJ8XIdAo/An6ENhUIDU7fn5zCJgijbcFI/pi\\\n",
              "yoUX5/wVPi6Ht9qz8s9A45Zu8Z3kwOg6L/8uevwyhso9ew1O+VoS5GOtMQAs8ncLjOv2XTMTeU8s\\\n",
              "Q84lBxvbIe6p2j0k54oL3od9W7IopjWvQRSG1MOeYkgUQIuHQouOnkWDJH8PlK/wB8hVAAYMGOA1\\\n",
              "/AHwGA4Oh+FdLkIJLgZAiiz6OXlGq4DtGXJAcxyXv8v/p3zDNTPlMi83LpYDY81ZuadPDMEe/0Lu\\\n",
              "2YuyycEPkI/tmAZAAtx18jklf9UO3Yq2FD4Opa5Mg7PxnmJFcVPz+VpjwQcXjZBJqefEiZD0m7GZ\\\n",
              "Ld5z19dii6bceNVlXp8TReHFDkLidyMpKSnKz+GwjzAXoQQXAyBFjl1rPHvr9KuAJ62Rv9+4WA5Z\\\n",
              "Ny4Gxv+x8We1zx6Xgx4sjdd7fybg+K+8wveyUUBNZWPvYcZQXYOkxpIzz2fJ19OHTgmePXH68jL6\\\n",
              "3rrWWPDBRSNErRaS3t55FM9+Wooz1S48+2kpnv201K8VwMK6Zxdj1apVHo9PwzSsxEple8gpmIKV\\\n",
              "WIlpmOZx7NR5vzcuFh/CwqGXMpIxAFJ4MhrC3PZ8Y28doO350wcd0dMmesD0geup3nK4A4C45Mbn\\\n",
              "DnwAeRu4msafAbkn7/gXFy9ukQNi3MUh5I/mycGvzukZOmNs8nPqLeX0r68teuuMahgSmZC/vXVN\\\n",
              "7dNbWVOHmroGVNbUAYBfK4DV17UP+akmBGYhC9MxHYC8PeQGbFC2j5yO6ZqewFWrVmHds7p/wLbg\\\n",
              "tbaXcOiljGQMgBQ+mgpFunl0mp4/o6DjLVhte17u1YMEwCIvDhG6Xyl/t0Zf7B28KNrWeP/xfwQW\\\n",
              "nZTPU4fE+prGIWERwG5c3LiNm7odvkrZ+BMIOcePyFBza+E1tU9vcnwM4mOikBwf4zGk7KunS33d\\\n",
              "nJwcJQSWoASrsVo5zo7GMlKrsVopGu91m8gAXwOZDwMghQ9foQjwfx6dfl6g/hjN76phXACo/l7+\\\n",
              "HttBPjdrUmOvnrpX8dXr5R1ExBAyLPK1PporDyOr23zLcs92iIUmHsPK8G/4lnP8iAw1txbekF6d\\\n",
              "EGWRv+v9algv7FkyBgcfH4ffjM3Es5+W4qqlm5SQ6a2n6+2dR1HtrEdyfIxy/5ycHPTv3x+AvD2k\\\n",
              "Aw7NOQ44UIACAED//v014U8dbo16+zjkSmoRWwbm5Zdfxssvv4wjR44AAAYOHIjHHnsMN998MwCg\\\n",
              "trYW8+bNQ0FBAZxOJ8aOHYuXXnoJqampft+Dy8hbkT+1+/yt79fUceqSK3NKjM8Te/pG2+Rt3ewZ\\\n",
              "chgr+SsQE2+8n7D62mrjn5O/fzRX/m6JApac8d5+fRuBi3MHo+Sw6M+wbXNqIRKZgKiFN6RXJxQd\\\n",
              "Pet3TTxRViXKAiy9NcvrOeI4AEiOj0GiLdpr7T9RfkZ9nKPoH8pq3ymYogz7qq3GaiUErlq1CvYh\\\n",
              "P/UoZwOAZWB84Od3BAfADz/8EFFRUbj88sshSRLWrVuH5cuXo7i4GAMHDsQDDzyAjz76CGvXroXd\\\n",
              "bkdubi6sViu2b9/u9z34B9SKvIWy5niqtzyEG50gb92mD0HewpG+De/PlAOfNRqIilHt72sB8iqN\\\n",
              "7y3OEcPHWRPlhSeA3CtYVgykDwbu+9z3a9AXm/74Ec+agkTUbEZ18nwVTx7SqxM+2leGBgkeoUp9\\\n",
              "HgA8+dHXqK1zI9pqQZ1bQnyMFZ0Tbcp1xb1F8DtT7URNnRv1+z/BiY/zAchzAFdipXIPBxyaYeDZ\\\n",
              "mK0MA/f5+Wy4+4/VBEkALPrsAz+/IzgAGuncuTOWL1+OSZMmISUlBe+88w4mTZoEADh06BD69++P\\\n",
              "HTt2YNiwYX5dj39Arag1e6ye7n2xMPPFYVd/Q5O+DUs7a+f5CTEJ8hw/o3Od5y/OH4RnT59oV3wn\\\n",
              "echYFKb+tlBeRCJ2ERHDyb7aRkQtog97Yk9efcAzKhwteg/Fd9HzJnoH1fUF1ZLjYwAAznp5aogt\\\n",
              "2qoMGR/f/gHObH5Fc/w0TMN0TFd6/ESP4FqsxTqs0xzb5+ez8fuF85TX4m/4M+vuIPz8NskcwIaG\\\n",
              "BhQUFKC6uhrZ2dkoKipCXV0dRo8erRzTr18/9OzZEzt27PB6HafTiaqqKs0XtZLWXJUqSrxkTWwc\\\n",
              "ulUviPC2QEK0AZCf736lHOLEMCwgh78xT3jeU8y5s1w8BpbGLd4ESfVdHF/yVzkw1l0A6i/IAVE9\\\n",
              "b0+0FTB+f7jYg0yuuStb9fPyxJ68AHCm2ul1T18A2Prv0zhRWYOP9pXhRGWNsvK3QZJ7/8Q58THy\\\n",
              "R2x8jBU9kuPhrHdfXC3shqteXjH88ueHMejcFx7hDwDWYR1mY7Yy3FuAAszGbI/wBwDf/X0lHEX/\\\n",
              "UF5LU6uOA10EQ5EnogPg/v370aFDB9hsNtx///344IMPMGDAAJSXlyM2NhbJycma41NTU1FeXu71\\\n",
              "esuWLYPdble+MjIyvB5LQSSCnKj5d/wL7YKIphZIiOerv/ecq5fQxTikikUbfUfJvYN5lUCv67Th\\\n",
              "bNTFYDpqceNCDmt04zWiE+TeQfXiDn/bqi8jQ2QSgQQYX2Hxgev7Iupiec6aOrfh9cS9Kmvq5M1+\\\n",
              "0u1K/Xihts6thMtF4wegR3I8bhqQdvHZxgG32Gh5xfCQXp3w2Z5vvbZZDPPGd+up+d1IYfE3GP7U\\\n",
              "ZxjSq5Nfq47F6+bCEHOK6ACYmZmJPXv24IsvvsADDzyAadOm4euvv2729RYuXAiHw6F8HT9+vOmT\\\n",
              "KPj0q2abWiHsPK8NYuqt4bytvBW7gyi1AOEZ3tS9nGLFsLtefi6+E/DoSWD+EW3AbGrF74g5xmVk\\\n",
              "iEzC3wAjhni9hcVfDeuFpbdmITk+RrMqVwSmJz86iDLVsK4E4ECZA3Ex2o/RuJgoj4Apegxr6tyI\\\n",
              "j7EiOT4GNXUNOFdbh63/Po2oH0/GJaOmem37qlWrcKHiqGGxaOG2mQ9hb8pNSs+ktyFdUbKm2lmP\\\n",
              "t3ceZS0+E4voABgbG4vLLrsMQ4YMwbJlyzBo0CC8+OKLSEtLg8vlQmVlpeb4iooKpKWlGV8MgM1m\\\n",
              "Q1JSkuaLwoB+aBfwXRuw9qxc5kU8L7aG04czNRHUMobKi1Ce7q0tM+OtcDUkOcCpdyFRH9vU0Li+\\\n",
              "jAyHhMlk/A0wz35aigZJnqXhKywm2qLxm7GZHjX8ausaxNIuJMfHwAIoQ8ZRFuDng9LRIzkeNXUN\\\n",
              "SsB88qOvcaKyBtXOeuX6NXVujPxRCqIs8vnVLvm5uGt/gWtvv8+jPWKVrygWPXXe7z2OWbJkCf6T\\\n",
              "cYvSngZJfr1GvZ2/GtYLibZoZfiZzCuiA6Ce2+2G0+nEkCFDEBMTg8LCQuW50tJSHDt2DNnZ2UFs\\\n",
              "IbUpf2rjGfW4GYUq/WMiqB3/Qg6QNWe1Rah9Fa7Wl3ZRHyvu8/5M78FOHRJZ/4/Ip7gYK17+/LBH\\\n",
              "MFL3EC75W4lSS08s+oiLiYIFwM8GpWPPkjF4fEIWeiTHwxYdhQZJ7uXT1/SrrXMDAOrdEn4+KF25\\\n",
              "V9HRs1h6axbiY6JQdzG11bklOK+cqOkJ7PPz2SjtfB0Wb5Db9eynpfi263B0vul+5ZjbZj6EzXEj\\\n",
              "4ayX7yXmGwLwWbiaw74U3fQh4WnhwoW4+eab0bNnT5w7dw7vvPMOPv/8c3z66aew2+2YOXMm5s6d\\\n",
              "i86dOyMpKQmzZ89Gdna23yuAKYyIFbSiqHKg+9+qQ5UIavrH1Pdwnpe7CdT3EQWi9YWrjXr21MeK\\\n",
              "+1SVNQ7z+looY3QfoggU6OrV34zNVGrlqYORuIZ6EUiDBOX5E5U1KKusgQS552/FnYMByD1pvxrW\\\n",
              "Cw++W4yP9pXBWd+Amjo3eiTHK+352aB0fLSvDOOvTFfO+2hfGYb06oRfDeuFJX9rnM8XY5VnE0b9\\\n",
              "eDKSa+uQaO8Md/+x+PveMuUYR00dRv4oBbjxDsT0sOPw8ZP4T8YtqKysQXyMFVEW4KYBaVhx52CP\\\n",
              "0jRqou1kbhEbAE+dOoWpU6fi5MmTsNvtuPLKK/Hpp5/ipptuAgA8//zzsFqtmDhxoqYQNEUgEaKA\\\n",
              "psvBGIU9o1Clf0x9jwVH5O+i9069/Zs/9MeKYHn8i6aDnThXf2+iCKNezOBPmBGhRx2Mnv20FJU1\\\n",
              "dXj201L07JxwsdxLHACLZg7gmWoXauoMSkJB7s1rkABbdBRs0VGauXUr7hysBD/1sVv/fRrDn/oM\\\n",
              "A9Pt2HdC3umjW1IcHri+L5b8rQT2Ef8H8TFWuOrdSigF5HmHRUfPYvuCGzH8KSAqVZ6T2CM5HtXO\\\n",
              "etTUuVF09Cze3nkUz35a2rw3lkzDVHUAWxvrCIWJQGroNbfe3q41wGePy/+FHnWxjl9rFrcOVDDv\\\n",
              "TdQOfBVt9rdX8Kqlm5SdOM7V1qFBkufzHV423ue91L9/+d0ZpZev6OhZn7tviN7C2Gir0lsoCkyL\\\n",
              "XkL9LiHxMfKxgNw2cR/9Tibi2up2AJ5Fq0nGz28GwBbhHxABaAyNF36Q6/nFd5IXjOjDpFG4bKsC\\\n",
              "zywcTSZktLuHL96CnLrXrqn7AFB29RDUi0jU91q8oQQSgPiYKHROjFWGnvWFptW9j0N6dcLWf58G\\\n",
              "AIz8UYrX3UjUW9WNvzJdOceoLcTPb4ABsEX4B0QAVPv/Xtx5JK5T4zCw0XHqXjn21BG1mrbY1cLo\\\n",
              "mureNgD4cG+ZUuHPW/hU7xGs3hoOgMeQdHJ8DPYsGaM5T99LKXr6jHYyaWq/YuLnN2CyVcBEbUKs\\\n",
              "5hU7j4xa7Ps4/VxCX3X+/MHSL0QA/C8JEwijQtNiLl/R0bMoOnpWCX9RFu8lZkT9veT4GNiiozTz\\\n",
              "F0Wb5S3ioHx/e+dRZWUxAE24E8O86nZ1jGssT8MSL9SUiF0EQuSX1hgq9XeBh9FxgSwO8cZo4QpR\\\n",
              "hGrLvWv1K2fFECwgBzh1WZhqZz2qnfUY+aMU5ec6t4QnPzoIAIbzEkWvnvo6w5/6THkttugo1NS5\\\n",
              "YYuOUu5fWVPnMTys3r5O3VbRe5hoi2aJF2oSh4BbIJS6kM8WFOD7V19D1/vuRacpU4LalrASCUOw\\\n",
              "nO9HJhLoPD/Bn+BoNLdPfR/1ohEAmuHavgs/Ulbsqs/x1V7xXHyMFbV1bkRbLZpC1N7a7C2oqoeE\\\n",
              "A9WWwToUhdLnd7BwCDhCfP/qa6gvK8P3r74W7KaEBzFsqt6tw9dx+uHVUBp2bWq3EKII0twixv7s\\\n",
              "Gay+dqD3GZhuV34WvYbqIVyj6zTuMuKGBLkYNNDYe+htSFv9WsTPYtFHcwWypzJFBgbACNH1vnsR\\\n",
              "nZ6OrvfdG+ymhAcxbKrercPXcfqdNQLZcSOUwiJRmGvuPD91oHt751HDbdKaus9vxmaiR3I8fjM2\\\n",
              "U/MzAPxQ7VKOKzp6FkDjsKz42Whbtu0LbsTPVLuEBPpaxM+A950/Ar0mmQOHgFuAXchhRD1MCgCF\\\n",
              "j8uLdm9c7LvnTL3DhyjE7K2kizdimNkS5bntGxG1O2/DsupSKktvlfcN9zYsqi8h8+HeMkRHWZAY\\\n",
              "6zmEK2r6+Rq29me411foNRoW1v9shqFdf/HzmwGwRfgHFEbUc/2AwOf9+TtX0Futv48fkbdyC+e5\\\n",
              "hkRhJtBQpS6l4m0eoFGoK3fU+CwiLXblGPmjFMMizr6ow6rRQpCmzjF6DcTPb4BDwBTJ1EOv6nIr\\\n",
              "zSm94u85RkPD18yUe/5aWu6FiALibV6b0fCuCHbjr0z3OQ9QXBOA8pyY/6eeByiI2n4AsPnrcpyo\\\n",
              "rMHf95bhRGUNlvytxOcwNKAdmvV3nl5L5jKSebAHsAX4L4gQF4wVvv7s/kFE7SKQla1NrS5Wl27R\\\n",
              "994ZnSuOF/sIJ8fHwFFTp9QMvFg2PqCePbOt1G1L/PxmAGwR/gGFuFAIX5FQZobIBNRDtUbbp/kK\\\n",
              "iCKYdUmMxYEyh2Y/XnVdvi+/O4O/7y0DIG8H56pvULZt0+8Aot5tpKmt6Zp6XQyNnvj5zSFgaidn\\\n",
              "CwrwzY2jcLagoP1uGgrlUVpjpw8ianO/GtYLibZoVNbUGQ6x+hpKFUPKB8ocaJDkreFE+ZffjM1U\\\n",
              "hptX3DkYT0zIQo/keNiircpuIkbEnr8f7SvTPO7PCmY1lnchbxgAqV2Ytk5hc0MoS8cQtTt/Qp5R\\\n",
              "L5oIZQPT7YiyAHExVlTW1CHRFu1xvLiOKCPzwPV9PUrKAPJev2LPX7VAAx3nAJI3HAJuAXYh+689\\\n",
              "diqJqN1QOHRM1G5aOkyqHx5ui2FXX3MQKXD8/GYPIDVDc4ZzO02Zgss/K2zTYBaSvYzN7cnj0DFR\\\n",
              "u2npMKm+yHRbzLkTbSw6erZZhbCJ9BgATaY15uKFZNBCiO6GEsiOIWqhMH+RyCRaOkyqHh5uqzl3\\\n",
              "HMql1sYh4BYIxy7kb24chfqyMkSnp+Pyzwp9HuttSDXQx00tFFYiE1G74arb8BCOn9+tjQGwBcLx\\\n",
              "D8hXSNM/F0hYBAILl0RERMESjp/frY1DwCbjay6efmg30CFVcXzC4MHtX/KFiIiI/MYASAp94At0\\\n",
              "4YY4/kJxscccwby8POTn5wPwPg8xPz8feXl5rfNiiIhCVKC1/IjaQnSwG0CtqyXz8DpNmeLzHH+v\\\n",
              "3fW+e5XjADn8LV26VHl+zF//rxIQxXXy8/ORm5urHMMgSESRSr1QhPMEKVjYAxhhmrtCV/TKnZj3\\\n",
              "G6/Dt96ure/R6zRlihIC50+apAl/ubm52NC7l6anUR/+li5dygBIRBGLK3opFHARSAuE4iTSpnrp\\\n",
              "jJ4/Me83qProI/mAqCigocFwIYe3axst/vjmxlF4Yd9evPTDD4btfObuuzHhyFFs6N0Lv33zTcNj\\\n",
              "lixZwiBIRCGBq3sjSyh+frc3BsAWCMc/IKOwdnBgFtDQAACwxMXBYrOh25yH/RpCPltQgFPPvwAA\\\n",
              "mnPmT5qEZ/76V5/nXhobi/+4XD6PYQgkolCg3+2Dwls4fn63Ng4Bh7lACzurF3qIc+P69wcsFgCA\\\n",
              "VFsLa2Ki195D/b2+f/U1uB0Oj3N63nCD1zZkIQsAlPAnfjeSeOwYVxQTUdBx2JYiDQNgmAt0zp96\\\n",
              "Za8413X8OGC9+KcQFeW17IvRvbyVisnJycGqVas8rjEN07ASKzEFclicgilYiZWYhmkex65atQoT\\\n",
              "jhwNyV1HiMhc1Lt9EEUCBsAw15Ltz8S5AOQh4KgopC1+1OvQr1GdP/WCD9FLJ3oKf9mlC565+27l\\\n",
              "/CxkYTqmAwBmYRY2YANmYRYAYDqma3oCV61ahZycHL9fX2tscUdERGQWnAPYAqEyh8DbPLxAzlcv\\\n",
              "7lD/DsBj4Ufp0GHysK/djswvdnrMK1T/DgBvHTiAJ05VAJB7/EToU1uN1SiAHN4eu/xHWPrv0oBe\\\n",
              "A3chISIif4XK53cwsQcwApx6/gW4HQ64HY5mlX/RBzwx1Fv++BM49fwLTQ7B6nvp1L93ve9eTB04\\\n",
              "ED/q0QMAUIACOODQnO+AQwl/fePi8PDvlyJQLekJJSIiMhsGwEhisQQcgIzm9SUMHiz/cHFlsBj2\\\n",
              "LR06DKVDh6HDiBGw2u0AoAwDX/5ZIS7s+goHB2bhwq6vlGFhANg08Xb8+8QJAHIPoB12TRvssCtz\\\n",
              "Ag/X1uIdL6VjfAl01xIiIiIzYwAMQ/r5bt3mPIzo9HSkLXmsyZ089PPkjHrOLhQXKz93GDECl39W\\\n",
              "iPPbtim9jBeKi2FNTITb4UD5408o16vauBFoaEDVxo1KsHzhsSVKkecsZGmGf9U9gbMwS5kDmJub\\\n",
              "i+UzZrTkLSIiIiIfGADDkL7Xzt/eL3HeqedfUHb9+P7V1xDduTPKH38CJ+b9BoCqBxByqDsx7zdw\\\n",
              "V1XJD1zsZVT3Eop2JI0bB0RFIWncOHS9714UuN34/Tf/Vq5VghKsxVoA8py/CZiA1VgNAFiLtShB\\\n",
              "iXLsb998U9k7mIiIiFoXF4G0QLAmkTZ3v19xnru6Gm6HQ9n1QxEVhf4HSpQFFerH1auEAaB86e8B\\\n",
              "SQIsFsOex+UzZnjd4SMLWZqwp/9dbdWqVfhlly7N3t+YiIhIj4tA2AMYlpo7302cJ4aMk8aNQ3R6\\\n",
              "OuKyspSeO6BxWFg8Hte/vzzEfLFEzPevviaHPwCwWPD9q6957CF87J//9NoOEfYujY3V/G7k9OnT\\\n",
              "zd7fmIiIiIwxAIYRf2vdNXWcCII9/vgsut53L1zHj8PaoQMSrvmxpnex/swZoKEB9WfOaAKnZqGJ\\\n",
              "2436sjJUbdyoCWkLbp+IX3dN8drGxb164R99LsWj3VK9HiO2gdPXH9SHTSIiIgoMh4BboL27kP2t\\\n",
              "dWd0nLfafqKEDAAgKgrWDh3gdjhgiYuD5HTCYrMhdcF8j97GE/N+g6qNGxHXvz/qz5xBwuDBuFBc\\\n",
              "rAzTijas+uEHvPT9ac256mFdd3U13j5yRKkTKPx24kQ8/f77hq9LYM0/IiJqDg4BR3AP4LJly3DN\\\n",
              "NdegY8eO6NatGyZMmIDSUm1x4draWuTk5KBLly7o0KEDJk6ciIqKCi9XDD5/a90ZHaceRvU6pKoq\\\n",
              "+yI5nYAkQaqrMxxq7vHHZ9H/QAn6vP+e0psowtg3N46SF4lERSG3Sxf8uktX5Tyxw4d6OHrqwIGa\\\n",
              "HUN+3aULZhz/r+HrQlSU/IuPLeuIiIjIt4gNgFu2bEFOTg527tyJzZs3o66uDmPGjEF1dbVyzJw5\\\n",
              "c/Dhhx/ivffew5YtW1BWVobbb789iK32zd+5f/rt2c4WFMBdXQ2r3a4UZxYBUZkPOH48otPT0W3O\\\n",
              "w7j8s0Ik3XKLMv/PaLjV2zCzCJdVH32kBMrcrl2Rk94Dj13+I/yySxfNNURP5CNvvCGHw/QeyO2a\\\n",
              "AndVlcfWcgCQtvhRzXxEIiIiCpxphoBPnz6Nbt26YcuWLRg5ciQcDgdSUlLwzjvvYNKkSQCAQ4cO\\\n",
              "oX///tixYweGDRvW5DVDuQtZPQwsVv2KrdvUvK0oFkO8lpgYSLW1ynCrOL7h7FlINTWw2u3oNudh\\\n",
              "fP/qa0gYPBjnCgsh1dY23sBiQXT37mg4cwZSba2mDfqharGlnbuqCpAkw63lOORLREQtFcqf3+0l\\\n",
              "YnsA9RwX57l17twZAFBUVIS6ujqMHj1aOaZfv37o2bMnduzYYXgNp9OJqqoqzVeo8ne4WD8cLHrb\\\n",
              "qj7+GGhogOR0Ijo9HdGdO+PgwCxUPPU06svKINXUAADc586hPG+p0uunD39Jt9yCyz8rhMVmUx4W\\\n",
              "90gYPFjTxu9ffU2Zj2iJi4O7uhpnCwq4zRsREVErM0UAdLvdePjhhzF8+HBkZcm7TZSXlyM2NhbJ\\\n",
              "ycmaY1NTU1FeXm54nWXLlsFutytfGRkZbd10hb8rgAX1cLEY5u0252GP48RcvYTBg3G2oADljz+B\\\n",
              "+rIyObBFRSHpllvQ9b57UVtSogmElvh4+QJut8c1rXY70vKWoP/Br9Hjj88CaNytpMOIEco9LhQX\\\n",
              "G84bFHMPxd7GgZa9CfS9IiIiMhtTBMCcnByUlJSgoIWBYOHChXA4HMrX8ePHW6mFTWtJLTx1gNKH\\\n",
              "owvFxUBDAy4UF8vXvljwOXXBfPQ/UIIef3xWc8+4gQMBAB1vvFFTKxDWi39K0dGwJibiwq6vlL2D\\\n",
              "NfsFX7yfCJ3f3DgKp55/QQmEYo6fqFHYnF4/1g0kIiLyLTrYDWhrubm5+Mc//oGtW7fikksuUR5P\\\n",
              "S0uDy+VCZWWlphewoqICaWlphtey2WywqYYy25J+bp5Y1CFCkyi7kjB4MM5v26aUbOk252GfPWUi\\\n",
              "HJU//gQAKNfVl4e5sOsrlD/+BJLGjUPC4MGoqqhA0rhxuFBcLIc1QFNipjxvqXyD+np5OLiiQlkE\\\n",
              "IoKY2HauXnctq92uhL1OU6Z4bb+/O6DoXxMRERFpRewiEEmSMHv2bHzwwQf4/PPPcfnll2ueF4tA\\\n",
              "3n33XUycOBEAUFpain79+oXEIhBvCx+UWniq7dnU27npF2uow5K3RRZ6mkAXFYXo1FQlqElOJySn\\\n",
              "E0m33KIM7xrV54vu3Bm1Bw4odQRF8FTaa7HAYrP5DK1iIUrSuHHo8cdnm6xv6CsUNnf7PCIiijxc\\\n",
              "BBLBQ8A5OTl4++238c4776Bjx44oLy9HeXk5ai4uXrDb7Zg5cybmzp2Lf/7znygqKsLdd9+N7Oxs\\\n",
              "v8JfW/O28EE8LoZIk8aNg9VuhyUuTinzop7Lpx4GFYssLHFxyhCskVPPv6D8nDRunHJPAPIiD0nC\\\n",
              "heJinC0oQOnQYag/3Vjo2RIXh8s/K5R3Ebk4l0/fbmWeX20trImJXgNZ1caNQEMDqjZu9Chlo35N\\\n",
              "/gz3cliYiIioUcQOAb/88ssAgOuvv17z+Jtvvonp06cDAJ5//nlYrVZMnDgRTqcTY8eOxUsvvdTO\\\n",
              "LTXmbSjU1xCp8M2No5TeQXVYEkOj7upqSDU18nw8H6x2u9LLJ+YPinDosYsIoMwdFM+XP/4E0NCg\\\n",
              "GY5NuObHSLjmx5rreJM0bpzSAyjCa3R6uub1+zvcy2FhIiKiRhE7BNweQrULuanhTv02bvrjvG0b\\\n",
              "p79W6dBhSgAU9QC9XUf0wAVay09cQ7/VnD+vk4iIyEiofn63p4jtATSzpnoJxUrc2oMHlR46b6FK\\\n",
              "zLsrf/wJXNj1lbLw5EJxMWIzMlB7/jzi+veH6/hxpVdPXOvCrq9QX1GBC7u+alYPnBjKRkMDzldX\\\n",
              "w5qYqHlePazLAEhEROS/iJ0DSJ7UBZitdjsssbFNzqlT9t+9OBevvqxM+S4CZO3Bg3A7HErdPn0x\\\n",
              "6aqNG/2q5acvUaMuSwPAYw4fC0QTERE1DwOgCYhgpa63Z01MlLdy0y3C0IeqTlOmeNTmM/putduV\\\n",
              "MClCpFJMety4Joszny0oQPnS36O+rEwzP1Ds+ysKSavDXiAFolkcmoiIqBHnALZAOMwhUA+jWu12\\\n",
              "WBMTm5zb5+91vZ2vXiwi5gU2tZ+vupSM0Z7FLcX9hImISAiHz++2xh7AMOZPr5YyjGqxAICm2PLl\\\n",
              "nxXiwq6vcHBgFk7M+01A92qqrIr7/HllSFjc19dwbdf77lV6EY22rGuqPU3hcDEREVEj9gC2QLD/\\\n",
              "BeFPr5boqXNXVytlVNTHHhyYpcyz63+gxOs19L2I0Z07o/bgQaVIs1G7EBWFtMWPtmiBhreeRvbo\\\n",
              "ERFRcwX78zsUsAcwjCUMHuyzoDPQOE9OP4dO9KDF9e+vzNMzog5/6sUYYgGIUS1B9dw99epif3rs\\\n",
              "/O1pZI8eERFR87EMTBgT5VyaKugMNJZmUe/LK+bceev5U46/GP7SFj+qPKauy2d0L31ZGdED2VTJ\\\n",
              "Fn1pF7EPsT7k+lMQm4iIiIyxBzCM+eoFM+pxU4cro3ONztH35okexYRrfuxXG9VB058eO32vZiAh\\\n",
              "l4iIiPzDOYAtEMpzCIzmyDW1c0Yg8+r8PTbQ3Tr01+VuH0RE1NpC+fO7vbAHMEIZ9fA1VTcvkHl1\\\n",
              "/h4bSK0+o+sGej4RERE1jT2ALcB/QQQXeweJiKg5+PnNHsCIF8k7YDRVi5CIiIiMMQBGuEgOSSwF\\\n",
              "Q0RE1DwsAxPhxN68kRiSWAqGiIioeTgHsAU4h4CIiCj88PObQ8BEREREpsMASNTK1peux5j3x2B9\\\n",
              "6fpgN4WIiMgQA2AEiuSVv+Hw2l7f/zpOVp/E6/tfD3ZTiIiIDDEARqBIXvkbDq/tnivuQffE7rjn\\\n",
              "inuC3RQiIiJDDIARKJLLo4TDa5ucORmbJm3C5MzJwW4KERGRIa4CbgGuIvIfd+0gIqJQwc9v9gBS\\\n",
              "OwmHoVsiIiKzYACkdhEOQ7dERERmwQBI7aLTlCm4/LPCoA7/sjwLEVHT9m7+GK/lzMDezR8HuynU\\\n",
              "hhgAyTRYnoWIqGlfbngfVd+fwpcb3g92U6gNMQCSabA8CxFR066dMAlJXbvh2gmTgt0UakNcBdwC\\\n",
              "XEVEREQUfvj5zR5AIiIi0+O8P/NhACQiIjK5lsz7Y3gMTwyARG0o0JXHXKlMRK0lkGDWknl/XDQS\\\n",
              "nhgAidpQoCuPuVKZKHK1d09ZIMFs0E234N78NzDoplsCvg8XjYQnBkCiNhToyuOWrFRm7yFRaGvv\\\n",
              "nrL2CmYtCY8UPFwF3AJcRUShZMz7Y3Cy+iS6J3bHpkmbgt0cItLZu/ljfLnhfVw7YVKrh6W2vHYk\\\n",
              "4uc3ewCJ2lR79sqxziFRaGvLnjLOw6NAMQAStQER/FbsXuExp68lodDXuZMzJ2PTpE2YnDk54HOJ\\\n",
              "KLy1dLiXK3nNhwGQSKW1QpJYzOFscMJqsWJwt8EezzVnoUewziWi0Nbc3kUR/LYVvMUeRJOJ2AC4\\\n",
              "detW/OxnP0N6ejosFgs2bNigeV6SJDz22GPo3r074uPjMXr0aHzzzTfBaSyFjJaEJHV4FMOxtigb\\\n",
              "3JIbxaeKleP0Q7V5eXnIz8/3ee38/Hzk5eW1aJiXQ8REoStYPXBi6BiShSt5TSY62A1oK9XV1Rg0\\\n",
              "aBBmzJiB22+/3eP5Z555BitWrMC6devQp08fLF68GGPHjsXXX3+NuLi4ILSYQsE9V9yD1/e/3qyQ\\\n",
              "pA6PYih2fel6LN+1HOXV5Zi/dT6eHvk0JmdOVoZp8/LysHTpUuUaOTk5ys/rS9fj9f2vI2NfBt54\\\n",
              "/A0AwBIswaa85i3wUN+XiEKLeg5fc3rxmrsA5NoJk7h4xKQitgfw5ptvxhNPPIHbbrvN4zlJkvDC\\\n",
              "Cy/g0Ucfxa233oorr7wSb731FsrKyjx6Ciky+Du062seXVPXuOeKexAXFaeEPXE9l9sFCRI2Htmo\\\n",
              "OV4f/nJzczU9ga/vfx0lfytRwh8ALF26FHl5eU2+3tbAOYNEbUff4xesQsyDbroFJ1J6Ytu/v/N5\\\n",
              "nBiFaA2cbxgaIjYA+vLdd9+hvLwco0ePVh6z2+0YOnQoduzY4fU8p9OJqqoqzReFh9aY//bi7hdx\\\n",
              "svokXtz9ouZxEZQAGIa9cb3HwWqxon/n/kqguiP3Dk34E9QhMGNfBk6+fdLjmPYKgZwzSNR29KHN\\\n",
              "1xy+pgLTtRMmIS6xI1y1FzTH+BO0xD9Ec3Nz8cuR2YbH5ufnIzc3t9X+28MVy6HBlAGwvLwcAJCa\\\n",
              "mqp5PDU1VXnOyLJly2C325WvjIyMNm0ntZ7WmP9mgQUA4GpwaXrG1EFJhL1xvccp5z098mnsnboX\\\n",
              "Z2rP4GT1SSxcvBDv53v/D19ubi4uuewSTc+f3tKlS9F3ct827Z3jnEGiwPnbu+Wrx09/DaPAtHfz\\\n",
              "x8ifcSfyZ04BAMTGx6P2/HnNMd7OE9fWj0K8+/924snHFmvaIsKf0BohkDuHhAZTBsDmWrhwIRwO\\\n",
              "h/J1/PjxYDeJ/KQf2vVneFN/zINXP4ik2CQ4G5w4WX0Sy3ctx6C3BqFzXGckxSbhQt0FDEkdgkVD\\\n",
              "F6H4VLHHtUWgurTHpV7vmYUsAMCJwyc0vxupsdW0ae9cU2VliMiTv71bvnr89NcwCkxfbngftdXn\\\n",
              "lNBndIy386q+P4VHf7fIcBTivZ27lVEIffgTWhoCuXNIaDBlAExLSwMAVFRUaB6vqKhQnjNis9mQ\\\n",
              "lJSk+aLw5M/wptEx5+vOQ4IEq8UKZ4MTbsmNg2cOIjEmEQ6XA6/vf12p/bdi9wrN9USgsgy3oPuv\\\n",
              "unvcbxqmYSVWYgrkf9FPwRSsxEpMwzSPY2csnoFLb7kU1XXVnKNHFEIC7d0y6jEU10jP7IfXcmYA\\\n",
              "gEdgunbCJETbbIDFgvTMfkqoAoD8mVOQP+NO5TwAyj3SM/th04Fv8I+v9nhtU25uLgYMGGAY/oSW\\\n",
              "hEDOAQwNpgyAffr0QVpaGgoLC5XHqqqq8MUXXyA7OzuILaOW8tWzZ1SmZXC3wV6P1x+zYvcKuCU3\\\n",
              "rBYrFg1dhJv73KwM96qHSyXIuyuK70bXzbo1CzMWz1Aey0IWpmM6AGAWZmEDNmAWZgEApmO6piew\\\n",
              "38x+WPP7NUiISUCVq4pz9IiCTB1oAu3dMuoxFNcoKz2kPKcPTYNuugUJHe2AJKGs9JDmerXnz6O2\\\n",
              "+pxyTfU9ykoPITE2xmt7xH9rDh48qPndSEpKil+vEWh8jz5a8QwK33iFcwBDQMQGwPPnz2PPnj3Y\\\n",
              "s2cPAHnhx549e3Ds2DFYLBY8/PDDeOKJJ/D3v/8d+/fvx9SpU5Geno4JEyYEtd3UMr569tTPid64\\\n",
              "4lPFXo/XHyNBQvfE7lg0dBEmZ05W5vaJ0i5iuPShqx+CPdYOV4MLI94dgfWl67G+dD1GvDsCw98d\\\n",
              "DgDYNGkT1vx+DVatWgUAKEEJVmO1cm877MrPq7EaJSgBIIe/pY/Iwzaco0cUGrwN+zbV07V388dw\\\n",
              "1dQgrkMHpcdQfY66J9AoNHkb9o3r0AFxiR2Vx+MvjlbFJyXh2gmTcHP2tViQ+4BHewIZhVi1apWm\\\n",
              "bJW/71Hpjm2Q3G5YrFbOAQwyiyRJxt0UYe7zzz/HDTfc4PH4tGnTsHbtWkiShCVLluDVV19FZWUl\\\n",
              "RowYgZdeegk/+tGP/L4HN5MOPaJ23j1X3OMxd83oOX+OH9xtMIpPFRse482Y98fgZLW8gtdqsaJj\\\n",
              "TEc4XA4AQPfE7tg0aZNy/a8XfK3M+duADZrw54ADEzABANC/f398/fXXgb8pRNSmvNXhey1nBqq+\\\n",
              "P4Wkrt2UoVg1o+d9PWaxWjFqxv0+exeN2vLcnT9XQtfcd/+uHKue45eFLKzESuU5Bxya/xbNxmzl\\\n",
              "H6KBhj91u9Iz+6Gs9FDQ6w7y8zuCA2B74B9QZBMhTgQ2wVtoXF+6Hi/ufhEWWDC8x3BsO7ENVa7G\\\n",
              "UkHRlmg0SA24uc/NeHrk0xjz/hiU/K1EKfUyBVOUYV+11ViNAhQAaN5/eIkoOJoq0Gz0vK/HmgpP\\\n",
              "ezd/jMI3XoHkdmsC5EcrnkHpjm3IzB6B8Q/+VnOOOgT689+gO38yDPMXLw44hIYafn4zALYI/4Ai\\\n",
              "jzrcATAMekbBcH3pejz5xZNwS24AQFJsEhJjEnG29ixqG2oByD2BbsmtnHfTnJvwvy/8L4C2/9c3\\\n",
              "EQVfoMFo7+aPsa3gLUCyoPdVg5Xh06Z6FEVPIQBse/dPgEXCiClTvd5zwIABypw/X6MQaclJ+M2Y\\\n",
              "nyCuQwfkrCnw2u6mej5DAT+/I3gOIEWe9tiZQswTXLF7BVbsXoHqumqPNlTXVcMea9csIFm+a7kS\\\n",
              "/uyxdlhgwcnqk7BF2ZAUmwR7rB3jeo+DPdaOs7Vn0ffuvkr4A+Q5gGuxFoD8r+0JmKDMCVyLtUr4\\\n",
              "Azx3DPEHd/UgCr5ACyCrF3T4M3dOzAkUw8T6UjHq+YXi5wfumKCEvymYogl/gDwfWcwJLK+swvZv\\\n",
              "jqC2utrnCl7W+QsP7AFsAf4Lon15G5JtTaIHUN1zBwBxUXF45JpHlIDYPVEu4yJ+Lq8uhwQJFliw\\\n",
              "b9o+rz2JL+5+Ed99/J3hDh+A3BOoDnv639UC6Qkc/u5wVLmqkBSbhO13bvfrHCJqXS3tATQa/lVf\\\n",
              "E5B7/OrrXYiOjkXvqwbjyJ5ipQdQBNCkrt3gqqlB4Z79+KD4AIDARiFuGzwQN2dfG7K9e/7g5zcQ\\\n",
              "HewGEPnrnivu0YSqtjA5czImZ07G8HeHawJgbUOtcm/xvaiiCOXfleNs7VkM6DIAB88cVHYAEdcB\\\n",
              "GoPr6/tfhwUW1J+r93p/8R/Y/v374+DBg17DHwB8fvBz5MC/ACh2MRHfiaj9DbrpFp9z/Xwdrz4H\\\n",
              "AP57sASlO7YhKiYG9U4ntr37JzhrqiG55ZGIeqcTZaWHkPPGu5prirmEa9b9SQl/QOMoxHRMV+b8\\\n",
              "iTmB+lGID4oPIHP4yNZ5UyhoOARMYcPbzhRGw5v6xwIdAn3o6ofQPbE7BnYZCAssiIuKU+YCijYU\\\n",
              "nyqGBAm1DbU4fu64UhJGT12uZXiP4Ui7LQ3db/MsBC2sWrUKX3/9tVIixkjKrSlwXO/w67UA8i4m\\\n",
              "3RO748GrH/T7HCJqO4EOB4sFHuIcMSRc73IhqWs31Ne7lPBnjY7WlIERRH3Bde/+BR/s9vzH5Tqs\\\n",
              "w2zMVhZ8FKAAszEb67DO49inVr0c8FQUCi0MgBT2jGr/6R8Tvz/5xZN+hUAR9Ap+WoB90/Zh1692\\\n",
              "eaz4vVB3Qfnd1eDyGjInZ05Whn8/+e4TSJDQ5dYuuPQOzy3h1MO6OTk5hiFwUs4kXPWrqwLqCeW2\\\n",
              "bkRtpzk7W+h3+2jq3C83vK+ZA5iZPQIWqxX9rvsJ7s1/A9ExjcWd3Q0NgEU7u0vdxvO1Tq/3ET19\\\n",
              "l/bM0Pxu5PTp09zVI4wxAFLY0xdEFuEsKTZJeeyeK+5RVuG2xs4Zr+9/HQ6XQzOk+sTOJ3Cy+iSe\\\n",
              "+vIpDHprEOZvna85vspVpcwTjIuKQ9ptaZiU0/gv9H4z+yFltFxZf/7W+Rj01iAcu+IYRj88Wjlm\\\n",
              "Us4kvLfqPWUomos6iIIv0N48wHO3j8I3XsFHK57xGqbUCzwAoKz0EEbNuF8p6zJiylTEdeggHyxJ\\\n",
              "Hgs/thW8pdwn5+6p+OmPr/LatlWrVuHw0WM+RyGWLFmCvLy8Zr12Cg0MgBT29L1bIpwlxiQqj03O\\\n",
              "nIxFQxc1uf2bv0TovLnPzeie2B2xUbHK1m917jq4JTc2HtmoHD+422Dl5wFdBsDldqHKVQXH9Q4s\\\n",
              "WbIE/Wb2Q/RPopVQ9/F3HyvXEHsHq4d9m9rLmKt+idqPt1Wv/vSOpWf2AwBIbjdKd2xTQpr+HPUW\\\n",
              "c+rQJe4ByCEQlov/KLVYcO2EScqxtdXVgMUCye1GWekhfLirGEuWLPFozx3Drm5yFEKEP1+vnUIf\\\n",
              "F4FQxGlqsYgo0CzCk7p4c6A7fgxJHYKnRz6N+Vvn45PvPoEtyoa+yX01C0IAoPhUsfLzwTMHlT2F\\\n",
              "77niHkyeNBk1W2uw8chGDO42WBPqxvUehyGpQ/BindxGdY+mr9coAuKLu1/0utMJEbUO/WINQR3U\\\n",
              "1M+rCzOLfXwtVisys0coc/vU+/jqi0K7ai8oc/w8euAuFvbo2KWrsuDj3JnvlfmBsFgQn5SE/Bl3\\\n",
              "IsUiYdavfonVb78DQF7d+z/9tbthiTAoikWrw5947aKd6t8p9LEMTAtwGXl4Eatx7bF2JMQkKCFK\\\n",
              "vWWbW3IrRZzFSt+NRzZiXO9xeHrk00p5lwt1F+BwOZShZ1EE2mqxYtHQRQCgbCO3/cR2OBu0c25i\\\n",
              "o2Lx0NUPYXLmZKwvXY8ndj4BCRKSYpMwoscIzT190e9Kot++Tt3OtiqdQ0TGvK30VW/NNmrG/Zpj\\\n",
              "1KVf6utdqHc6NYWXRZFlMdxb76oDLEB0TAx6D7oah7Zv1bRBHyzlBy1KUIy22fC/B/+DS3r3QlZS\\\n",
              "HCBZMOLOuzyCXH5+Pk6fPq0Jf4K3ws+hvCMIP785BEwmIoZth/cYrnksLioOFljQv3N/dE/srhRx\\\n",
              "fvKLJ/HJd59ohnNf3P0iTlafhLPBqYQ/dRFoMcdQBMuNRzbC4XKgtqEWneI6wRZlQ21DrTJ3cMz7\\\n",
              "Y/Di7heV4WNXgwvFp4rhltyaXkM19fCut8UuxaeKsWnSJjx49YNIik3ChboLHA4mamfqYVs1sYAj\\\n",
              "M3uE4THOCxdQW30O9S4XACiFl/du/hiumho5/EkW1J4/j3qXEw11dag9fx5lpYfQb/hIWKxWdOwq\\\n",
              "zycWQ76jZtzfODys6vepd7lw/aU9cFlUA2qrq1FbfU7pzRPDyx+teAaxXxfhtuHXGr5O9TCwetib\\\n",
              "8wNDGwMgmYaYK1h8qlgJTZMzJ6NTXCdIkHCm9gw2TdqkBES35Ea0VZ4l0b9zfwCNdfRqG2qVXULU\\\n",
              "vXsiFIqwKXb/EAtSRNCTIClhzXLxf4DcM6hf1KKnDn36Y/W/T86cjMSYRDhcjlZZ/EJEWs1ZBTv+\\\n",
              "wd9i7rt/99iXFwC2Fbwl99RZLOh33U9gsVoBScKXG97HtoK35J09qqvR+6rBiOvQAXGJHZGZPUIJ\\\n",
              "YOLaSu3Pi6uGB910C0bPfEC+HgBYLIjr0EFzDxEMxbxEEeDE3ERvQc7b/ETODwxtnANIpqAeKtXP\\\n",
              "n1P/vr50vdLbZ7VYEWWJQh3qcLjyMMa8PwaXdLwEjh/khRhVrios37UcUZYo1Ev1GNhlIAp+WuAx\\\n",
              "LKunLiRdcaRCCZwbj2zEiB4jNEWkjajbqz/W6Nz2KKBNZFbe5vkFQrObhyQHt7iEDhj/4G9xSf8s\\\n",
              "bHv3T3DVXpCHewFAkuQiz7r9eD9a8QwK33gFmdkjlPmBIny9ljMD106YhFEz7kfhG69AcrsRG5eg\\\n",
              "uUfthfOAJKF0xzZc0j8L106YJN/bWQNJkpRgKNpstM+w/r6+XmuoDQubDXsAyRTUvWaiJxCQh2AB\\\n",
              "KKuIX9//umYuny3KBkDu5TtZfRIHzxzUXNfZ4ES9JO/scab2jMe9gMaSLvO3zldqAr6+/3VsP7Fd\\\n",
              "GeptathXzaimn3pYWL8CmDUAidpOa/RyqUPkiDvvQlxiR9TXu5A/404AQGx8PGrPn0d0bAziEjsi\\\n",
              "rkMHzf1EL+Shf/0/SG43Dm3fim3v/kkJWfqQOmrG/R5tjo2PV3oDJbcb2wreknv8LBLc9fVK6FS3\\\n",
              "Wb3PsOCtN9DotVJwMQCSKRgNq6qD2vrS9Rj+7nB8X/M9LLBgXO9xmJw5GZd0vAQAlCCYmpCKuKg4\\\n",
              "APL+wDf3uVmZQyhKvejvtfHIRs08QnFfCZLHkHFze+nENVfsXoEnv3gyoKLXRlhGhsg/3ub5+aIf\\\n",
              "NlaHyEE33YLY+HjUO53KfLz0zH6wWK3oPehq5LzxLnLWFGjuJ0JVdGys8lht9Tl8tvZVPHfnzxGf\\\n",
              "lKSZoyeu+eWG95Vew6rvT6Gs9JAyP7HeVYeq708BkgXRNvm/fxfOOZQ2p2f2Ayzyc97Cr1E45rBw\\\n",
              "6OAq4BbgKqLQ0dSwa1PnqFcDA3K46xTXCeXV5cq8PUAeFt47da/mOmJ1seg11N9flIiJskQhISYB\\\n",
              "I3qMwLYT22CBBQ9e/WBAPXPeXqd4vLquGlWuKuVx9YrmQO4jXhNXD5PZ+TNkGeiwprdVs+rriZXA\\\n",
              "I+68Swl4cYkdERsf73EfzRAygP99/SXN9cRq423v/gm11ee0N7u4Ili9IlmsMo6NS9CUmgGgtFlZ\\\n",
              "jWzQJn17QnHIl5/f7AGkCNFUYWQj6qHRe664B0mxjf8REEO+tigbrBYruid2h9Vi1dT2E9S7jKzY\\\n",
              "vcJjD+LiU8VIik1CvVSPKlcVik8VeyzM8LfHzdvrFK9F7GF8S59bNCuaA10A0tIeSaJI4c+QpThm\\\n",
              "W8Fbfi0I8bZqFmgMTyOmTFXCX3pmPyR17QZYJI+2iOPjk5JQ+MYr+O/BEsQldgQg7wksVhuLIVs9\\\n",
              "a1SUZocRscp4xJSpSs/mtRMmIS6xI6JtNrhqarB388fKazBqk/o945Bv6GIApIjQ0sAyOXMytt+5\\\n",
              "Hbf0uQVWixUDugxA98TueOSaR7B36l5smrQJe6fuNazLJ3YZscfaUeWqMizLIkHSDBUP7jYYVosV\\\n",
              "g7sNxvrS9cqwbVNBzeh1qsOjCIJPj3xaKQPTnPeF8waJZP4MWSphSLL4FXZ8zZMzCk9lpYdw7YRJ\\\n",
              "qK+rAywWzWIMcUzFf75VdhPpfdVgWKxW/GjodcpqYxHirNHRgMUifwfgrq9HemY/pS211ecAyaLs\\\n",
              "MiLaO+LOu+RyMxeHpcVrGDFlqs9hXg75hi4OAbcAu5AjT0uGPsW5gDyE/Mg1jwCAxzBz98TuAKAU\\\n",
              "pT5Xd06z8ERd0Fk9dOtt+JfDtUShoTkrXPXneBs+VQ/DxiV2RM4b72rOj09Kwqkj/1F2FxFDzOpV\\\n",
              "uYNuukUzdCt6BC1WK+a++3flWq7aC6g9f14zRC3OE0PFoTSc2xz8/GYPIJGGPz2J3lbciqFgQK4T\\\n",
              "KFYci/A3uNtgj0UfEiSP8AcYD/V6G/7lcC1RaPC2IMRXrUD9OerfxfCrGAZu3OdX0uwBfG/+G7ji\\\n",
              "xjHo2LmrUr5FHf7UPYziuRF33qUUjc7MHqG5t1GvnliIIopXN0dzaiZS22EPYAvwXxDhSb1d2vYT\\\n",
              "2yFBUrZla+p49fZqVosVHWI6oMpVpfS+rS9d77G3sFiYYdRDp7+2/rs/PYBEFLr2bv5YqbsnetQC\\\n",
              "WVgieuPE7h/19S5ER8urfWurz3ksyjDajs2oXl+gi1tEkPS2cMUfTS1+aU/8/GYPIJmQfpu2KleV\\\n",
              "R6+a0XZrG49sVObziUUfFljQPbE7BncbrNQU3H7ndmy7c5uy44g4Rt9Dpw504tiPv/tYs5Wbvsgz\\\n",
              "5+URhZcvN7yv7PurHtb1d2EJJIsyv7C2+pwyD6++3gWL1arMB/Q2106UldHX61O3wWghyms5M/D5\\\n",
              "n9Yoi1taYy4f5wOGFgZAiljeVtbqt2mLi4rz2CvXaLu1cb3HoXtidzx09UNYNHQRuid2x4NXP+ix\\\n",
              "vZz+PuIYAJr26O8hho+tFiuHc4nClLcaf+p5c4EsLBlx5124N/8NZWFHt96XIqlrN0THxCj7/AK+\\\n",
              "6xF6q8cX16EDXDU12PbunwwXooi9iCFZAqp36G2otzk1E6ntcAi4BdiFHNr8XRxhdJx6KNefWn3+\\\n",
              "DM/q76M/x59rqI8BwCFhohDTVsOc+usGsuDE27HKghBVzT/1QpT0zH7KCuRAQlsoDfV6w89vBsAW\\\n",
              "4R9QaPN3zlx7ra5tjTl86jYB4OpfohDTGnvdGl2jJdf1NT+wtYo0h0PxZzV+fjMAtgj/gMJHS3cK\\\n",
              "aY3dOlrjHuwBJIp8vnrQ1L1zR/YUeyzu0B9TVnoooJ685vYstsYikfbEz28GwBbhH1D4aM9aeYHc\\\n",
              "qyXt4qpgosjkK4SJcCi2cAPgsR2bumafevWxP/d01dRoVhf7og6q+nqDoY6f31wEQibRnrXyArmX\\\n",
              "ekeQQDVn+zsiCn2+6gm6ai/I27LFyqVgYLF4bMcmFn1kZo9AUtduSM/s12T9PWXVsUUyXKBitLBD\\\n",
              "vbiECzzCD3sAW4D/gqCWCqQHsDmLRogocnjrcQN8z7nzp6euqaHfcFjYEQh+fjMAtgj/gEJHuIah\\\n",
              "9aXrsWL3iiaLUQPc8o3I7Jq7aKM15uq15oKRUMDPbwbAFuEfUOgIhXDU3BDqb9vDNeQSUdvzN6BF\\\n",
              "WpBrLn5+cw4gRYhQ2A+3uXPy/G17a+wE4q04NhGFB29FlkXPXuEbr/ic6+fPXD3u2WsODIAUEUJh\\\n",
              "mzRfQc5X8GrPtnPhCJlNpIUZb9vIXTthkrLq19cWcy25B0UWBkAiHwLpMfMV5EIleIVCTylRe4q0\\\n",
              "MONrz99RM+5vlb12uWevOXAOYAtwDkHoa+m8udaaWxjo1nJE1DrCac5bOLVVCMc2A/z8BtgDSBGu\\\n",
              "pT1vrdVjNjlzMhJjEuFwOYLeC0hkJuFSn27v5o9R+MYrYddbGWk9rGbCAEgRraUBrjXn53H4lYi8\\\n",
              "+XLD+5Dcblis1rAaeuVwcfgy/RBwfn4+li9fjvLycgwaNAgrV67Etdde69e57EImIqLWEK5DqeGK\\\n",
              "n98mD4B/+ctfMHXqVLzyyisYOnQoXnjhBbz33nsoLS1Ft27dmjyff0BEREThh5/fJh8Cfu6553Dv\\\n",
              "vffi7rvvxoABA/DKK68gISEBb7wR/tvcEBEREXlj2gDocrlQVFSE0aNHK49ZrVaMHj0aO3bsMDzH\\\n",
              "6XSiqqpK80VEREQUbkwbAL///ns0NDQgNTVV83hqairKy8sNz1m2bBnsdrvylZGR0R5NJSIiImpV\\\n",
              "pg2AzbFw4UI4HA7l6/jx48FuEhEREVHAooPdgGDp2rUroqKiUFFRoXm8oqICaWlphufYbDbYbLb2\\\n",
              "aB4RERFRmzFtD2BsbCyGDBmCwsJC5TG3243CwkJkZ2cHsWVEREREbcu0PYAAMHfuXEybNg0//vGP\\\n",
              "ce211+KFF15AdXU17r777mA3jYiIiKjNmDoA/uIXv8Dp06fx2GOPoby8HFdddRU2btzosTCEiIiI\\\n",
              "KJKYuhB0S7GQJBERUfjh57eJ5wASERERmRUDIBEREZHJMAASERERmQwDIBEREZHJMAASERERmQwD\\\n",
              "IBEREZHJMAASERERmQwDIBEREZHJMAASERERmQwDIBEREZHJMAASERERmQwDIBEREZHJMAASERER\\\n",
              "mQwDIBEREZHJMAASERERmQwDIBEREZHJMAASERERmQwDIBEREZHJMAASERERmQwDIBEREZHJMAAS\\\n",
              "ERERmQwDIBEREZHJMAASERERmQwDIBEREZHJMAASERERmQwDIBEREZHJMAASERERmQwDIBEREZHJ\\\n",
              "MAASERERmQwDIBEREZHJMAASERERmQwDIBEREZHJMAASERERmQwDIBEREZHJMAASERERmQwDIBER\\\n",
              "EZHJMAASERERmUxEBsAnn3wS1113HRISEpCcnGx4zLFjxzB+/HgkJCSgW7dueOSRR1BfX9++DSUi\\\n",
              "IiIKguhgN6AtuFwu3HHHHcjOzsaaNWs8nm9oaMD48eORlpaGf/3rXzh58iSmTp2KmJgY/OEPfwhC\\\n",
              "i4mIiIjaj0WSJCnYjWgra9euxcMPP4zKykrN45988gl++tOfoqysDKmpqQCAV155BfPnz8fp06cR\\\n",
              "Gxvr1/Wrqqpgt9vhcDiQlJTU2s0nIiKiNsDP7wgdAm7Kjh07cMUVVyjhDwDGjh2LqqoqHDhwwOt5\\\n",
              "TqcTVVVVmi8iIiKicGPKAFheXq4JfwCU38vLy72et2zZMtjtduUrIyOjTdtJRERE1BbCJgAuWLAA\\\n",
              "FovF59ehQ4fatA0LFy6Ew+FQvo4fP96m9yMiIiJqC2GzCGTevHmYPn26z2MuvfRSv66VlpaGL7/8\\\n",
              "UvNYRUWF8pw3NpsNNpvNr3sQERERhaqwCYApKSlISUlplWtlZ2fjySefxKlTp9CtWzcAwObNm5GU\\\n",
              "lIQBAwa0yj2IiIiIQlXYBMBAHDt2DGfOnMGxY8fQ0NCAPXv2AAAuu+wydOjQAWPGjMGAAQNw1113\\\n",
              "4ZlnnkF5eTkeffRR5OTksIePiIiIIl5EloGZPn061q1b5/H4P//5T1x//fUAgKNHj+KBBx7A559/\\\n",
              "jsTEREybNg1PPfUUoqP9z8RcRk5ERBR++PkdoQGwvfAPiIiIKPzw8zuMVgETERERUetgACQiIiIy\\\n",
              "GQZAIiIiIpNhACQiIiIyGQZAIiIiIpNhACQiIiIyGQZAIiIiIpNhACQiIiIyGQZAIiIiIpNhACQi\\\n",
              "IiIyGQZAIiIiIpNhACQiIiIyGQZAIiIiIpNhACQiIiIyGQZAIiIiIpNhACQiIiIyGQZAIiIiIpNh\\\n",
              "ACQiIiIyGQZAIiIiIpNhACQiIiIyGQZAIiIiIpNhACQiIiIyGQZAIiIiIpNhACQiIiIyGQZAIiIi\\\n",
              "IpNhACQiIiIyGQZAIiIiIpNhACQiIiIyGQZAIiIiIpNhACQiIiIyGQZAIiIiIpNhACQiIiIyGQZA\\\n",
              "IiIiIpNhACQiIjKJkq0n8NbvtqNk64lgN4WCjAGQiIjIJHZvPIJzZ5zYvfFIsJtCQcYASEREZBJX\\\n",
              "j+uNjp1tuHpc72A3hYIsOtgNICIiovaRNbIHskb2CHYzKAREZA/gkSNHMHPmTPTp0wfx8fHo27cv\\\n",
              "lixZApfLpTlu3759+MlPfoK4uDhkZGTgmWeeCVKLiYiIQh/nEEaOiOwBPHToENxuN1avXo3LLrsM\\\n",
              "JSUluPfee1FdXY1nn30WAFBVVYUxY8Zg9OjReOWVV7B//37MmDEDycnJuO+++4L8CoiIiEKPeg4h\\\n",
              "exLDm0WSJCnYjWgPy5cvx8svv4z//Oc/AICXX34ZixYtQnl5OWJjYwEACxYswIYNG3Do0CG/rllV\\\n",
              "VQW73Q6Hw4GkpKQ2azsREVEoKNl6Ars3HsHV43qHdQDk53eE9gAacTgc6Ny5s/L7jh07MHLkSCX8\\\n",
              "AcDYsWPx9NNP4+zZs+jUqZPHNZxOJ5xOp/J7VVVV2zaaiIgohHAOYeSIyDmAet9++y1WrlyJWbNm\\\n",
              "KY+Vl5cjNTVVc5z4vby83PA6y5Ytg91uV74yMjLartFEREREbSSsAuCCBQtgsVh8fumHb0+cOIFx\\\n",
              "48bhjjvuwL333tui+y9cuBAOh0P5On78eIuuR0RERBQMYTUEPG/ePEyfPt3nMZdeeqnyc1lZGW64\\\n",
              "4QZcd911ePXVVzXHpaWloaKiQvOY+D0tLc3w2jabDTabrRktJyIiIgodYRUAU1JSkJKS4texJ06c\\\n",
              "wA033IAhQ4bgzTffhNWq7ezMzs7GokWLUFdXh5iYGADA5s2bkZmZaTj/j4iIqD1FyoILI5H82sJF\\\n",
              "WA0B++vEiRO4/vrr0bNnTzz77LM4ffo0ysvLNXP7fvnLXyI2NhYzZ87EgQMH8Je//AUvvvgi5s6d\\\n",
              "G8SWExERyZqzbZs/dfraopZfoNfklnTBF5EBcPPmzfj2229RWFiISy65BN27d1e+BLvdjk2bNuG7\\\n",
              "777DkCFDMG/ePDz22GOsAUhERCFBbNuW1jfZ73DlT7BSH9NaYTDQQMct6YLPNHUA2wLrCBERUUs1\\\n",
              "NRz61u+249wZJyxWYOSUTMNjxDXS+iaj/HClz6FV9f1EcOvY2Yapfxje7DaH25AuP7/DbA4gERFR\\\n",
              "uPIWkpraXePqcb2xtaAUkhtejxHXACqbDHL6Wn6iTYHQt5n1AcMPAyAREVE78Bb0RE+ctxAmjhU9\\\n",
              "fG/9brtHT19T19DbtOYAvi2qwGVDUgPq+fO3zRT6GACJiIjakHp4Fqj0CE3+9J6JY8Rw8PnKCqVH\\\n",
              "EEDAw6/fFsnnf/NVhceQcV5eHlJSUpCTk+P1/C37N+B07GlMHZmneZ07NxwGAAyb0Jc9giGOAZCI\\\n",
              "iKgNBTI82xTR86buAWxqCNnIZUNS8W1RBaKirJpz8/LysHTpUuU4oxCYn5+P3Nxc5fe8vDzldTov\\\n",
              "1Cs/MwCGtohcBUxERBQqmrvi1dcK3fTLkzH1D8OV4d9Arz9m5kD8+qUbMfyOy5Vz9eEvNzcX+fn5\\\n",
              "mvP04W/p0qVKALx6XG/YEqJhS4hW2tIWJWeodbAHkIiIqA01d4GEUc+e0WPNvb56Ucr7n72mCX+C\\\n",
              "CHs5OTke4U8Q56l7AvWvYeeGw2G1StgM2ANIREQUgox69kQvm6u2QdOr1pyeNhHOFi9abBj+hNzc\\\n",
              "XAwYMMAw/AmiJ1BfD1C8BgAs/BxiGACJiIjaSSBBLWtkD2WYV/1YbFwUnBfqDXvaAglYIpwN+HFf\\\n",
              "721AFgDg4MGDmt+NpKSkeIRW8RqGTejLws8hhoWgW4CFJImIKBBiFa8tIRqxcVGGQ6JNFVUWq20b\\\n",
              "6t2IirZi2IS+KPumUinrMmbmwICuBwBTx87FnzY9r3lsGqZhOqZjNVajAAWYgimYhVlYi7VYh3Wa\\\n",
              "Y1etWuVz1XCo4ec35wASERG1G7Fq11Xb4DGXTwQ1V22DpofPKLy5aushuYF6l1s5TpR1OXbgB6UM\\\n",
              "S8nWEx5FpI0C4W8XzQMAJQRmIQvTMR0AMAuzMAVTYIcdADAd01GEIpSgBEDLwl+47SASSTgETERE\\\n",
              "pNNWq1d9DYk2louB8pzR0O7ODYchueWfo2OsuHpc74s1BgFIgPNCPba8U4pNaw5g98YjkNyAxQrl\\\n",
              "XkbXzBrZA299+hzuGjNHfv0owWqsVp4X4Q8AVmN1k+HP3/evOUPX1DoYAImIiHRaEkz04ccoDBnN\\\n",
              "7xPz54ZN6Ks8l9Y3GbAANefrDMNUfb2cBMsPV8oPWBqf++arCrhqG2BLiNbsIayep6dv228XzUN6\\\n",
              "l94AgAIUwAGH5n4OOFCAAgBAepfe+J8rJhi+B/68fyVbTyjt49zA9scASEREpNPc2n2AZ/jxN0wa\\\n",
              "hcLyw5WApB3qHTahb2PQkxqHiDt2tuF/7szE5dekwmIFoqOtcF6oR2xclGaYeeeGw3DVNgCQexNF\\\n",
              "mRZA3uGj7Af5PuphX8EOO6ZgCgCg7IcjWJb3rEe4Ldl6AjXn6wALGnsmvbxP+vZR++EcQCIiIp3m\\\n",
              "1tYDPPfJbe6+uaKHLDrGiqiLQ72CLT5aWQSS1jdZM48ua2QPjJk5UDO/Tvxcc74O9S6511AfSNV1\\\n",
              "/rKQhVmYpTzngEMJg7MwCyUX//fOP19AnasBwC80tQrFPZSeSdVrEm3ifsLBxQBIRETUivThsSWF\\\n",
              "oJ0X6tGxs03ZQk69qEM8LlYW67dfUwcysbBE6Tm0aOcEltZ8jj/kPqqcW4ISrMVar6uAxRxAAHhv\\\n",
              "+0pcfk0qALmNV4/rrfQo6sOdujdU39tJ7YsBkIiIKASl9U3G+coKpPVN1qwQ1i/q8NWTJgKXLSEa\\\n",
              "HTvbNHsIixXB/1v0V48SMACwDus0q30LUKD0/On94QU5PD75/CJN4BVzDMX91G3lCuDgYgAkIiJq\\\n",
              "I80JOerhWskNHDvwA8oPV2qCnL/X0/fG6c/ZvfEIvv/hB+9tuRj2Lu11Of5z9BvD8Cd8/dVhj8eM\\\n",
              "tq7z5zlqewyAREREbUQfcvwJhOpyMADQUOfG1RP6as4r2XoCr8/dqhyjrxuY1jcZxw7Iwa6h3o16\\\n",
              "lxs7Nxz2uGda32SMv2YaAOCTorcM23PXmDn47aJ52LJ/g9ft4H42bDoef/Jxj8f1vZPq90P/HHsE\\\n",
              "2xcDIBERURsRISetbzLe+t12TZFnbyFHnCMWbETFWD2GVcU8QACIjrV61A08X1mhPK8uDaMPWccO\\\n",
              "/ABIwPgfG4fAu8bMwdA+P8XujUeQ8we53p8+BN48ZCp+nn03dm88grJvKjVDzPr5j+rQp3+OPYLt\\\n",
              "iwGQiIiojYiQo94Czt/yMn0GpShhSk0Udxaioq3KIhHxvOgBbKhzywHw4qavOzcchvNCPbYWlAKQ\\\n",
              "exeF6RNzYbEAH38lh8Bf3vAwsi/7GdxuSSnnkpOTg4P/Oon8d54EADwwfQ6GdZ+o7Gwigqe3EOdr\\\n",
              "QQxXBbcv7gXcAtxLkIiI/OHP8KZ+Kzixyld/rvhdLOjQL+xQX0/0FFqs8lZxtoRoZRu5jp1tyr1s\\\n",
              "CdG457mRAIC8vDz8Z0cVhvb5qXItixVKMem3frcd/9j6F9RZzuOD//eGpu3qoWexHV0o4uc3A2CL\\\n",
              "8A+IiIiaSx/sXp+7Fc4L9YiOsSK+Y4wSppw19YCkDWHq89WBUd2LJoZULVbgsiGpjT2CAKJirBg2\\\n",
              "oS/KvqnEt0UVuGxIKsbMHKhp284Nh+X5g3Vuzf0B4/2JBdHbqW9vKOHnN3cCISIiCgpvO4RExchD\\\n",
              "uuWHK+XafRe7acTQqrD9/W9w7owTdc4GjzmAYreP6BgroqKsSq9cfd3FQHfx/scO/ADJLRdsVm8L\\\n",
              "lzWyB+55biRmrbge/3NnJmCR7y9WFAub1hzAS7/+DJvWHFAeE8PF+vYGqq32YyYZAyAREVEQXD2u\\\n",
              "98Uh2QaUbD2BYRP6KnsBq5+PjrEiOsbqsWeuCHLuhsaBvLS+ybBY5bl9zgv1aGiQA5/zQj0a6tyw\\\n",
              "JUTDliBP/xcrjfXhsanQpj7u2yJ5zt+3RRXK8+p9icVra4pR2GvJfszUNAZAIiKiIMga2QOxcVGa\\\n",
              "VcHq3TFEL1x8xxgl7O3ccBivz92Kkq0ncPmPL+75G2NVglL54UpIbqC+Xg57XTM6KveLirHinudG\\\n",
              "4p7nRqLnwC6wWIGeA7so9xT7CYsVyyKM7d54RBkCHjahr2af5MuGpAIWICrKqhwvnrfFR2vK0/hi\\\n",
              "FPZash8zNY0BkIiIqB0Y9XL5Cjni+LS+yejY2YaGerknT4SqMTMH4tcv3Yjhd1yuXOPqcb1hsQKQ\\\n",
              "gNi4KNSecwFoDG+CCIrHDvygGfa9elxvfFtUoQljoo1G8/nGzByIjp1sqK9zK8eLICt6NP0JcEbv\\\n",
              "gz4QU+tiGRgiIqJ2YFTnzltZFG2tv0pM/cNwvD53K+pdbs0+vt6uIRZplH1TiXNnKxAVZVWuK1br\\\n",
              "umrlBSbqHkhRYka91Zy3en2ilIy38i2B7IHc3P2SqfkYAImIiNqBP3XufO35O0y1GwgApXfQqBSM\\\n",
              "KBfzbVEFIEHTQ3fujBPnzlQgOsaqDO0a7Svsq16fCKe7Nx5hL12YYgAkIiJqB/70coneNX3B6Ld+\\\n",
              "tx1Xj+ut1AXc8m4pIAHnzsiLL4wKMCsFoy2ALb5xAcmWd+SeOzFP0FsbvdUuFD+LlcZi+JjCCwMg\\\n",
              "ERFREG1ac0CpxXf1uN5KqRURvERdPdGDt7WgVCkNI3TN6Ijacy5N76K33ryybyrxzVcViI6Wh4XV\\\n",
              "O4M0tTWbdgi53ueuHxTauAiEiIgoiEQplW92yb156pXBwMW6ehag5lwddm44rNkGTqg95/IYihWL\\\n",
              "OnZvPKJZeJJ+eTIslsYyMmKXEP1qXaOFGSIUijarh48pvDAAEhERBdFlQ1KVn0WPnbo+YPnhSmUe\\\n",
              "X0OdGxYrkNKrIzp2tuHya1I1IU2/0lhfXkW/PdywCX0xckqm4Wpdo1W4IhReNiTV68pgIyzqHHo4\\\n",
              "BExERBREY2YORPrlyZrhWnVwUw8LA3IQFD1+euqdQMRQLVCphDv1Kl91eGvr1bpGw8kUXAyARERE\\\n",
              "QaYPVvr5e0YLMwT1Y+I8V20Dzp1x4nxlhSbo6cOk/nxv4cyfY3wR9+WikdDBIWAiIqIQ460IstHj\\\n",
              "+t61qX8Yjp4DuwDwnNun331Ef75QsvUEXp+7Vdl1pKXbshndl4KLAZCIiChMlWw9AVdtg8c+wWI/\\\n",
              "XqNFGmK/YHl42PtiD/WuI62xLRu3dgstHAImIiIKE/qhWBHUOna2+RxCVhPbwImQaDSvz6gcTUuH\\\n",
              "bbnbR2iJ2B7An//85+jZsyfi4uLQvXt33HXXXSgrK9Mcs2/fPvzkJz9BXFwcMjIy8MwzzwSptURE\\\n",
              "FG6CsbJVPxSr7lVTt8fXPrr+9MRljeyBe54biXueG8nQFqEiNgDecMMNWL9+PUpLS/HXv/4Vhw8f\\\n",
              "xqRJk5Tnq6qqMGbMGPTq1QtFRUVYvnw58vLy8Oqrrwax1UREFC5aOi+uOfThTR30/GlPoIs5WL4l\\\n",
              "ckXsEPCcOXOUn3v16oUFCxZgwoQJqKurQ0xMDP785z/D5XLhjTfeQGxsLAYOHIg9e/bgueeew333\\\n",
              "3RfElhMRUTjwZ2/f1uZrGNWf9gRajoXlWyJXxAZAtTNnzuDPf/4zrrvuOsTExAAAduzYgZEjRyI2\\\n",
              "NlY5buzYsXj66adx9uxZdOrUyeM6TqcTTqdT+b2qqqrtG09ERCEp1Oa0+dMef0KiUVmZQEJuS0vG\\\n",
              "UPuI2CFgAJg/fz4SExPRpUsXHDt2DH/729+U58rLy5Gamqo5XvxeXl5ueL1ly5bBbrcrXxkZGW3X\\\n",
              "eCIiolbma26gYFRWxuh4b8PDwRgap8CFVQBcsGABLBaLz69Dhw4pxz/yyCMoLi7Gpk2bEBUVhalT\\\n",
              "p0KSJB938G3hwoVwOBzK1/Hjx1vjZREREYUMf8u1eAt6LPcSHsJqCHjevHmYPn26z2MuvfRS5eeu\\\n",
              "Xbuia9eu+NGPfoT+/fsjIyMDO3fuRHZ2NtLS0lBRUaE5V/yelpZmeG2bzQabzdayF0FERKYW6kOk\\\n",
              "ok0i2AU65zDUhsbJWFgFwJSUFKSkpDTrXLfbDQDKHL7s7GwsWrRIWRQCAJs3b0ZmZqbh/D8iIqLW\\\n",
              "EKoLK9TB1J82MuiFt7AaAvbXF198gVWrVmHPnj04evQoPvvsM9x5553o27cvsrOzAQC//OUvERsb\\\n",
              "i5kzZ+LAgQP4y1/+ghdffBFz584NcuuJiCiSNWeItD3KsahDH4dxI59FasmkuBC1f/9+PPTQQ9i7\\\n",
              "dy+qq6vRvXt3jBs3Do8++ih69Gj818q+ffuQk5ODXbt2oWvXrpg9ezbmz5/v932qqqpgt9vhcDiQ\\\n",
              "lJTUFi+FiIgIb/1uO86dcaJjZxum/mF4m9wj1IemWxM/vyM0ALYX/gEREVF7MFM4aw/8/A6zOYBE\\\n",
              "RERmxPl21Noicg4gEREREXnHAEhERERkMgyARERERCbDAEhERERkMgyARERERCbDAEhERERkMgyA\\\n",
              "RERERCbDAEhERERkMgyARERERCbDAEhERERkMgyARERERCbDAEhERERkMgyARERERCYTHewGhDNJ\\\n",
              "kgAAVVVVQW4JERER+Ut8bovPcTNiAGyBc+fOAQAyMjKC3BIiIiIK1Llz52C324PdjKCwSGaOvy3k\\\n",
              "drtRVlaGjh07wmKxBLs5hqqqqpCRkYHjx48jKSkp2M0JeXy/AsP3KzB8vwLD9yswfL/8J0kSzp07\\\n",
              "h/T0dFit5pwNxx7AFrBarbjkkkuC3Qy/JCUl8T8IAeD7FRi+X4Hh+xUYvl+B4fvlH7P2/AnmjL1E\\\n",
              "REREJsYASERERGQyDIARzmazYcmSJbDZbMFuSljg+xUYvl+B4fsVGL5fgeH7RYHgIhAiIiIik2EP\\\n",
              "IBEREZHJMAASERERmQwDIBEREZHJMAASERERmQwDYIQ6cuQIZs6ciT59+iA+Ph59+/bFkiVL4HK5\\\n",
              "NMft27cPP/nJTxAXF4eMjAw888wzQWpx8D355JO47rrrkJCQgOTkZMNjjh07hvHjxyMhIQHdunXD\\\n",
              "I488gvr6+vZtaIjIz89H7969ERcXh6FDh+LLL78MdpNCxtatW/Gzn/0M6enpsFgs2LBhg+Z5SZLw\\\n",
              "2GOPoXv37oiPj8fo0aPxzTffBKexQbZs2TJcc8016NixI7p164YJEyagtLRUc0xtbS1ycnLQpUsX\\\n",
              "dOjQARMnTkRFRUWQWhxcL7/8Mq688kql2HN2djY++eQT5Xm+V+QvBsAIdejQIbjdbqxevRoHDhzA\\\n",
              "888/j1deeQW/+93vlGOqqqowZswY9OrVC0VFRVi+fDny8vLw6quvBrHlweNyuXDHHXfggQceMHy+\\\n",
              "oaEB48ePh8vlwr/+9S+sW7cOa9euxWOPPdbOLQ2+v/zlL5g7dy6WLFmC3bt3Y9CgQRg7dixOnToV\\\n",
              "7KaFhOrqagwaNAj5+fmGzz/zzDNYsWIFXnnlFXzxxRdITEzE2LFjUVtb284tDb4tW7YgJycHO3fu\\\n",
              "xObNm1FXV4cxY8agurpaOWbOnDn48MMP8d5772HLli0oKyvD7bffHsRWB88ll1yCp556CkVFRfjq\\\n",
              "q69w44034tZbb8WBAwcA8L2iAEhkGs8884zUp08f5feXXnpJ6tSpk+R0OpXH5s+fL2VmZgajeSHj\\\n",
              "zTfflOx2u8fjH3/8sWS1WqXy8nLlsZdffllKSkrSvIdmcO2110o5OTnK7w0NDVJ6erq0bNmyILYq\\\n",
              "NAGQPvjgA+V3t9stpaWlScuXL1ceq6yslGw2m/Tuu+8GoYWh5dSpUxIAacuWLZIkye9NTEyM9N57\\\n",
              "7ynHHDx4UAIg7dixI1jNDCmdOnWSXn/9db5XFBD2AJqIw+FA586dld937NiBkSNHIjY2Vnls7Nix\\\n",
              "KC0txdmzZ4PRxJC2Y8cOXHHFFUhNTVUeGzt2LKqqqpR/fZuBy+VCUVERRo8erTxmtVoxevRo7Nix\\\n",
              "I4gtCw/fffcdysvLNe+f3W7H0KFD+f5B/u8UAOW/VUVFRairq9O8X/369UPPnj1N/341NDSgoKAA\\\n",
              "1dXVyM7O5ntFAWEANIlvv/0WK1euxKxZs5THysvLNWEGgPJ7eXl5u7YvHPD9kn3//fdoaGgwfC/M\\\n",
              "9D40l3iP+P55crvdePjhhzF8+HBkZWUBkN+v2NhYj3m5Zn6/9u/fjw4dOsBms+H+++/HBx98gAED\\\n",
              "BvC9ooAwAIaZBQsWwGKx+Pw6dOiQ5pwTJ05g3LhxuOOOO3DvvfcGqeXB0Zz3i4iCIycnByUlJSgo\\\n",
              "KAh2U0JaZmYm9uzZgy+++AIPPPAApk2bhq+//jrYzaIwEx3sBlBg5s2bh+nTp/s85tJLL1V+Lisr\\\n",
              "ww033IDrrrvOY3FHWlqax+ow8XtaWlrrNDjIAn2/fElLS/NY6Rpp75c/unbtiqioKMO/HTO9D80l\\\n",
              "3qOKigp0795debyiogJXXXVVkFoVfLm5ufjHP/6BrVu34pJLLlEeT0tLg8vlQmVlpaZny8x/b7Gx\\\n",
              "sbjssssAAEOGDMGuXbvw4osv4he/+AXfK/IbA2CYSUlJQUpKil/HnjhxAjfccAOGDBmCN998E1ar\\\n",
              "tsM3OzsbixYtQl1dHWJiYgAAmzdvRmZmJjp16tTqbQ+GQN6vpmRnZ+PJJ5/EqVOn0K1bNwDy+5WU\\\n",
              "lIQBAwa0yj3CQWxsLIYMGYLCwkJMmDABgDx0V1hYiNzc3OA2Lgz06dMHaWlpKCwsVAJfVVWV0ptj\\\n",
              "NpIkYfbs2fjggw/w+eefo0+fPprnhwwZgpiYGBQWFmLixIkAgNLSUhw7dgzZ2dnBaHLIcbvdcDqd\\\n",
              "fK8oMMFehUJt47///a902WWXSaNGjZL++9//SidPnlS+hMrKSik1NVW66667pJKSEqmgoEBKSEiQ\\\n",
              "Vq9eHcSWB8/Ro0el4uJiaenSpVKHDh2k4uJiqbi4WDp37pwkSZJUX18vZWVlSWPGjJH27Nkjbdy4\\\n",
              "UUpJSZEWLlwY5Ja3v4KCAslms0lr166Vvv76a+m+++6TkpOTNSukzezcuXPK3w8A6bnnnpOKi4ul\\\n",
              "o0ePSpIkSU899ZSUnJws/e1vf5P27dsn3XrrrVKfPn2kmpqaILe8/T3wwAOS3W6XPv/8c81/py5c\\\n",
              "uKAcc//990s9e/aUPvvsM+mrr76SsrOzpezs7CC2OngWLFggbdmyRfruu++kffv2SQsWLJAsFou0\\\n",
              "adMmSZL4XpH/GAAj1JtvvikBMPxS27t3rzRixAjJZrNJPXr0kJ566qkgtTj4pk2bZvh+/fOf/1SO\\\n",
              "OXLkiHTzzTdL8fHxUteuXaV58+ZJdXV1wWt0EK1cuVLq2bOnFBsbK1177bXSzp07g92kkPHPf/7T\\\n",
              "8G9p2rRpkiTJpWAWL14spaamSjabTRo1apRUWloa3EYHibf/Tr355pvKMTU1NdKvf/1rqVOnTlJC\\\n",
              "QoJ02223af4xayYzZsyQevXqJcXGxkopKSnSqFGjlPAnSXyvyH8WSZKkduxwJCIiIqIg4ypgIiIi\\\n",
              "IpNhACQiIiIyGQZAIiIiIpNhACQiIiIyGQZAIiIiIpNhACQiIiIyGQZAIiIiIpNhACQiIiIyGQZA\\\n",
              "IiIiIpNhACQiIiIyGQZAIiIiIpNhACQiIiIyGQZAIiIiIpNhACQiIiIyGQZAIiIiIpNhACQiIiIy\\\n",
              "GQZAIiIiIpNhACQiIiIyGQZAIiIiIpNhACQiIiIyGQZAIiIiIpNhACQiIiIyGQZAIiIiIpNhACQi\\\n",
              "IiIyGQZAIiIiIpNhACQiIiIyGQZAIiIiIpNhACQiIiIyGQZAIiIiIpNhACQiIiIyGQZAIiIiIpP5\\\n",
              "/84mCDt3wBZlAAAAAElFTkSuQmCC\\\n",
              "\"\n",
              "  frames[1] = \"data:image/png;base64,iVBORw0KGgoAAAANSUhEUgAAAoAAAAHgCAYAAAA10dzkAAAAOnRFWHRTb2Z0d2FyZQBNYXRwbG90\\\n",
              "bGliIHZlcnNpb24zLjEwLjAsIGh0dHBzOi8vbWF0cGxvdGxpYi5vcmcvlHJYcgAAAAlwSFlzAAAP\\\n",
              "YQAAD2EBqD+naQAAQklJREFUeJzt3Xt4lPWd///XTA6TcMgQJCQEA6JoBKOUsioRZFUQVGql9dC4\\\n",
              "39VYEJFN2CLWFapC2NZi0ZUqRKTFiv26Gg9b0VarsijyBUERghAO+SmVQ4EJscIMBHK+f38M981M\\\n",
              "MgmBHCYz9/NxXXPFue977nwYc2VeeX9ODsMwDAEAAMA2nOFuAAAAADoWARAAAMBmCIAAAAA2QwAE\\\n",
              "AACwGQIgAACAzRAAAQAAbIYACAAAYDMEQAAAAJshAAIAANgMARAAAMBmCIAAAAA2QwAEAACwGQIg\\\n",
              "AACAzRAAAQAAbIYACAAAYDMEQAAAAJshAAIAANgMARAAAMBmCIAAAAA2QwAEAACwGQIgAACAzRAA\\\n",
              "AQAAbIYACAAAYDMEQAAAAJshAAIAANgMARAAAMBmCIAAAAA2QwAEAACwGQIgAACAzRAAAQAAbIYA\\\n",
              "CAAAYDMEQAAAAJshAAIAANgMARAAAMBmCIAAAAA2QwAEAACwGQIgAACAzRAAAQAAbIYACAAAYDME\\\n",
              "QAAAAJshAAIAANgMARAAAMBmCIAAAAA2QwAEAACwGQIgAACAzRAAAQAAbIYACAAAYDMEQAAAAJsh\\\n",
              "AAIAANgMARAAAMBmCIAAAAA2QwAEAACwGQIgAACAzRAAAQAAbIYACAAAYDMEQAAAAJuJDXcDIll9\\\n",
              "fb0OHDig7t27y+FwhLs5AACgBQzD0NGjR5Weni6n0561MAJgKxw4cEAZGRnhbgYAADgL+/bt07nn\\\n",
              "nhvuZoQFAbAVunfvLsn/A5SUlBTm1gAAgJbw+XzKyMiwPsftiADYCma3b1JSEgEQAIAIY+fhW/bs\\\n",
              "+AYAALAxAiAAAIDNEAABAABshgAIAABgMwRAAAAAmyEAAgAA2AwBEAAAwGYIgAAAADZDAAQAALAZ\\\n",
              "AiAAAIDNEAABAABshgAItIGCggIVFhY2e01hYaEKCgo6pkEAADQjNtwNADrEhhekNQukkQ9Il09q\\\n",
              "01sXFBRo7ty51vO8vLxG1xQWFio/Pz/oNQAAhAsVQNjDmgWSd5//axtqGP7y8/MbVQIbhr+5c+cS\\\n",
              "AAEAYUUAhD2MfEByZ/i/tpGG4c8UGAIbhj8TIRAAEE4OwzCMcDciUvl8Prndbnm9XiUlJYW7OQjU\\\n",
              "jl2+UtPhL9CgQYO0Y8eOZq+ZM2cOQRAAOhif31QAEa1a2+W74QVpQZb/awgpKSlNvjRLWZJkhT/z\\\n",
              "+ZneBwCA9kIARHQ60y7fhoHvNAEyLy9PixYtanQ8V7laqIXKUY4kKUc5WqiFylVuo2sXLVoUcsII\\\n",
              "AADtjS7gVqCEHCU2vCC995Bk1PlD4wMlLe5CDhzjl6UsLdRC65xXXrnltp5P0zSVqEQS4Q8AwonP\\\n",
              "byqAgD/oGXWSI+ZUxfDySf4geJrxg4GVwBKVaImWWOcCw98SLSH8AQA6DQIgYHYX3/RkyyaMNOgu\\\n",
              "zsvL06BBgyRJRSqSV96gy73yqkhFkvwTQwh/AIBwIwDCXja8ID1xnvSb86Q3J/mDnHSq2hdq8sdp\\\n",
              "xgcWFhZaEz5ylBNU+ZP8lUBzTOCOHTtOu2MIAADtjQAIe1mzQKo8LJ04LJX8T+OJHqEmfzQ8FjDB\\\n",
              "pOEYwCmaYr0ssBI4RVOs2cChFosGAKAjEQBhLyMfkOTw/3dcYuOZwhlX+r9690mP9/FX/UY+ICUm\\\n",
              "S1XH/M9Pjg8s/LwyaJHnEpVomZZJ8o/5m6AJ1pjAZVpmjQGUCIEAgPBiFnArMIsoggTO6pWCZ/gG\\\n",
              "nlv5S3+F0GTOCv7Nef6qYWKydN1jKnziUeX/yRPyW2UpKyjsNXweiAkhANDx+PyWYsPdAKBDBHbj\\\n",
              "Npzda5776JdS5ZFTx2Pi/KFwwwvSiZPHa6qkNQtU/o/vmvxWZtgzdwJpKvxJUnl5eSv+UQAAnB26\\\n",
              "gGEPzS0MbXbxnjgsKaAgXlcrffio9O6Dp447JFUdU8GNfTTn3pub/HaLFi3S9u3bQy4WbWIbOABA\\\n",
              "uFABhD1cPulU1c/s8u3aSzq4RbrkR1JtVYgXGVLN8VNPnXFSzQn/MUeMCu67Rer7/UZ7Agd265pf\\\n",
              "A8cKSoQ/AEB4UQGE/ZhdvgeK/QtAb3vLH+xOp75GViXQqJPee0gF4zM0Z+yp/XxDjelruG0c4Q9A\\\n",
              "uBQUFJx2AlphYSG/o2yACiDsZcMLUvUxyeGUjHr/sUt+JG1/+2TAa4H0oafC45oFKph8s1T1ilIG\\\n",
              "fq/JCR3m8fLycn6xAgiLgoKCoB6LUL+vApe2Ml+D6EQAhH0E7vkbqP9V0rY/teweDqd0eLf5xD9+\\\n",
              "cM0CFVwTL7mPNvtSZvsCCJeG4c8MeYG/lxqGP/N6QmB0ogsY0SnUjh7mnr8N/fXhU9XA0zHqg+aJ\\\n",
              "aOUv/WsHNjXBBADCrGH4MwWuR9ow/Jnmzp1LAIxSrAPYCqwj1IktyPKP83PEnNrjt6kK4BlxSOP/\\\n",
              "K/g+5lqBANDJNBX+AplLVjUn2sYu8/lNBRDRxqz8ZVzpD38nx+lJ8ofAm55s5Tc4+fdSrEuSQ4rr\\\n",
              "QuUPQKeVkpLS5Dlze0oz/JnPz/Q+iEwEQEQXc4bvvs/8Ya9h1+zlk6Ss287+/u4Mf/Wv5rgkQ4px\\\n",
              "BS8qDQCdSMNVCEy5ytVCLVSOciRJOcrRQi1UrnIbXcuORdGJLuBWoITcCQVu6xYqmJnnM66USt48\\\n",
              "gxs7/HsH15xQ8CDAk13ChEAAnVjgGL8sZWmhFlrnvPLKLbf1fJqmWTsYRWv44/ObCiAiVahJHpI/\\\n",
              "iAVu9dbwOrNCuGullJAs/9Ye8n9NSJbGPx1w7KSEZCmxx6mqnxz+KqIjxv/c7GIGgE4qsBJYohIt\\\n",
              "0RLrXGD4W6Il7Rb+Xl6/RyOe+Egvr9/TZvfE2SMAIjIF7u3b0uvMNQATkv05rvJw8LWjH/MHx/Tv\\\n",
              "BR+vPHyy6HcyGCb0kG57IXQXs9R0OAWAMMrLy9OgQYMkSUUqklfeoPNeeVWkIkn+iSFtXflbvGqX\\\n",
              "9h85ocWrdrXpfXF2ojYALl68WJdddpmSkpKUlJSk7Oxs/fWvf7XOV1ZWKi8vT+ecc466deumW2+9\\\n",
              "VWVlZWFsMc5Ic3v7NnXdmgX+/X5d3aSBo/0VvPTvyR/sDP+SLtKpdf7iuvgfcvivH/9f/nuNfsx/\\\n",
              "/vJJp+5rhj1zpnFLwikAtDGzyvbvrxY3qrYVFhZaEz5ylBNU+ZP8lUBzTOCOHTtOu2PImZp6zQXq\\\n",
              "2yNRU6+5oE3vi7MTtWMA//znPysmJkYXXnihDMPQSy+9pCeffFLFxcW65JJLNHXqVL377rtatmyZ\\\n",
              "3G638vPz5XQ6tXbt2hZ/D8YQRJjA8YFmZdCd4a8KnjgsJSZLD++WnjjPX/VLSPa/zvzvmbsb39Nc\\\n",
              "bsZcCibU8jMA0IZeXr9Hi1ft0tRrLtC/Du9vHXvqg1J5T9TIkBTjkOoMqUdinLq6YjXw27X643/N\\\n",
              "lsQYQInPbymKK4A333yzbrrpJl144YW66KKL9Pjjj6tbt25av369vF6vXnjhBT399NO67rrrNGzY\\\n",
              "ML344ov69NNPtX79+nA3He3FHB8oSVXH/IFv5APSdY/5A9x1Jyt7ox87VekLGCIYUsNKpPmc8Aeg\\\n",
              "nYTqSl28apeOnAx/DknxsU71SIyTJO386A0r/En+MYDLtEySf8zfBE2wxgQu0zIr/EnBi0UjukRt\\\n",
              "BTBQXV2d3njjDeXm5qq4uFgej0ejR4/W4cOH1aNHD+u6/v37a/r06XrggdDdilVVVaqqqrKe+3w+\\\n",
              "ZWRk2PoviIjUsGrXUGClUDo1a3jfZ03PLgaAVghV1Wvquqc+KJUkjbooRRv3HLa6VM3jknTkRI36\\\n",
              "9kgMqvw1lKWsoLDX8HmgaKsEUgGM4gqgJG3dulXdunWTy+XS/fffr7feekuDBw+Wx+NRfHx8UPiT\\\n",
              "pNTUVHk8nibvN2/ePLndbuuRkZHRzv8CtIumxg+akzc++uWpMXxm1XDfZ4zrA9AuXl6/R3PeLml2\\\n",
              "goQ5tu+pD0p15ESNurpitXHPYe0/ckJz3vaHtp+Py1RXV6xGXZRijbUb0K3pnY/MsGdODGkq/ElS\\\n",
              "eXn52f7z0EnFhrsB7SkzM1ObN2+W1+vVm2++qdzcXH3yySdnfb9Zs2ZpxowZ1nOzAogIc/mk0FU8\\\n",
              "c1xgQnLjgGiOG2TXDwBt7KkPSlVn+Ltuz+karwtmvavxl6Xr2TuHWpXBiqpaHTlRox6JceqRGKeK\\\n",
              "qlqNuihFHu8J1RnSo8uDw9vamdf5/2N4gSQ1uR1c35vyFH/FD9X383e0/73QXb3Rtg0c/KI6AMbH\\\n",
              "x2vgwIGSpGHDhmnDhg165pln9JOf/ETV1dU6cuRIUBWwrKxMaWlpTd7P5XLJ5XK1d7PRkQK7ewND\\\n",
              "XsOA2FRoBIA24k6M07YDXtUZ0p+/PKCNew5bwS8uxj8QuasrRvuPVEqS3vnygJwhxyefGtn18vo9\\\n",
              "WpEwSqn//K8q++TloKsG/HCakr7/Ax05UaPYS2/UgFinvnlnYdA1hL/oFdVdwA3V19erqqpKw4YN\\\n",
              "U1xcnFauXGmdKy0t1d69e5WdnR3GFqLDBa4T2HARaQBoA6dbAPnn4zLVt0eiRl2UIqfDn+hinQ7t\\\n",
              "P3JCR07USJJq6vyhzgx/pvoQo/j3H6nUeTPf1b+/WmxNGEm++l/kHnGndc2iRYv0t7ef1c/HZVpV\\\n",
              "xf+c9WDQtnGEv+gWtRXAWbNm6cYbb1S/fv109OhRvfLKK1q1apU++OADud1uTZo0STNmzFDPnj2V\\\n",
              "lJSkadOmKTs7W8OHDw9309FWTrctnNR8125LXg8ApxE4a7epCR7fVVTpnS8PWM9jY5yqN+pU14pp\\\n",
              "mub9nA7JFRujHiP/jySp5zm9rAkd/zq8f3CbhvuPl5eXE/6iXNQGwEOHDunuu+/WwYMH5Xa7ddll\\\n",
              "l+mDDz7Q9ddfL0lasGCBnE6nbr31VlVVVWncuHF67rnnwtxqtFqotf7M6l4ozXXttuT1AHAaw/on\\\n",
              "y+M9oWH9k4OOB47vO1FTH3SuqrYuZHXvbJj3SYxzqsf192jURSka8cRHTc44jqbZvmha1AbAF15o\\\n",
              "fhuuhIQEFRYWsr5RtAkMba2ZuBG4bRwTPwC0wsY9h1Vn+L8GMiuDPRLjFOd0qCYg8bVV+DMdOVGj\\\n",
              "GIf0yPjBLapIIvrZagwgbCBwiZfWjOkL3DaO6h+AVmhqCzTz+M/HZap3UkKTr++RePa1mpiASSJ1\\\n",
              "hn/GMVuyQbLJQtDthYUkoxjj/wB0kJfX79Hj7263uoHNHTzMCSAndytvMYekm4eka+OewxrWP1kb\\\n",
              "9xzWdxXVOlFTp8S4GPXsGn/aBaejHZ/fUdwFDLQKy74A6CCLV+0KGgM46qIUXTGgp7W2nyHpsr5u\\\n",
              "bdnvta7p2yMhaEZw4HN3YpyevXNo0PcI3CuY7l9IdAEDABBWU6+5wKr6SdLq/6+80Y4g/6ioVmKc\\\n",
              "M+A1A/WrCVlWF6/HW6kfDkm3upQb+tfh/dXVFStD/m5hun9BAERkMbdr29D8JB8AiBT/Ory/Ns8Z\\\n",
              "GxQCzXF6Zqgb1j9ZlQFVwsWrdmnxql3WMjHmJJO1M69rsrJn3nPuLVlU/8AYwNZgDEEYLMjyz/J1\\\n",
              "Z/gneABAlDCXhQk1Pm/EEx9p/5ETcsjfxWtW+Rav2mWN87P7uL4zwec3AbBV+AEKAyZnALCh5sIh\\\n",
              "zhyf3wTAVuEHCACAyMPnN2MAAQAAbIcACAAAYDMEQAAAAJshAAIAANgMARAAAMBmCIAAAAA2QwAE\\\n",
              "AACwGQIgAACAzRAAAQAAbIYACAAAYDMEQAAAAJshAAIAANgMARAd4nBRkb66brQOFxWFuykAANge\\\n",
              "ARAd4tvf/V61Bw7o29/9PtxNAQDA9giA6BC97pus2PR09bpvcribAgCA7TkMwzDC3YhI5fP55Ha7\\\n",
              "5fV6lZSUFO7mAACAFuDzmwogmlBQUKDCwsJmryksLFRBQUHHNAgAALSZ2HA3AC1zuKhI3/7u9+p1\\\n",
              "32Ql5+S06/cqKCjQ3Llzred5eXmNriksLFR+fn7QawAAQGSgAhghOmoSRcPwl5+f36gS2DD8zZ07\\\n",
              "lwAIAEAEIQBGiI6YRNEw/JkCQ2DD8GciBAIAEDmYBNIK0TSItKnwF2jQoEHasWNHs9fMmTOHIAgA\\\n",
              "6NSi6fP7bFEBhCQpJSWlyXNZypIkK/yZz8/0PgAAoHMgAEKSf6LHokWLGh3PVa4WaqFy5J94kqMc\\\n",
              "LdRC5Sq30bWLFi0KOWEEAAB0LnQBt0I0lpADx/hlKUsLtdA655VXbrmt59M0TSUqkUT4AwBEjmj8\\\n",
              "/D5TVAARJLASWKISLdES61xg+FuiJYQ/AAAiFAHQpg4XFemr60brcFFRo3N5eXkaNGiQJKlIRfLK\\\n",
              "G3TeK6+K5H/doEGDCH8AAEQYAqBNNbeuYGFhoTXhI0c5QZU/yV8JNMcE7tix47Q7hgAAgM6FABgl\\\n",
              "mqvohdLUuoINxwBO0RTrXGAlcIqmWLOBQy0WDQAAOi8mgbRCZxhEam4RV19RoXqvV063W86uXdVl\\\n",
              "6FAdLy4+o63jQi3ynKtc3aN7tERLVKQi5ShHUzRFy7RML+mloGsZCwgAiASd4fM73AiArdAZfoC+\\\n",
              "um60ag8csIKfGQQVEyPV1Sk2PV0XfrSy0esa7i3c1A4fkr8SaE74CPU8ECEQANDZdYbP73CjCzjC\\\n",
              "mV25vR+Yrgs/Wqn4jAxJUmxqqtXFu//Bn2vHxYO04+JB2v/gzyUFjwE8XFSknU891eT3MMOeOTGk\\\n",
              "qfAnSeXl5W31TwMAAO2EABiBAsf7Jefk6MKPVlrdvJUnJ2/UHjigLkOHSpJ8775rvdb37rs6XFRk\\\n",
              "BccuQ4fK88tf6d9cCco/77wmv+eiRYu0ffv2kItFm9gGDgCAyEAXcCuEq4Qc2O1r6jZypI6tWaP6\\\n",
              "igqpttY67khIkFFZGfT6wG5h816KiVHaY4/qmZ07G+0J3LBbN1R3MeEPABAp6AKWYsPdAJy5XvdN\\\n",
              "Dpr4IQVX+QIFhr/Y9HTVHjyouu++0/4Hf+4PjMePSw6Hkm64Qck5OSo4ea0ZAkON6TOfmyGQ8AcA\\\n",
              "QGSJ2grgvHnz9Kc//Uk7d+5UYmKirrrqKv3mN79RZmamdU1lZaUefPBBFRUVqaqqSuPGjdNzzz2n\\\n",
              "1NTUFn2PjvwLouGkDfOYZ+5/Sm3xv9DhUNqc2da9CwoKlJKS0uyEjsLCQpWXlxP+AAARhQpgFAfA\\\n",
              "G264QTk5Obr88stVW1urX/ziFyopKdH27dvVtWtXSdLUqVP17rvvatmyZXK73crPz5fT6dTatWtb\\\n",
              "9D068gfI7KptOKv3cFGRDi34rVUJbC2n263eD0xv8dIxAABEGgJgFAfAhsrLy9W7d2998sknGjVq\\\n",
              "lLxer1JSUvTKK6/otttukyTt3LlTgwYN0rp16zR8+PDT3jPcFUBT6ZXD2ywASrLGAxICAQDRiABo\\\n",
              "o1nA3pMBqWfPnpKkjRs3qqamRmPGjLGuufjii9WvXz+tW7cuLG0M1HBnj4azfQ8XFan0yuEqvXK4\\\n",
              "jKoq/4ucbfS/s67O2iLuTHcYAQAAnZ8tJoHU19dr+vTpGjFihLKy/NuXeTwexcfHq0ePHkHXpqam\\\n",
              "yuPxhLxPVVWVqsywJf9fEO3F7NY9tOC3QZW4hjt/SP5uW4fL1boqoMMRNJYwtmdPfXXdaOv7fPu7\\\n",
              "31MRBAAgStgiAObl5amkpERr1qxp1X3mzZvXaImUjmYu4CyHQ46EBEmSUV3daKmXM+VMSpJRVWXd\\\n",
              "p3LbNisQOt3uRnsGAwCAyBX1XcD5+fn6y1/+oo8//ljnnnuudTwtLU3V1dU6cuRI0PVlZWVKS0sL\\\n",
              "ea9Zs2bJ6/Vaj3379rVbu3s/MN3a4SNQr/sm+7d5Mww5XC5/aDtx4uxmAjscwU9dLv9/xMSc+m9J\\\n",
              "9ceOnfm9AQBApxW1AdAwDOXn5+utt97SRx99pAEDBgSdHzZsmOLi4rRy5akZtaWlpdq7d6+ys7ND\\\n",
              "3tPlcikpKSno0V4ajvkLPJ722KOKTU/3HwgIfo7ERH93cEKCHImJUmxwgdfpditp/Hireph0002K\\\n",
              "TU+X0+1Wvdcro7rafy4uTt1Hj/YvNO1wMCYQAIAoE7UBMC8vTy+//LJeeeUVde/eXR6PRx6PRydO\\\n",
              "nJAkud1uTZo0STNmzNDHH3+sjRs36qc//amys7NbNAM4nMxw2PuB6f6QdnLyh1FTo3qvVzE9eyom\\\n",
              "OTloRxA5HOo2cqT6/tdTiu3TR0ZlpY4XF1v3iU1PlyM+XjIM61zmZ+uVNme2PyBWVFjjD809hAEA\\\n",
              "QGSK2gC4ePFieb1eXXPNNerTp4/1eO2116xrFixYoB/84Ae69dZbNWrUKKWlpelPf/pTGFt95pxd\\\n",
              "u56qAtbVKTY9Xb3um6xe902W0+22HjIMHS8uluTvRnYkJKj24EHtf/DnjQKl0+1Wl6FDVXrlcB1a\\\n",
              "8FtJsiaCmHsIMyYQAIDIZZt1ANtDR68j1HAtQHNxaEdCgoyaGiXdcIP6/tdTp32dJO24JEuqq5Ni\\\n",
              "YjRoW0mj11h7BMvfdezs2jXkGoQAAEQa1gGM4gpgNGrY/WpW41JnPqxB20pChj8p9HjCpBtukGJi\\\n",
              "/F9DCKwg9n5gesjxiAAAIDJRAWyFcFUAuwwdquPFxVTkAAA4C1QAqQBGFLOSd7y4mIkYAADgrBEA\\\n",
              "IxATMQAAQGvQBdwKlJABAIg8fH5TAcQZYiFoAAAiHwEQZ4SFoAEAiHwEQJwRxh8CABD5GAPYCowh\\\n",
              "AAAg8vD5TQUQAADAdgiAAAAANkMABAAAsBkCIAAAgM0QAAEAAGyGAAgAAGAzBEAAAACbIQACAADY\\\n",
              "DAEQAADAZgiAAAAANkMABAAAsBkCIAAAgM0QAAEAAGyGAAgAAGAzBEAAAACbIQACAADYDAEQAADA\\\n",
              "ZgiAAAAANkMABAAAsBkCIAAAgM0QAAEAAGyGAAgAAGAzBEAAAACbIQACAADYDAEQAADAZgiAAAAA\\\n",
              "NkMABAAAsBkCIAAAgM0QABEVXi99XWPfHKvXS18Pd1MAAOj0CICICku3LtXBioNaunVpuJsCAECn\\\n",
              "RwBEVLj30nvVp2sf3Xvpva2+F9VEAEC0cxiGYYS7EZHK5/PJ7XbL6/UqKSkp3M1BGxn75lgdrDio\\\n",
              "Pl376MPbPgx3cwAAbYzPbyqAQCNtWU0EAKAzogLYCvwFAQBA5OHzO4orgKtXr9bNN9+s9PR0ORwO\\\n",
              "LV++POi8YRiaPXu2+vTpo8TERI0ZM0ZfffVVeBqLqFNQUKDCwsJmryksLFRBQUHHNAgAgACx4W5A\\\n",
              "e6moqNCQIUM0ceJE/fjHP250fv78+Xr22Wf10ksvacCAAXrsscc0btw4bd++XQkJCWFoMaJFQUGB\\\n",
              "5s6daz3Py8trdE1hYaHy8/ODXgMAQEeJ2gB444036sYbbwx5zjAM/fa3v9Wjjz6qW265RZL0xz/+\\\n",
              "UampqVq+fLlycnI6sqmIIg3DnxnyAkNgw/BnXk8IBAB0lKjtAm7ON998I4/HozFjxljH3G63rrzy\\\n",
              "Sq1bt67J11VVVcnn8wU9AFPD8GfKz8+3uoMbhj/T3LlzCYAAohpDYzqXqK0ANsfj8UiSUlNTg46n\\\n",
              "pqZa50KZN29eyA94oKnwZzJD4I4dO5q8hkoggGjF0JjOx5YVwLM1a9Yseb1e67Fv375wNwmdREpK\\\n",
              "SpPnspQlSVb4M5+f6X0AIBKFGhrTsBIYamgMAbB92TIApqWlSZLKysqCjpeVlVnnQnG5XEpKSgp6\\\n",
              "AJL/r9lFixY1Op6rXC3UQuXIP640RzlaqIXKVW6jaxctWhTyr2IAiFQMjem8bBkABwwYoLS0NK1c\\\n",
              "udI65vP59Nlnnyk7OzuMLUMkaxgCs5Sle3SPJGmKpmi5lmuKpkiS7tE9QZVAwh+AaNOSoTGDBw8O\\\n",
              "Gf5MhMD2E7UB8NixY9q8ebM2b94syT/xY/Pmzdq7d68cDoemT5+uX/3qV3rnnXe0detW3X333UpP\\\n",
              "T9eECRPC2m50Xi3ZIzgwBJaoREu0xDrnltv67yVaohKVSCL8AYg8X654T7/Pm6gvV7zX5DUMjenc\\\n",
              "ojYAfvHFFxo6dKiGDh0qSZoxY4aGDh2q2bNnS5L+4z/+Q9OmTdN9992nyy+/XMeOHdP777/PGoBo\\\n",
              "0tKtS3Ww4qCWbl3abBjMy8vToEGDJElFKpJX3qDzXnlVpCJJ0qBBgwh/ACLO58vflO/bQ/p8+ZtN\\\n",
              "XsPQmM4tagPgNddcI8MwGj2WLVsmSXI4HPrP//xPeTweVVZW6n//93910UUXhbfR6LQeXv2wPBUe\\\n",
              "JcQk6N5L7w0Kgw0FzvbNUU5Q5U/yVwLNX3w7duw47bIIANDZXDHhNiX16q0rJtzW5DVfrnhP8ds3\\\n",
              "amb+VOsYQ2M6j6gNgEBben/3+zJkqLKuUpJ076X3qk/XPrr30nuDqoGBg5mzlGX9YpMUVAmcoinW\\\n",
              "L7r8/HxNmj2pA/81AHB2zK5fSZpc+AcNuf6mJq81q4Tn11cyNKYTIgDCdloyli/w2hGvjlCMI8Y6\\\n",
              "tnTrUt2ReYc+vO1D3ZF5h57Z9IwOVhzUA796IGgwc4lKtEzLJPl/sU3QBOsX3zIts37RSdIffvkH\\\n",
              "KoEAOr1QXb/vPjtfT9/5Q7377PygawOrhAyN6XwchmEY4W5EpPL5fHK73fJ6vSwJE0HGvjlWBysO\\\n",
              "qk/XPvrwtg8bnX+99HU9u+lZGTJUXVdtVf0ccqh7fHf97Ps/k6Sga/Z/sF8HXz4Y8vtlKSso7DV8\\\n",
              "Hoi/egGE05cr3tPny99UeubF2v3lJslwaOSdd1mVPvP8FRNus449fecPZdTXy+F0asar74S8b2Dv\\\n",
              "SI5ygnpHTEu0xAqB7f27kM9vKoCwocDu21CWbl0qb7VXvmqfFf4kyZChrnFddUfmHY2uqT1a2+T3\\\n",
              "M8Oe+ddvU+FPksrLy8/mnwQAbcKs8JWuW6PKY8dUWXE0qNo35PqbGnX9ZmaPlMPpVGb2yJD3PNuh\\\n",
              "MfSKtC8CIKJewy7fwO7bUO699F4lxISeDV5WUaZLX7pU5ceDg1rqj1J1/u3nN9mGRYsWafv27SFn\\\n",
              "xJnmzJnDelcA2tXplm+5YsJtSujWTTFxcYp1uZTQtbs10aOprl7T4YMHgu795Yr39C+jss96aAwh\\\n",
              "sH0RABH1mpuxa2oYEgMrf4HqVS9JqjVqlRCTIIccinPGKSk+SfN+OU9z5sxp9BqzK+P10tf1durb\\\n",
              "mvjYxEbXEP4AdITTLd8y5PqbFJ/QRbVVVerS3a28P7wqSfp93kTt/PT/yaiv1861q4MCZOm6NTLq\\\n",
              "61X2t6+D7v2bX/5Sr/6/9Y2+x0t6SdM0zeruLVKRpmmaXtJLja4lBLYfAiCi3tDeQ+V0ODW099Am\\\n",
              "r3l207M6WHFQT254Ur9a/6sW3fehyx/SltwtmnnFTHWN6yrJv/J9YAgMHMdiBtF9l+0LqgQS/gB0\\\n",
              "lJYs33LFhNuU0LW7jh/1qnDinVr1f1+Q79tDcsacmgxnhrwvV7wnh8MfJbr3Sgm6d1L/pntFzErf\\\n",
              "+f0ygp6HwtCY9hEb7gYA7a34ULHqjXoVHypu8pqquipJTVf+Gop1xFoVxcAK4x2Zd1hhbl/9Pr2d\\\n",
              "+rZSSlN0R+Yd1vqB9156r+64zd/9XF5eTvgD0GGGXH9TyKVbGk7u+Hz5m6r89qhqq6qsa+pra3Xx\\\n",
              "iFH6+ovP5PtHuV6eNV1l3+ySTs4ldcihyYV/sK5//v/+t9IuuLDJ7eDMP5Cb2gtY4g/k9sQs4FZg\\\n",
              "FlFkeL30dS3dulRDew9V8aFi66s5CWTp1qUqP16uWsM/kSMhJuGMgmCsM1ZVdVW6ccCN+s2o31jn\\\n",
              "TjfbGAA6i9/nTZTv20NK6Npd8YmJSs+8WF9/8VlQADydi0eMkiTt/PT/yeFwyDAMXXzV1drw3fFG\\\n",
              "IbDhLN9QIbA9wx+f3wTAVuEHKLKYgczpcKreqFefrn10vOa4vNXe07+4BQKXibkj846g5WTMYwDQ\\\n",
              "GZkVwOrK46o8dkxJvXpLknzfHpIcDsXGxau2uuVh0GQuDXP/Xf9HS15+RVLTS7wEhsD2rvzx+U0X\\\n",
              "MGzE7IId2nuo1u5fq4qaCh2vOd5m9zdkyFfts7qCzeViAruHAaCzCFzz70DpTv/af5uLFetyqbry\\\n",
              "uM4b8n1VVx5XdWWlamuqz+p7mEvDmN3BKSkpTa7vZx5naEzHoALYCvwFEblGvDpCvmpfu9w7ISZB\\\n",
              "D13+kFUFtMb9EQABdCJmt6/D6bQWcg78KofDGt93JpyxsaqvrZUcDo2Z5N8HuOHi0eHG5zezgGET\\\n",
              "DZd5cchhnXM6nLrknEtafC+HHNYSMJecc4nc8W4lxScpKd7/S6SyrlLPbnpWY98cK0mN1hw8k63o\\\n",
              "AKC9mDOCM7NHNvrqcDrPKvwldO2u+IST66gahv536XNa9ccXgpaH+XLFeyqceKcKJ+U0uR4h2h8V\\\n",
              "wFbgL4jI0XBCRuD4vJF9R1ozhA9WhN7OrSnueLe6xHWxJpQ03ELOHe/WmjvXNNsWAOhMvlzxntYU\\\n",
              "/VGVx46d+YsdDqUOuEBlf/s6+PDJnULG//t/qHDinaqsOCpJSurVO2jmcEfh85sKIGyi4fZvd2Te\\\n",
              "oTV3rtHaO9eq+FCxDlYcVNnxMt004KaQu4AkxCRYx83/dsihqrqqoDF+5j3jY+Il+ccFnq4tANDe\\\n",
              "Qu0A0tSuIJ8vf/Pswp8kGUaj8CdJRn29DpTu9D9xnPy96HA0ux4h2hcBELbQcPu310tf14hXR2jk\\\n",
              "qyPVM6GnJFlrBSYnJEvyBz2nw6mbBtykhy5/SJK/+/e6ftcpOSFZhgy5Ylwhw9zPvv8z9enaRz/7\\\n",
              "/s9O2xYAaG+hdgBpaleQhqHM4XT6u4TPkjM2NmiB6JE5dyupV2+NmTS104wJtCNmAcOWlm5dak0C\\\n",
              "OfqdvyvC3C1k7f61SopPClq6ZeybY621Ac01BM3JHeb9Au9976X30r0LoNO4YsJt1kQMU3rmxTr6\\\n",
              "3bdKz7y40ULQf99RotJ1a5SZPVLnDsrS/y59Luh+3Xul6Oi3ze/QkXr+QJ3w+RpN/ghcjLrh90XH\\\n",
              "YQxgKzCGIHK9Xvq6ntn0jBxyaETfEUGhruFYwcClY8w1/aRTQS/wNZKstQYfufIRqnwAOi1zFnDg\\\n",
              "mn+hxuSZ14XkODmhzjCU1Ku30jMv1s61qyU1Ht8XKuwFtqEjxwLy+U0XMKJcUzNu78i8Q2vvXKs1\\\n",
              "d67Rb0b9xuqSbTg+zwx3xYeKrfF9d2TeoWc2PaODFQf1zKZngl5z76X3WgtNm1VBZv0C6IwC9wVu\\\n",
              "bo9gc29gK+yZAsKfw+nUFRNus8b5mc8DhepybsnexGgfVABbgb8gOr/WzrhtuI2cuZ7fyFdHylvt\\\n",
              "DTnLt+Haf8z6BRDprJm7DocuvupqHSjdqeoTJ1RZcVQOp1OjJ96vIdff1GyXbmfq7uXzmwDYKvwA\\\n",
              "dX5ttRBzqGVkWnpfFoMGEOkKJ+Wo8tgxJXTrppE5dwftINIZAt2Z4vObANgq/ADZByEOgJ00rNYF\\\n",
              "Pje7cls6bq8zVf5MfH4zBhBRrq3G37F0CwA7aTheb8j1N2ly4R805PqbznjcXlPLzSC8CICIauYk\\\n",
              "jsBlWgAAzWsu5AWGwdbeC+FDF3ArUELu/Oi6BQA0xOc3AbBV+AECACDy8PlNFzAAAIDtEAABAOgE\\\n",
              "vlzxnn6fN1Ffrngv3E2BDRAAAQDoBJgti45EAAQAoBNgtiw6EpNAWoFBpAAARB4+v6kAAgAA2A4B\\\n",
              "EAAAwGYIgAAAADZDAAQAALAZAiAAAIDNEAABAABshgAIAABgMwRAAAAAmyEAAgAA2AwBEAAAwGYI\\\n",
              "gAAAADZj+wBYWFio8847TwkJCbryyiv1+eefh7tJAAAA7crWAfC1117TjBkzNGfOHG3atElDhgzR\\\n",
              "uHHjdOjQoXA3DQAAoN3YOgA+/fTTmjx5sn76059q8ODBev7559WlSxf94Q9/CHfTAAAA2o1tA2B1\\\n",
              "dbU2btyoMWPGWMecTqfGjBmjdevWhXxNVVWVfD5f0AMAACDS2DYAfvvtt6qrq1NqamrQ8dTUVHk8\\\n",
              "npCvmTdvntxut/XIyMjoiKYCAAC0KdsGwLMxa9Yseb1e67Fv375wNwkAAOCMxYa7AeHSq1cvxcTE\\\n",
              "qKysLOh4WVmZ0tLSQr7G5XLJ5XJ1RPMAAADajW0rgPHx8Ro2bJhWrlxpHauvr9fKlSuVnZ0dxpYB\\\n",
              "AAC0L9tWACVpxowZys3N1T/90z/piiuu0G9/+1tVVFTopz/9abibBgAA0G5sHQB/8pOfqLy8XLNn\\\n",
              "z5bH49H3vvc9vf/++40mhgAAAEQTh2EYRrgbEal8Pp/cbre8Xq+SkpLC3RwAANACfH7beAwgAACA\\\n",
              "XREAAQAAbIYACAAAYDMEQAAAAJshAAIAANgMARAAAMBmCIAAAAA2QwAEAACwGQIgAACAzRAAAQAA\\\n",
              "bIYACAAAYDMEQAAAAJshAAIAANgMARAAAMBmCIAAAAA2QwAEAACwGQIgAACAzRAAAQAAbIYACAAA\\\n",
              "YDMEQAAAAJshAAIAANgMARAAAMBmCIAAAAA2QwAEAACwGQIgAACAzRAAAQAAbIYACAAAYDMEQAAA\\\n",
              "AJshAAIAANgMARAAAMBmCIAAAAA2QwAEAACwGQIgAACAzRAAAQAAbIYACAAAYDMEQAAAAJshAAIA\\\n",
              "ANgMARAAAMBmCIAAAAA2QwAEAACwGQIgAACAzRAAAQAAbCYqA+Djjz+uq666Sl26dFGPHj1CXrN3\\\n",
              "716NHz9eXbp0Ue/evfXQQw+ptra2YxsKAAAQBrHhbkB7qK6u1u23367s7Gy98MILjc7X1dVp/Pjx\\\n",
              "SktL06effqqDBw/q7rvvVlxcnH7961+HocUAAAAdx2EYhhHuRrSXZcuWafr06Tpy5EjQ8b/+9a/6\\\n",
              "wQ9+oAMHDig1NVWS9Pzzz+vhhx9WeXm54uPjW3R/n88nt9str9erpKSktm4+AABoB3x+R2kX8Oms\\\n",
              "W7dOl156qRX+JGncuHHy+Xzatm1bGFsGAADQ/qKyC/h0PB5PUPiTZD33eDxNvq6qqkpVVVXWc5/P\\\n",
              "1z4NBAAAaEcRUwGcOXOmHA5Hs4+dO3e2axvmzZsnt9ttPTIyMtr1+wEAALSHiKkAPvjgg7rnnnua\\\n",
              "veb8889v0b3S0tL0+eefBx0rKyuzzjVl1qxZmjFjhvXc5/MRAgEAQMSJmACYkpKilJSUNrlXdna2\\\n",
              "Hn/8cR06dEi9e/eWJK1YsUJJSUkaPHhwk69zuVxyuVxt0gYAAIBwiZgAeCb27t2r7777Tnv37lVd\\\n",
              "XZ02b94sSRo4cKC6deumsWPHavDgwbrrrrs0f/58eTwePfroo8rLyyPgAQCAqBeVy8Dcc889euml\\\n",
              "lxod//jjj3XNNddIkvbs2aOpU6dq1apV6tq1q3Jzc/XEE08oNrblmZhp5AAARB4+v6M0AHYUfoAA\\\n",
              "AIg8fH5H0CxgAAAAtA0CIAAAgM0QAAEAAGyGAAgAAGAzBEAAAACbIQACAADYDAEQAADAZgiAAAAA\\\n",
              "NkMABAAAsBkCIAAAgM0QAAEAAGyGAAgAAGAzBEAAAACbIQACAADYDAEQAADAZgiAAAAANkMABAAA\\\n",
              "sBkCIAAAgM0QAAEAAGyGAAgAAGAzBEAAAACbIQACAADYDAEQAADAZgiAAAAANkMABAAAsBkCIAAA\\\n",
              "gM0QAAEAAGyGAAgAAGAzBEAAAACbIQACAADYDAEQAADAZgiAAAAANkMABAAAsBkCIAAAgM0QAAEA\\\n",
              "AGyGAAgAAGAzBEAAAACbIQACAADYDAEQAADAZgiAAAAANkMABAAAsBkCIAAAgM1EZQDcvXu3Jk2a\\\n",
              "pAEDBigxMVEXXHCB5syZo+rq6qDrtmzZoquvvloJCQnKyMjQ/Pnzw9RiAACAjhMb7ga0h507d6q+\\\n",
              "vl5LlizRwIEDVVJSosmTJ6uiokJPPfWUJMnn82ns2LEaM2aMnn/+eW3dulUTJ05Ujx49dN9994X5\\\n",
              "XwAAANB+HIZhGOFuREd48skntXjxYv3tb3+TJC1evFiPPPKIPB6P4uPjJUkzZ87U8uXLtXPnzhbd\\\n",
              "0+fzye12y+v1Kikpqd3aDgAA2g6f31HaBRyK1+tVz549refr1q3TqFGjrPAnSePGjVNpaakOHz4c\\\n",
              "jiYCAAB0CFsEwK+//loLFy7UlClTrGMej0epqalB15nPPR5PyPtUVVXJ5/MFPQAAACJNRAXAmTNn\\\n",
              "yuFwNPto2H27f/9+3XDDDbr99ts1efLkVn3/efPmye12W4+MjIxW3Q8AACAcImoMYHl5uf7xj380\\\n",
              "e835559vdeseOHBA11xzjYYPH65ly5bJ6TyVd++++275fD4tX77cOvbxxx/ruuuu03fffafk5ORG\\\n",
              "966qqlJVVZX13OfzKSMjw9ZjCAAAiDSMAYywWcApKSlKSUlp0bX79+/Xtddeq2HDhunFF18MCn+S\\\n",
              "lJ2drUceeUQ1NTWKi4uTJK1YsUKZmZkhw58kuVwuuVyu1v0jAAAAwiyiuoBbav/+/brmmmvUr18/\\\n",
              "PfXUUyovL5fH4wka2/cv//Ivio+P16RJk7Rt2za99tpreuaZZzRjxowwthwAAKD9RVQFsKVWrFih\\\n",
              "r7/+Wl9//bXOPffcoHNmj7fb7daHH36ovLw8DRs2TL169dLs2bNZAxAAAES9iBoD2NkwhgAAgMjD\\\n",
              "53eUdgEDAACgaQRAAAAAmyEAAgAA2AwBEAAAwGYIgAAAADZDAAQAAB2uoKBAhYWFzV5TWFiogoKC\\\n",
              "jmmQzUTlOoAAAKDzKigo0Ny5c63neXl5ja4pLCxUfn5+0GvQdqgAAgCADtMw/OXn5zeqBDYMf3Pn\\\n",
              "ziUAtjECIAAA6BANw58pMAQ2DH8mQmDbYieQVmAlcQAAWqap8Bdo0KBB2rFjR7PXzJkzp9VBkM9v\\\n",
              "KoAAAKADpKSkNHkuS1mSZIU/8/mZ3gctRwAEAADtLi8vT4sWLWp0PFe5WqiFylGOJClHOVqohcpV\\\n",
              "bqNrFy1aFHLCCM4cXcCtQAkZAIAzEzjGL0tZWqiF1jmvvHLLbT2fpmkqUYmktg1/fH5TAQQAwPZK\\\n",
              "Vu/XH3+xViWr97fJdc0JrASWqERLtMQ6Fxj+lmhJu4Q/+BEAAQCwuU3v79bR76q06f3dZ3XdmQbD\\\n",
              "vLw8DRo0SJJUpCJ55Q0675VXRSqSJJ3f/0LCXzsgAAIAYHPfv+E8de/p0vdvOK/Ja16ft0FHv6uS\\\n",
              "0+lodF1gMPzwhW167t8+0ocvbGt0DzMoPvLA49aEjxzlBFX+JH8l0BwT+Lc9X512xxCcOQIgAAA2\\\n",
              "lzWqr+7+9QhJalTJM0Nb+Z6jkqT6ekPrl+8KuiYwQH69sUxGvfT1xrJG32fT+7v1l9Wv6de/fdT/\\\n",
              "fZWlKZpinQ+sBE7RFGs2cKjFotE6BEAAACDpVCVvdVGpSlbvV8nq/VpdVOqv/MU4rOuqjtdq0/u7\\\n",
              "rXAo+UPgpvd3q1dGdzmc0sBhqY3uX3pild5Ye2rSR4lKtEzLJPnH/E3QBGtM4DIts8YASoTAtsYs\\\n",
              "4FZgFhEAIJKUrN6vTe/v1vdvOE9Zo/qGPL+6qFRGvdS9p0uSdPS7KskhuRJjVXW89tTFDik2zqna\\\n",
              "6np17+nSiWM1qq2ulzPGoa7ueKub2Px+n2xdHnKHD8lfCQwMew2fB2qLCSF8flMBBADANk432SNr\\\n",
              "VF8NHJYqh1NKu6CH1bVrhj+n81QVUIZUW10vV5dYVVfWqba6XpJUX2fo6HdVWvvmV1b1cNP7u7Xt\\\n",
              "i11NtssMe+bEkKbCnySVl5ef4b8aoRAAAQCwieYme5jduXu3/UNGveTZdcQaGzh8wgVydYlVfX3j\\\n",
              "TsPqE7XBlcGTaqvrZfgzoQxJw/vcqhuH3d1k234x/Vfavn27fjH9V01e0xbbwMEvNtwNAAAAHSNr\\\n",
              "VN+QXb/Sqeqgq0usFRJLVu/X2je+Um1NfZP3bMlAsmPfVSmlf3f9eNQkOWMcevfzl4LO3z5imvpW\\\n",
              "Zatk9X49vuARpQ/s0ai7mPDXtqgAAgAAqzo4fMIFuvvXI5Q1qq/WL9/VbPg7E+V7jqrqeK1uHHp3\\\n",
              "UCUwZ9S/658vnSCjXlbXdMNt4wh/bY8KIAAACKoOlqzer/XLd4Xs2m0L4//Jv89vtwS3bhxxhzWD\\\n",
              "OLBr2pzoUV5eTvhrBwRAAAAQZNP7u4PCX2ycU7W19f7BfGfJXEamvs5/k/H/lGt1NYfqmi5ZvV/d\\\n",
              "939P/9zM4tQ4ewRAAAAg6dQyMWkX9FB15T9UV1uvmFj/aLHWdgV3dcerurLOCpYXXp6qsZMuafL6\\\n",
              "wBnLTY1bxNljDCAAAJB0KnR5dh3RvU+P0oAhKaqurFVSSqLkOP3rG3I4/UHPXCqm7mSIdHWJbTb8\\\n",
              "SS3bng5njwAIAAAkNQ5d5rZu5XuOnnH3r8MpjcrJ1NhJlyg+IUZVx2tVW+tfN7DfJec02nKuIXMJ\\\n",
              "Gqp/7YMACAAAJAWHrpLV+xUT03xMiI1v+nx8wqlRZt+/4Tw5nJIMKT4hRp5dR5pdkBrtjzGAAACg\\\n",
              "kU3v71ZtTb01ASQ21qnk9K4q33tUsXFOjbjtwqBZw+bYwb3b/qGqk4tDB47fMwNhwy3iEB4EQAAA\\\n",
              "0Ejg0iyB3bBm2AsUOIv3j79Yq6rjtdZ2cn/8xVpr8kf3ni7rOrp2w4suYAAAYG0FZ47La2oM3un2\\\n",
              "EzbHEY7KybS6eiUxoaOToQIIAABavOxK2gU9dOxImdIu6BHyvFkNLFm9X9WVdXJ1idXwCReEXOcv\\\n",
              "VIURHYMACAAAQu7GEYpn1xEZ9f6vzTEXkw7s9pVOBT+zW5h1/sKDAAgAAELuxhFKS4NiU9eZlUZX\\\n",
              "l1i6hcPIYRhGKzZ2sTefzye32y2v16ukpKRwNwcAgE6vM3T98vlNBRAAAHSgllYa0b6YBQwAAGAz\\\n",
              "BEAAAACbIQACAADYDAEQAADAZgiAAAAANkMABAAAsJmoDYA//OEP1a9fPyUkJKhPnz666667dODA\\\n",
              "gaBrtmzZoquvvloJCQnKyMjQ/Pnzw9RaAACAjhO1AfDaa6/V66+/rtLSUv3P//yPdu3apdtuu806\\\n",
              "7/P5NHbsWPXv318bN27Uk08+qYKCAv3ud78LY6sBAADan212AnnnnXc0YcIEVVVVKS4uTosXL9Yj\\\n",
              "jzwij8ej+Ph4SdLMmTO1fPly7dy5s0X3ZCVxAAAiD5/fUVwBDPTdd9/pv//7v3XVVVcpLi5OkrRu\\\n",
              "3TqNGjXKCn+SNG7cOJWWlurw4cMh71NVVSWfzxf0AAAAiDRRHQAffvhhde3aVeecc4727t2rt99+\\\n",
              "2zrn8XiUmpoadL353OPxhLzfvHnz5Ha7rUdGRkb7NR4AAKCdRFQAnDlzphwOR7OPwO7bhx56SMXF\\\n",
              "xfrwww8VExOju+++W63p8Z41a5a8Xq/12LdvX1v8swAAADpUbLgbcCYefPBB3XPPPc1ec/7551v/\\\n",
              "3atXL/Xq1UsXXXSRBg0apIyMDK1fv17Z2dlKS0tTWVlZ0GvN52lpaSHv7XK55HK5WvePAAAACLOI\\\n",
              "CoApKSlKSUk5q9fW19dL8o/jk6Ts7Gw98sgjqqmpscYFrlixQpmZmUpOTm7RPc1qImMBAQCIHObn\\\n",
              "tk3mwYYUlbOAP/vsM23YsEEjR45UcnKydu3apccee0xlZWXatm2bXC6XvF6vMjMzNXbsWD388MMq\\\n",
              "KSnRxIkTtWDBAt13330t+j5///vfGQcIAECE2rdvn84999xwNyMsojIAbt26VT/72c/05ZdfqqKi\\\n",
              "Qn369NENN9ygRx99VH379rWu27Jli/Ly8rRhwwb16tVL06ZN08MPP9zi71NfX68DBw6oe/fucjgc\\\n",
              "Z9VWn8+njIwM7du3z7ZT0dsa72n74H1te7yn7YP3te1F23tqGIaOHj2q9PR0OZ0RNR2izURlAIwk\\\n",
              "rEXU9nhP2wfva9vjPW0fvK9tj/c0+tgz9gIAANgYARAAAMBmCIBh5nK5NGfOHJaXaUO8p+2D97Xt\\\n",
              "8Z62D97Xtsd7Gn0YAwgAAGAzVAABAABshgAIAABgMwRAAAAAmyEAAgAA2AwBMAx2796tSZMmacCA\\\n",
              "AUpMTNQFF1ygOXPmqLq6Oui6LVu26Oqrr1ZCQoIyMjI0f/78MLU4cjz++OO66qqr1KVLF/Xo0SPk\\\n",
              "NXv37tX48ePVpUsX9e7dWw899JBqa2s7tqERprCwUOedd54SEhJ05ZVX6vPPPw93kyLK6tWrdfPN\\\n",
              "Nys9PV0Oh0PLly8POm8YhmbPnq0+ffooMTFRY8aM0VdffRWexkaIefPm6fLLL1f37t3Vu3dvTZgw\\\n",
              "QaWlpUHXVFZWKi8vT+ecc466deumW2+9VWVlZWFqcWRYvHixLrvsMiUlJSkpKUnZ2dn661//ap3n\\\n",
              "PY0eBMAw2Llzp+rr67VkyRJt27ZNCxYs0PPPP69f/OIX1jU+n09jx45V//79tXHjRj355JMqKCjQ\\\n",
              "7373uzC2vPOrrq7W7bffrqlTp4Y8X1dXp/Hjx6u6ulqffvqpXnrpJS1btkyzZ8/u4JZGjtdee00z\\\n",
              "ZszQnDlztGnTJg0ZMkTjxo3ToUOHwt20iFFRUaEhQ4aosLAw5Pn58+fr2Wef1fPPP6/PPvtMXbt2\\\n",
              "1bhx41RZWdnBLY0cn3zyifLy8rR+/XqtWLFCNTU1Gjt2rCoqKqxrHnjgAf35z3/WG2+8oU8++UQH\\\n",
              "DhzQj3/84zC2uvM799xz9cQTT2jjxo364osvdN111+mWW27Rtm3bJPGeRhUDncL8+fONAQMGWM+f\\\n",
              "e+45Izk52aiqqrKOPfzww0ZmZmY4mhdxXnzxRcPtdjc6/t577xlOp9PweDzWscWLFxtJSUlB7zVO\\\n",
              "ueKKK4y8vDzreV1dnZGenm7MmzcvjK2KXJKMt956y3peX19vpKWlGU8++aR17MiRI4bL5TJeffXV\\\n",
              "MLQwMh06dMiQZHzyySeGYfjfw7i4OOONN96wrtmxY4chyVi3bl24mhmRkpOTjaVLl/KeRhkqgJ2E\\\n",
              "1+tVz549refr1q3TqFGjFB8fbx0bN26cSktLdfjw4XA0MSqsW7dOl156qVJTU61j48aNk8/ns/7C\\\n",
              "xSnV1dXauHGjxowZYx1zOp0aM2aM1q1bF8aWRY9vvvlGHo8n6D12u9268soreY/PgNfrlSTr9+jG\\\n",
              "jRtVU1MT9L5efPHF6tevH+9rC9XV1amoqEgVFRXKzs7mPY0yBMBO4Ouvv9bChQs1ZcoU65jH4wkK\\\n",
              "KZKs5x6Pp0PbF014X8/Mt99+q7q6upDvGe9X2zDfR97js1dfX6/p06drxIgRysrKkuR/X+Pj4xuN\\\n",
              "BeZ9Pb2tW7eqW7ducrlcuv/++/XWW29p8ODBvKdRhgDYhmbOnCmHw9HsY+fOnUGv2b9/v2644Qbd\\\n",
              "fvvtmjx5cpha3rmdzfsKwD7y8vJUUlKioqKicDclKmRmZmrz5s367LPPNHXqVOXm5mr79u3hbhba\\\n",
              "WGy4GxBNHnzwQd1zzz3NXnP++edb/33gwAFde+21uuqqqxpN7khLS2s0s8p8npaW1jYNjhBn+r42\\\n",
              "Jy0trdEMVru+ry3Rq1cvxcTEhPxZ5P1qG+b7WFZWpj59+ljHy8rK9L3vfS9MrYoc+fn5+stf/qLV\\\n",
              "q1fr3HPPtY6npaWpurpaR44cCapY8bN7evHx8Ro4cKAkadiwYdqwYYOeeeYZ/eQnP+E9jSIEwDaU\\\n",
              "kpKilJSUFl27f/9+XXvttRo2bJhefPFFOZ3Bxdjs7Gw98sgjqqmpUVxcnCRpxYoVyszMVHJycpu3\\\n",
              "vTM7k/f1dLKzs/X444/r0KFD6t27tyT/+5qUlKTBgwe3yfeIJvHx8Ro2bJhWrlypCRMmSPJ3t61c\\\n",
              "uVL5+fnhbVyUGDBggNLS0rRy5Uor8Pl8Pqv6gtAMw9C0adP01ltvadWqVRowYEDQ+WHDhikuLk4r\\\n",
              "V67UrbfeKkkqLS3V3r17lZ2dHY4mR6z6+npVVVXxnkabcM9CsaO///3vxsCBA43Ro0cbf//7342D\\\n",
              "Bw9aD9ORI0eM1NRU46677jJKSkqMoqIio0uXLsaSJUvC2PLOb8+ePUZxcbExd+5co1u3bkZxcbFR\\\n",
              "XFxsHD161DAMw6itrTWysrKMsWPHGps3bzbef/99IyUlxZg1a1aYW955FRUVGS6Xy1i2bJmxfft2\\\n",
              "47777jN69OgRNJMazTt69Kj1syjJePrpp43i4mJjz549hmEYxhNPPGH06NHDePvtt40tW7YYt9xy\\\n",
              "izFgwADjxIkTYW555zV16lTD7XYbq1atCvodevz4ceua+++/3+jXr5/x0UcfGV988YWRnZ1tZGdn\\\n",
              "h7HVnd/MmTONTz75xPjmm2+MLVu2GDNnzjQcDofx4YcfGobBexpNCIBh8OKLLxqSQj4Cffnll8bI\\\n",
              "kSMNl8tl9O3b13jiiSfC1OLIkZubG/J9/fjjj61rdu/ebdx4441GYmKi0atXL+PBBx80ampqwtfo\\\n",
              "CLBw4UKjX79+Rnx8vHHFFVcY69evD3eTIsrHH38c8ucyNzfXMAz/UjCPPfaYkZqaarhcLmP06NFG\\\n",
              "aWlpeBvdyTX1O/TFF1+0rjlx4oTxb//2b0ZycrLRpUsX40c/+lHQH9pobOLEiUb//v2N+Ph4IyUl\\\n",
              "xRg9erQV/gyD9zSaOAzDMDqw4AgAAIAwYxYwAACAzRAAAQAAbIYACAAAYDMEQAAAAJshAAIAANgM\\\n",
              "ARAAAMBmCIAAAAA2QwAEAACwGQIgAACAzRAAAQAAbIYACAAAYDMEQAAAAJshAAIAANgMARAAAMBm\\\n",
              "CIAAAAA2QwAEAACwGQIgAACAzRAAAQAAbIYACAAAYDMEQAAAAJshAAIAANgMARAAAMBmCIAAAAA2\\\n",
              "QwAEAACwGQIgAACAzRAAAQAAbIYACAAAYDMEQAAAAJshAAIAANgMARAAAMBmCIAAAAA28/8D3//k\\\n",
              "A0rllw0AAAAASUVORK5CYII=\\\n",
              "\"\n",
              "  frames[2] = \"data:image/png;base64,iVBORw0KGgoAAAANSUhEUgAAAoAAAAHgCAYAAAA10dzkAAAAOnRFWHRTb2Z0d2FyZQBNYXRwbG90\\\n",
              "bGliIHZlcnNpb24zLjEwLjAsIGh0dHBzOi8vbWF0cGxvdGxpYi5vcmcvlHJYcgAAAAlwSFlzAAAP\\\n",
              "YQAAD2EBqD+naQAAKL9JREFUeJzt3X+UnXVh7/tPImQIP2YgMmRIk9RYWpi5UTwrCoxar2JK5FCP\\\n",
              "qWLN7bo6KKVZdCZrYbguSUVmco82Fj29ajJArC2hdy2Ih64Sq61VTgRcaoQaT04JSVhyqg2LMGGs\\\n",
              "ZQZzywSSff/Imd3MZCYm5MfO3t/XizVrZT/PMztf9sqa/Z7v832ePaVSqVQCAEAxptZ6AAAAnFwC\\\n",
              "EACgMAIQAKAwAhAAoDACEACgMAIQAKAwAhAAoDACEACgMAIQAKAwAhAAoDACEACgMAIQAKAwAhAA\\\n",
              "oDACEACgMAIQAKAwAhAAoDACEACgMAIQAKAwAhAAoDACEACgMAIQAKAwAhAAoDACEACgMAIQAKAw\\\n",
              "AhAAoDACEACgMAIQAKAwAhAAoDACEACgMAIQAKAwAhAAoDACEACgMAIQAKAwAhAAoDACEACgMAIQ\\\n",
              "AKAwAhAAoDACEACgMAIQAKAwAhAAoDACEACgMAIQAKAwAhAAoDACEACgMAIQAKAwAhAAoDACEACg\\\n",
              "MAIQAKAwAhAAoDACEACgMAIQAKAwAhAAoDACEACgMAIQAKAwAhAAoDACEACgMKfVegD1bP/+/dm1\\\n",
              "a1fOOeecTJkypdbDAQCOQKVSyQsvvJBZs2Zl6tQy58IE4DHYtWtX5syZU+thAACvwNNPP53Zs2fX\\\n",
              "ehg1IQCPwTnnnJPkwD+g5ubmGo8GADgSw8PDmTNnTvV9vEQC8BiMnvZtbm4WgABQZ0pevlXmiW8A\\\n",
              "gIIJQACAwghAAIDCCEAAgMIIQDhIX19f+vv7D3tMf39/+vr6Ts6AAOAEcBUw/C99fX1ZuXJl9XF3\\\n",
              "d/chx/T396enp2fM9wBAvTEDCDk0/np6eg6ZCRwffytXrhSAANQlAUjxxsffqIMjcHz8jRKBANSj\\\n",
              "KZVKpVLrQdSr4eHhtLS0ZGhoyI2g69Rk8Xew9vb2bN++/bDH9Pb2CkGAOuH92wwghWttbZ103/zM\\\n",
              "T5Jq/I0+PtrnAYBTjQCkaN3d3VmzZs0h27vSldVZnSVZkiRZkiVZndXpStchx65Zs2bCC0YA4FTl\\\n",
              "FPAxMIXcOA5e4zc/87M6q6v7hjKUlrRUHy/LsmzN1iTiD6Aeef82AwhJxs4Ebs3WrM3a6r6D429t\\\n",
              "1oo/AOqeGcBj4DeIxtPR0VFd87chG8bE31CGsjiLkxy4MGTbtm21GCIAx8j7txlAqOrv76/G35Is\\\n",
              "GRN/yYGZwNE1gdu3b/+lnxgCAKcqAQg5dA3g0iyt7hvKUPXPS7O0ejXwRDeLBoB6IAAp3vibPG/N\\\n",
              "1qzLuiQH1vwtzuLqmsB1WVddA5iIQADqkzWAx8Aagvo32Sd8JAdmAg+OvfGPD+aCEID64f3bDCCF\\\n",
              "GxwcnHTfaOy1t7ePeXy0zwMApxoBSNH6+vrS29s76f41a9Zk27ZtE94sepSPgQOg3ghAijdZBB58\\\n",
              "WneyTwwRfwDUIwEIOTQCJ1rTNz4CxR8A9eq0Wg8AThWjMdfa2jrpBR2j2wcHB8UfUNf6+voO+/Mu\\\n",
              "OXChnJ93jUkA0pj+7/OT/S8d+PP8a5Nr//yIvu1Ifsi52heod319fVm5cmX18UQ/18bfJUEENhan\\\n",
              "gGk8//Dn/x5/SbL1r2o3FoBTzPj4m+h+puPjb+XKlQKwwQhAGs93/59ajwDglDQ+/kYdHIGT3R9V\\\n",
              "BDYWAUjjmXN5rUcAcMqZLP5G9fT0pKOjY9Kb4ycisJEIQBrP04+OfXzambUZB8AppLW1ddJ9o59x\\\n",
              "vn379jGPj/Z5qB8CkMbz1o8m089LzjgvueZPk1ufrfWIAGpusvuZdqUrq7M6S7IkSbIkS7I6q9OV\\\n",
              "rkOO9bGXjcNnAR8DnyUIQL05eI3f/MzP6qyu7hvKUFrSUn28LMuqH4PZSPHn/dsMIAAU5eCZwK3Z\\\n",
              "mrVZW913cPytzdqGjD8OMAN4DPwGAUC96ujoqK7525ANY+JvKENZnMVJkvb29mzbtq0WQzxhvH83\\\n",
              "8AzgnXfemde//vVpbm5Oc3NzOjs7841vfKO6/8UXX0x3d3de/epX5+yzz8773ve+7N69u4YjBoCT\\\n",
              "o7+/vxp/S7JkTPwlB2YCR9cEbt++/ZD7BFL/GjYAZ8+enc985jPZvHlzfvjDH+bKK6/Me97znjzx\\\n",
              "xBNJko9+9KP52te+lvvvvz+PPPJIdu3alfe+9701HjUAnFjj1wAuzdLqvqEMVf+8NEurVwNPdLNo\\\n",
              "6ltRp4BnzJiRz372s7n22mvT2tqae++9N9dee22SZMeOHWlvb8+mTZtyxRVXHNHzmUIGoJ5MdJPn\\\n",
              "rnTlulyXtVmb9VmfJVmSpVmadVmXe3LPmGMbZS2g9+9CPgt43759uf/++7Nnz550dnZm8+bNeeml\\\n",
              "l7Jw4cLqMZdccknmzp17VAEIAPVisk/4uCf3ZHM2Vy/4WJ/12fq//htv9PsbIQJL19AB+Pjjj6ez\\\n",
              "szMvvvhizj777DzwwAPp6OjIli1bMm3atJx77rljjp85c2YGBgYmfb6RkZGMjIxUHw8PD5+ooQPA\\\n",
              "cTU4ODjpvtHYa29vz/bt2yeMvyN5HupHw64BTJKLL744W7ZsyaOPPpobb7wxXV1dx3Ql06pVq9LS\\\n",
              "0lL9mjNnznEcLQCcOH19fent7Z10/5o1a7Jt27YJbxY9qre310fBNYiGDsBp06bloosuyoIFC7Jq\\\n",
              "1apceuml+cIXvpC2trbs3bs3zz///Jjjd+/enba2tkmfb8WKFRkaGqp+Pf300yf4/wAAjp/JIvDg\\\n",
              "tX2TfWKI+GssDR2A4+3fvz8jIyNZsGBBTj/99GzcuLG678knn8zOnTvT2dk56fc3NTVVbysz+gUA\\\n",
              "9WR8BE50Ycf4CBR/jadh1wCuWLEiV199debOnZsXXngh9957bx5++OF885vfTEtLS66//vosX748\\\n",
              "M2bMSHNzc5YtW5bOzk4XgABQV9o/+Y3820v7kySnT52S3v/0v+XOh/9nbnz7r+X/vOJXJ/ye0Zhr\\\n",
              "bW2d9IKO0e2Dg4PirwE17G1grr/++mzcuDHPPvtsWlpa8vrXvz4f//jH81u/9VtJDtwI+uabb859\\\n",
              "992XkZGRLFq0KHfcccdhTwGP5zJyAGrlP63+bv7xmaFDtv/KudPzzPP/ll85d3q+d8uVNRjZqc/7\\\n",
              "dwMH4MngHxAAtfKaW/72kG1HOgNYOu/fDXwKGAAa2et/peWQGcAf//F/TBLhxy8lAAGgDv3NsrfW\\\n",
              "egjUsaKuAgYAQAACABRHAAIAFEYAAgAURgACABRGAAIAFEYAAgAURgACABRGAAIAFEYAAgAURgAC\\\n",
              "ABRGAAIAFEYAAgAURgACABRGAAIAFEYAAgAURgACABRGAAIAFEYAAgAURgACABRGAAIAFEYAAgAU\\\n",
              "RgACABRGAAIAFEYAAgAURgA2oL6+vvT39x/2mP7+/vT19Z2cAQEAp5TTaj0Ajq++vr6sXLmy+ri7\\\n",
              "u/uQY/r7+9PT0zPmewCAcpgBbCDj46+np+eQmcDx8bdy5UoBCACFEYANYnz8jTo4AsfH3ygRCABl\\\n",
              "mVKpVCq1HkS9Gh4eTktLS4aGhtLc3FyzcUwWfwdrb2/P9u3bD3tMb2+vEASg4Z0q79+1ZAawAbS2\\\n",
              "tk66b37mJ0k1/kYfH+3zAACNQwA2gO7u7qxZs+aQ7V3pyuqszpIsSZIsyZKszup0peuQY9esWTPh\\\n",
              "BSMAQONxCvgYnGpTyAev8Zuf+Vmd1dV9QxlKS1qqj5dlWbZmaxLxB0BZTrX371owA9hADp4J3Jqt\\\n",
              "WZu11X0Hx9/arBV/AFAwM4DH4FT9DaKjo6O65m9DNoyJv6EMZXEWJzlwYci2bdtqMUQAqJlT9f37\\\n",
              "ZDID2GD6+/ur8bckS8bEX3JgJnB0TeD27dt/6SeGAACNRwA2kPFrAJdmaXXfUIaqf16apdWrgSe6\\\n",
              "WTQA0NgEYIMYf5PnrdmadVmX5MCav8VZXF0TuC7rqmsAExEIAKWxBvAYnCprCCb7hI/kwEzgwbE3\\\n",
              "/vHBXBACQAlOlffvWjID2AAGBwcn3Tcae+3t7WMeH+3zAACNQwA2gL6+vvT29k66f82aNdm2bduE\\\n",
              "N4se5WPgAKAcArDO/Ov69fnxle/Mv65fP2b7ZBF48GndyT4xRPwBQFkEYJ352Zf+LC/v2pWffenP\\\n",
              "Dtk3PgInWtM3PgLFHwCU57RaD+BEWbVqVf76r/86O3bsyPTp0/PmN785f/Inf5KLL764esyLL76Y\\\n",
              "m2++OevXr8/IyEgWLVqUO+64IzNnzqzhyA/v/D+4IT/70p/l/D+4YcL9ozHX2to66QUdo9sHBwfF\\\n",
              "HwAUqGGvAn7Xu96VJUuW5E1velNefvnl/NEf/VG2bt2abdu25ayzzkqS3Hjjjfnbv/3brFu3Li0t\\\n",
              "Lenp6cnUqVPzve9974j+jhN5FdEzN/9fGf77v0/zu96VX/kvnzuuzw0AJXMVcAMH4HiDg4O54IIL\\\n",
              "8sgjj+Rtb3tbhoaG0tramnvvvTfXXnttkmTHjh1pb2/Ppk2bcsUVV/zS5zyR/4C2X9J+yLb2HduP\\\n",
              "698BACUSgAWtARwaOvBJGDNmzEiSbN68OS+99FIWLlxYPeaSSy7J3Llzs2nTppqMEQDgZGjYNYAH\\\n",
              "279/f2666aa85S1vyfz5Bz4CbWBgINOmTcu555475tiZM2dmYGBgwucZGRnJyMhI9fHw8PAJGzMA\\\n",
              "wIlSRAB2d3dn69at+e53v3tMz7Nq1aqsXLnyOI3q8JzuBQBOlIY/BdzT05Ovf/3reeihhzJ79uzq\\\n",
              "9ra2tuzduzfPP//8mON3796dtra2CZ9rxYoVGRoaqn49/fTTJ3LoAAAnRMMGYKVSSU9PTx544IF8\\\n",
              "+9vfzrx588bsX7BgQU4//fRs3Lixuu3JJ5/Mzp0709nZOeFzNjU1pbm5ecwXAEC9adhTwN3d3bn3\\\n",
              "3nvz1a9+Neecc051XV9LS0umT5+elpaWXH/99Vm+fHlmzJiR5ubmLFu2LJ2dnUd0BTAAQL1q2NvA\\\n",
              "TJkyZcLtd999d6677rok/34j6Pvuu2/MjaAnOwU8nsvIAaD+eP9u4AA8GfwDAoD64/27gdcAAgAw\\\n",
              "MQEIAFAYAQgAUBgBCABQGAEIAFAYAQgAUBgBCABQGAEIAFAYAQgAUBgBCABQGAEIAFAYAQgAUBgB\\\n",
              "CABQGAEIAFAYAQgAUBgBCABQGAEIAFAYAQgAUBgBCABQGAEIAFAYAQgAUBgBCABQGAEIAFAYAQgA\\\n",
              "UBgBCABQGAEIAFAYAQgAUBgBCABQGAEIAFAYAQgAUBgBCABQGAEIAFAYAQgAUBgBCABQGAEIAFAY\\\n",
              "AQgAUBgBCABQGAEIAFAYAQgAUBgBCABQGAEIAFAYAQgAUBgBCABQGAEIAFAYAQgAUBgBCABQmIYN\\\n",
              "wO985zt597vfnVmzZmXKlCnZsGHDmP2VSiW33XZbLrzwwkyfPj0LFy7Mj3/849oMllNaX19f+vv7\\\n",
              "D3tMf39/+vr6Ts6AAOAYnVbrAZwoe/bsyaWXXpqPfOQjee9733vI/ttvvz1f/OIXc88992TevHn5\\\n",
              "5Cc/mUWLFmXbtm0544wzajBiTkV9fX1ZuXJl9XF3d/chx/T396enp2fM9wDAqaxhA/Dqq6/O1Vdf\\\n",
              "PeG+SqWSz3/+87n11lvznve8J0nyl3/5l5k5c2Y2bNiQJUuWnMyhcooaH3+jkXdwBI6Pv9HjRSAA\\\n",
              "p7KGPQV8OD/5yU8yMDCQhQsXVre1tLTk8ssvz6ZNmyb9vpGRkQwPD4/5ojGNj79RPT091dPB4+Nv\\\n",
              "1MqVKwUgwBGwxKZ2GnYG8HAGBgaSJDNnzhyzfebMmdV9E1m1atWEUUBjmSz+Ro1G4Pbt2yc9xkwg\\\n",
              "wOFZYlNbRc4AvlIrVqzI0NBQ9evpp5+u9ZA4AVpbWyfdNz/zk6Qaf6OPj/Z5AEo20RKb8TOBEy2x\\\n",
              "EYDHT5EB2NbWliTZvXv3mO27d++u7ptIU1NTmpubx3zReLq7u7NmzZpDtnelK6uzOktyYI3okizJ\\\n",
              "6qxOV7oOOXbNmjUT/jYLUDpLbE4NRQbgvHnz0tbWlo0bN1a3DQ8P59FHH01nZ2cNR8apYnwEzs/8\\\n",
              "XJfrkiRLszQbsiFLszRJcl2uGzMTKP4AJnYkS2w6OjomjL9RIvD4aNgA/MUvfpEtW7Zky5YtSQ5c\\\n",
              "+LFly5bs3LkzU6ZMyU033ZRPfepT+Zu/+Zs8/vjj+dCHPpRZs2Zl8eLFNR03p46DI3BrtmZt1lb3\\\n",
              "taSl+ue1WZut2ZpE/AEcjiU2p44plUqlUutBnAgPP/xw3vGOdxyyvaurK+vWrUulUklvb2++9KUv\\\n",
              "5fnnn89b3/rW3HHHHfmN3/iNI/47hoeH09LSkqGhIaeDG1hHR0f1B9KGbBgTf0MZyuIsTpK0t7dn\\\n",
              "27ZttRgiQN2Y6PRuV7pyXa7L2qzN+qzPkizJ0izNuqzLPblnzLHH4xdt798NHIAng39Aje/gH1Sj\\\n",
              "P5DGG/2BlZgBBDgSB/9snZ/5WZ3V1X1DGRrzi/ayLDvuZ1m8fzfwKWA4VuN/QB0cf0MZqv55aZZW\\\n",
              "T1VMdCUbAGNZYlN7AhAmMP4UxdZszbqsS3LgB9LiLK7+wFqXddUfUIkIBDgS3d3daW9vT5Ksz/ox\\\n",
              "v1gnB37RHj270t7eLv6OMwEI40x2+4F7ck+WZVn1B9L6rM+yLDtkfUoiAgF+mYNvqL8kS8bM/CUH\\\n",
              "ZgJHb7u1fft2P1OPMwEI4wwODk66b3Smb/S31oNn/o7meQBKZolN7QlAGKevry+9vb2T7l+zZk22\\\n",
              "bds24c2iR/X29rpPFcAELLE5NbgK+Bi4iqixTXTD0vGLkCc6XSz+ACY22RKb5MBM4MGxN/7xwY71\\\n",
              "ghDv32YAYVLjZwIn+oEz/hNDxB/A5CyxOXWcVusBwIn2X5/8r/ny41/Of7jgP+S/P/ff8/uv+/38\\\n",
              "7sW/e0TfOxpzra2tk/62Obp9cHBQ/AEcxujPyMk+Dm70F+3DzRT6Rfv4cAr4GJhCrg9X/dVVeXbP\\\n",
              "s5k6ZWr2V/bnwrMuzLeu/VathwVQrFovsfH+7RQwBfj91/1+kmR/ZX+S5Nk9z+Yt972llkMCKJol\\\n",
              "NrXnFDAN73cv/t385x/85zHbhvcO12g0ACSW2NSaAKRIUzKl1kMAaAj/48G/y3fv+3+TKZW8dcmH\\\n",
              "culv/ccj/t4jiTqfAHJiOAVMEZqnjV3jcesVt9ZoJACN5b99+Y68uOeFvPiLX+S/ffmOrPnIkloP\\\n",
              "iSNgBpAifO//+F6thwBQhJE9v6j1EDgCAhAAOCr/48G/y2Mb/iqXLb72kH1NZ51dgxFxtAQgAHBU\\\n",
              "HtvwVxn+2XN5bMNf5eavfL3Ww+EVsAYQADgqly2+Ns3nXzDhDCD1wY2gj4EbSQJA/fH+bQYQAKA4\\\n",
              "AhAAoDACEACgMAIQAKAwAhAAoDACEACgMAIQAKAwAhAAoDACEACgMAIQAKAwAhAAoDACEACgMAIQ\\\n",
              "AKAwAhAAoDACEACgMAIQAKAwAhAAoDACEACgMAIQAKAwAhAAoDACEACgMAIQAKAwAhAAoDACEACg\\\n",
              "MAIQAKAwAhAAoDACEACgMMUHYH9/f17zmtfkjDPOyOWXX57HHnus1kMCADihig7Ar3zlK1m+fHl6\\\n",
              "e3vzox/9KJdeemkWLVqU5557rtZDAwA4YYoOwD/90z/NDTfckA9/+MPp6OjIXXfdlTPPPDN/8Rd/\\\n",
              "UeuhAQCcMMUG4N69e7N58+YsXLiwum3q1KlZuHBhNm3aNOH3jIyMZHh4eMwXAEC9KTYAf/azn2Xf\\\n",
              "vn2ZOXPmmO0zZ87MwMDAhN+zatWqtLS0VL/mzJlzMoYKAHBcFRuAr8SKFSsyNDRU/Xr66adrPSQA\\\n",
              "gKN2Wq0HUCvnn39+XvWqV2X37t1jtu/evTttbW0Tfk9TU1OamppOxvAAAE6YYmcAp02blgULFmTj\\\n",
              "xo3Vbfv378/GjRvT2dlZw5EBAJxYxc4AJsny5cvT1dWVN77xjbnsssvy+c9/Pnv27MmHP/zhWg8N\\\n",
              "AOCEKToAP/CBD2RwcDC33XZbBgYG8oY3vCF///d/f8iFIQAAjWRKpVKp1HoQ9Wp4eDgtLS0ZGhpK\\\n",
              "c3NzrYcDABwB798FrwEEACiVAAQAKIwABAAojAAEACiMAAQAKIwABAAojAAEACiMAAQAKIwABAAo\\\n",
              "jAAEACiMAAQAKIwABAAojAAEACiMAAQAKIwABAAojAAEACiMAAQAKIwABAAojAAEACiMAAQAKIwA\\\n",
              "BAAojAAEACiMAAQAKIwABAAojAAEACiMAAQAKIwABAAojAAEACiMAAQAKIwABAAojAAEACiMAAQA\\\n",
              "KIwABAAojAAEACiMAAQAKIwABAAojAAEACiMAAQAKIwABAAojAAEACiMAAQAKIwABAAojAAEACiM\\\n",
              "AAQAKIwABAAoTEMG4Kc//em8+c1vzplnnplzzz13wmN27tyZa665JmeeeWYuuOCCfOxjH8vLL798\\\n",
              "cgcKAFADp9V6ACfC3r178/73vz+dnZ358z//80P279u3L9dcc03a2try/e9/P88++2w+9KEP5fTT\\\n",
              "T88f//Ef12DEAAAnz5RKpVKp9SBOlHXr1uWmm27K888/P2b7N77xjfz2b/92du3alZkzZyZJ7rrr\\\n",
              "rnz84x/P4OBgpk2bdkTPPzw8nJaWlgwNDaW5ufl4Dx8AOAG8fzfoKeBfZtOmTXnd615Xjb8kWbRo\\\n",
              "UYaHh/PEE0/UcGQAACdeQ54C/mUGBgbGxF+S6uOBgYFJv29kZCQjIyPVx8PDwydmgAAAJ1DdzADe\\\n",
              "csstmTJlymG/duzYcULHsGrVqrS0tFS/5syZc0L/PgCAE6FuZgBvvvnmXHfddYc95rWvfe0RPVdb\\\n",
              "W1see+yxMdt2795d3TeZFStWZPny5dXHw8PDIhAAqDt1E4Ctra1pbW09Ls/V2dmZT3/603nuuedy\\\n",
              "wQUXJEkefPDBNDc3p6OjY9Lva2pqSlNT03EZAwBArdRNAB6NnTt35uc//3l27tyZffv2ZcuWLUmS\\\n",
              "iy66KGeffXauuuqqdHR05IMf/GBuv/32DAwM5NZbb013d7fAAwAaXkPeBua6667LPffcc8j2hx56\\\n",
              "KG9/+9uTJP/8z/+cG2+8MQ8//HDOOuusdHV15TOf+UxOO+3Im9hl5ABQf7x/N2gAniz+AQFA/fH+\\\n",
              "XUdXAQMAcHwIQACAwghAAIDCCEAAgMIIQACAwghAAIDCCEAAgMIIQACAwghAAIDCCEAAgMIIQACA\\\n",
              "wghAAIDCCEAAgMIIQACAwghAAIDCCEAAgMIIQACAwghAAIDCCEAAgMIIQACAwghAAIDCCEAAgMII\\\n",
              "QACAwghAAIDCCEAAgMIIQACAwghAAIDCCEAAgMIIQACAwghAAIDCCEAAgMIIQACAwghAAIDCCEAA\\\n",
              "gMIIQACAwghAAIDCCEAAgMIIQACAwghAAIDCCEAAgMIIQACAwghAAIDCCEAAgMIIQACAwghAAIDC\\\n",
              "NGQA/vSnP83111+fefPmZfr06fm1X/u19Pb2Zu/evWOO+8d//Mf85m/+Zs4444zMmTMnt99+e41G\\\n",
              "DABw8pxW6wGcCDt27Mj+/fuzdu3aXHTRRdm6dWtuuOGG7NmzJ5/73OeSJMPDw7nqqquycOHC3HXX\\\n",
              "XXn88cfzkY98JOeee27+4A/+oMb/BwAAJ86USqVSqfUgTobPfvazufPOO/NP//RPSZI777wzn/jE\\\n",
              "JzIwMJBp06YlSW655ZZs2LAhO3bsOKLnHB4eTktLS4aGhtLc3HzCxg4AHD/evxv0FPBEhoaGMmPG\\\n",
              "jOrjTZs25W1ve1s1/pJk0aJFefLJJ/Ov//qvtRgiAMBJUUQAPvXUU1m9enWWLl1a3TYwMJCZM2eO\\\n",
              "OW708cDAwITPMzIykuHh4TFfAAD1pq4C8JZbbsmUKVMO+zX+9O0zzzyTd73rXXn/+9+fG2644Zj+\\\n",
              "/lWrVqWlpaX6NWfOnGN6PgCAWqirNYCDg4P5l3/5l8Me89rXvrZ6WnfXrl15+9vfniuuuCLr1q3L\\\n",
              "1Kn/3rsf+tCHMjw8nA0bNlS3PfTQQ7nyyivz85//POedd94hzz0yMpKRkZHq4+Hh4cyZM6foNQQA\\\n",
              "UG+sAayzq4BbW1vT2tp6RMc+88wzecc73pEFCxbk7rvvHhN/SdLZ2ZlPfOITeemll3L66acnSR58\\\n",
              "8MFcfPHFE8ZfkjQ1NaWpqenY/icAAGqsrk4BH6lnnnkmb3/72zN37tx87nOfy+DgYAYGBsas7fu9\\\n",
              "3/u9TJs2Lddff32eeOKJfOUrX8kXvvCFLF++vIYjBwA48epqBvBIPfjgg3nqqafy1FNPZfbs2WP2\\\n",
              "jZ7xbmlpybe+9a10d3dnwYIFOf/883Pbbbe5ByAA0PDqag3gqcYaAgCoP96/G/QUMAAAkxOAAACF\\\n",
              "EYAAAIURgAAAhRGAAACFEYAAAIURgABAzfX19aW/v/+wx/T396evr+/kDKjBNeSNoAGA+tHX15eV\\\n",
              "K1dWH3d3dx9yTH9/f3p6esZ8D6+cGUAAoGbGx19PT88hM4Hj42/lypUC8BgJQACgJsbH36iDI3B8\\\n",
              "/I0SgcfGR8EdAx8lAwCvzGTxd7D29vZs3779sMf09vYedQh6/zYDCADUQGtr66T75md+klTjb/Tx\\\n",
              "0T4PkxOAAMBJ193dnTVr1hyyvStdWZ3VWZIlSZIlWZLVWZ2udB1y7Jo1aya8YIRfzingY2AKGQCO\\\n",
              "zcFr/OZnflZndXXfUIbSkpbq42VZlq3ZmuTY4s/7txlAAKCGDp4J3JqtWZu11X0Hx9/arD0u8ccB\\\n",
              "ZgCPgd8gAOD46OjoqK7525ANY+JvKENZnMVJDlwYsm3btmP6u7x/mwEEAGqsv7+/Gn9LsmRM/CUH\\\n",
              "ZgJH1wRu3779l35iCL+cAAQAamb8GsClWVrdN5Sh6p+XZmn1auCJbhbN0RGAAEBNjL/J89Zszbqs\\\n",
              "S3Jgzd/iLK6uCVyXddU1gIkIPFbWAB4DawgA4JWZ7BM+kgMzgQfH3vjHB3slF4R4/zYDCADUwODg\\\n",
              "4KT7RmOvvb19zOOjfR4mJwABgJOur68vvb29k+5fs2ZNtm3bNuHNoke9ko+B4wABCADUxGQRePBp\\\n",
              "3ck+MUT8HZvTaj0AAKBxfHn5dzLy/708Ztv//nsXZ/7bfmXC40cjbuXKlUkmXtM3+nh0zaD4O3YC\\\n",
              "EAA4bsbHX5L8YMP/nDQAk3+PwNbW1kkv6BjdPjg4KP6OAwEIANTckUSdj387fqwBBABOqCsW/1qt\\\n",
              "h8A4ZgABgOOm+64raz0EjoAZQACAwghAAIDCCEAAgMIIQACAwghAAIDCCEAAgMIIQACAwghAAIDC\\\n",
              "CEAAgMIIQACAwghAAIDCCEAAgMIIQACAwpxW6wHUs0qlkiQZHh6u8UgAgCM1+r49+j5eIgF4DF54\\\n",
              "4YUkyZw5c2o8EgDgaL3wwgtpaWmp9TBqYkql5Pw9Rvv378+uXbtyzjnnZMqUKbUeTkMZHh7OnDlz\\\n",
              "8vTTT6e5ubnWw2lYXueTw+t88nitT456f50rlUpeeOGFzJo1K1OnlrkazgzgMZg6dWpmz55d62E0\\\n",
              "tObm5rr84VJvvM4nh9f55PFanxz1/DqXOvM3qszsBQAomAAEACiMAOSU1NTUlN7e3jQ1NdV6KA3N\\\n",
              "63xyeJ1PHq/1yeF1rn8uAgEAKIwZQACAwghAAIDCCEAAgMIIQACAwghATjmf/vSn8+Y3vzlnnnlm\\\n",
              "zj333AmP2blzZ6655pqceeaZueCCC/Kxj30sL7/88skdaAPo7+/Pa17zmpxxxhm5/PLL89hjj9V6\\\n",
              "SHXtO9/5Tt797ndn1qxZmTJlSjZs2DBmf6VSyW233ZYLL7ww06dPz8KFC/PjH/+4NoOtY6tWrcqb\\\n",
              "3vSmnHPOObnggguyePHiPPnkk2OOefHFF9Pd3Z1Xv/rVOfvss/O+970vu3fvrtGI69Odd96Z17/+\\\n",
              "9dWbPXd2duYb3/hGdb/XuL4JQE45e/fuzfvf//7ceOONE+7ft29frrnmmuzduzff//73c88992Td\\\n",
              "unW57bbbTvJI69tXvvKVLF++PL29vfnRj36USy+9NIsWLcpzzz1X66HVrT179uTSSy9Nf3//hPtv\\\n",
              "v/32fPGLX8xdd92VRx99NGeddVYWLVqUF1988SSPtL498sgj6e7uzg9+8IM8+OCDeemll3LVVVdl\\\n",
              "z5491WM++tGP5mtf+1ruv//+PPLII9m1a1fe+9731nDU9Wf27Nn5zGc+k82bN+eHP/xhrrzyyrzn\\\n",
              "Pe/JE088kcRrXPcqcIq6++67Ky0tLYds/7u/+7vK1KlTKwMDA9Vtd955Z6W5ubkyMjJyEkdY3y67\\\n",
              "7LJKd3d39fG+ffsqs2bNqqxataqGo2ocSSoPPPBA9fH+/fsrbW1tlc9+9rPVbc8//3ylqampct99\\\n",
              "99VghI3jueeeqySpPPLII5VK5cDrevrpp1fuv//+6jHbt2+vJKls2rSpVsNsCOedd17ly1/+ste4\\\n",
              "AZgBpO5s2rQpr3vd6zJz5szqtkWLFmV4eLj6mymHt3fv3mzevDkLFy6sbps6dWoWLlyYTZs21XBk\\\n",
              "jesnP/lJBgYGxrzmLS0tufzyy73mx2hoaChJMmPGjCTJ5s2b89JLL415rS+55JLMnTvXa/0K7du3\\\n",
              "L+vXr8+ePXvS2dnpNW4Ap9V6AHC0BgYGxsRfkurjgYGBWgyp7vzsZz/Lvn37Jnwdd+zYUaNRNbbR\\\n",
              "f5sTveb+3b5y+/fvz0033ZS3vOUtmT9/fpIDr/W0adMOWUPstT56jz/+eDo7O/Piiy/m7LPPzgMP\\\n",
              "PJCOjo5s2bLFa1znzAByUtxyyy2ZMmXKYb+EB3C0uru7s3Xr1qxfv77WQ2lIF198cbZs2ZJHH300\\\n",
              "N954Y7q6urJt27ZaD4vjwAwgJ8XNN9+c66677rDHvPa1rz2i52prazvkatXRK8/a2tpe0fhKc/75\\\n",
              "5+dVr3rVIVfs7d6922t4goy+rrt3786FF15Y3b579+684Q1vqNGo6ltPT0++/vWv5zvf+U5mz55d\\\n",
              "3d7W1pa9e/fm+eefHzND5d/30Zs2bVouuuiiJMmCBQvyD//wD/nCF76QD3zgA17jOmcGkJOitbU1\\\n",
              "l1xyyWG/pk2bdkTP1dnZmccff3zM1aoPPvhgmpub09HRcaL+FxrKtGnTsmDBgmzcuLG6bf/+/dm4\\\n",
              "cWM6OztrOLLGNW/evLS1tY15zYeHh/Poo496zY9SpVJJT09PHnjggXz729/OvHnzxuxfsGBBTj/9\\\n",
              "9DGv9ZNPPpmdO3d6rY/R/v37MzIy4jVuAGYAOeXs3LkzP//5z7Nz587s27cvW7ZsSZJcdNFFOfvs\\\n",
              "s3PVVVelo6MjH/zgB3P77bdnYGAgt956a7q7u9PU1FTbwdeR5cuXp6urK2984xtz2WWX5fOf/3z2\\\n",
              "7NmTD3/4w7UeWt36xS9+kaeeeqr6+Cc/+Um2bNmSGTNmZO7cubnpppvyqU99Kr/+67+eefPm5ZOf\\\n",
              "/GRmzZqVxYsX127Qdai7uzv33ntvvvrVr+acc86prjlraWnJ9OnT09LSkuuvvz7Lly/PjBkz0tzc\\\n",
              "nGXLlqWzszNXXHFFjUdfP1asWJGrr746c+fOzQsvvJB77703Dz/8cL75zW96jRtBrS9DhvG6uroq\\\n",
              "SQ75euihh6rH/PSnP61cffXVlenTp1fOP//8ys0331x56aWXajfoOrV69erK3LlzK9OmTatcdtll\\\n",
              "lR/84Ae1HlJde+ihhyb8t9vV1VWpVA7cCuaTn/xkZebMmZWmpqbKO9/5zsqTTz5Z20HXoYle4ySV\\\n",
              "u+++u3rMv/3bv1X+8A//sHLeeedVzjzzzMrv/M7vVJ599tnaDboOfeQjH6n86q/+amXatGmV1tbW\\\n",
              "yjvf+c7Kt771rep+r3F9m1KpVConPzsBAKgVawABAAojAAEACiMAAQAKIwABAAojAAEACiMAAQAK\\\n",
              "IwABAAojAAEACiMAAQAKIwABAAojAAEACiMAAQAKIwABAAojAAEACiMAAQAKIwABAAojAAEACiMA\\\n",
              "AQAKIwABAAojAAEACiMAAQAKIwABAAojAAEACiMAAQAKIwABAAojAAEACiMAAQAKIwABAAojAAEA\\\n",
              "CiMAAQAKIwABAArz/wM2q595O5+2yQAAAABJRU5ErkJggg==\\\n",
              "\"\n",
              "  frames[3] = \"data:image/png;base64,iVBORw0KGgoAAAANSUhEUgAAAoAAAAHgCAYAAAA10dzkAAAAOnRFWHRTb2Z0d2FyZQBNYXRwbG90\\\n",
              "bGliIHZlcnNpb24zLjEwLjAsIGh0dHBzOi8vbWF0cGxvdGxpYi5vcmcvlHJYcgAAAAlwSFlzAAAP\\\n",
              "YQAAD2EBqD+naQAAJsFJREFUeJzt3W+MlWeB9/Ef2M6U2s5U7JSRACvdmhaCVoO2Hc0at7Jlm66R\\\n",
              "9U8km+igjfJ0B5JK426J2hkSXbrVZ1dlxpZkd0v3RaVpssXos/5psNIXYl0xZEuBxmbr0ohDx3U7\\\n",
              "U8kyIJznBTvHmWGGQofhcM71+TQn4Zz7nsPVO+Sc71znuu8zo1KpVAIAQDFm1noAAACcXwIQAKAw\\\n",
              "AhAAoDACEACgMAIQAKAwAhAAoDACEACgMAIQAKAwAhAAoDACEACgMAIQAKAwAhAAoDACEACgMAIQ\\\n",
              "AKAwAhAAoDACEACgMAIQAKAwAhAAoDACEACgMAIQAKAwAhAAoDACEACgMAIQAKAwAhAAoDACEACg\\\n",
              "MAIQAKAwAhAAoDACEACgMAIQAKAwAhAAoDACEACgMAIQAKAwAhAAoDACEACgMAIQAKAwAhAAoDAC\\\n",
              "EACgMAIQAKAwAhAAoDACEACgMAIQAKAwAhAAoDACEACgMAIQAKAwAhAAoDACEACgMAIQAKAwAhAA\\\n",
              "oDACEACgMAIQAKAwAhAAoDACEACgMAIQAKAwAhAAoDACEACgMAIQAKAwF9V6APXsxIkTOXjwYC6/\\\n",
              "/PLMmDGj1sMBAM5ApVLJyy+/nLlz52bmzDLnwgTgFBw8eDDz58+v9TAAgFfhhRdeyLx582o9jJoQ\\\n",
              "gFNw+eWXJzn5D6ilpaXGowEAzsTQ0FDmz59ffR8vkQCcgpGPfVtaWgQgANSZkpdvlfnBNwBAwQQg\\\n",
              "AEBhBCAAQGEEIABAYQQg/K+enp709fWddp++vr709PScnwEBwDRxFjDkZPxt2LCher+rq+uUffr6\\\n",
              "+rJmzZoxPwMA9cgMIMUbH39r1qw5ZSZwfPxt2LBBAAJQtwQgRRsffyNGR+D4+BshAgGoVzMqlUql\\\n",
              "1oOoV0NDQ2ltbc3g4KALQdehyeJvtEWLFmXfvn2n3ae7u1sIAtQR799mAClYW1vbpNuWZEmSVONv\\\n",
              "5P7ZPg8AXIgEIMXq6upKb2/vKY93pjObsikrszJJsjIrsymb0pnOU/bt7e2d8IQRALiQ+Qh4Ckwh\\\n",
              "N4bRa/yWZEk2ZVN122AG05rW6v21WZs92ZNE/AHUK+/fZgBhzEzgnuzJ5myubhsdf5uzWfwB0BDM\\\n",
              "AE6B3yAay+LFi6tr/rZl25j4G8xgVmRFkpMnhuzdu7cWQwTgHPD+bQYQkpz8GHgk/lZm5Zj4S07O\\\n",
              "BI6sCdy3b98rfmMIAFzIBCDFG78GcHVWV7cNZrD659VZXT0beKKLRQNAvRCAFG38RZ73ZE+2ZEuS\\\n",
              "k2v+VmRFdU3glmyprgFMRCAA9csawCmwhqC+TfYNH8nJmcDRsTf+/mhOCAGoL96/zQBSsIGBgUm3\\\n",
              "jcTeokWLxtw/2+cBgAuRAKRYPT096e7unnR7b29v9u7dO+HFokf4GjgA6pEApGiTReDoj3Un+8YQ\\\n",
              "8QdAvRKAFG98BE60pm98BIo/AOrZRbUeAFwIRmKura1t0hM6Rh4fGBgQf0Bd6+npOe3rXXLyRDmv\\\n",
              "d41LAML/OpMXOWf7AvWup6cnGzZsqN6f6HVt/FUSRGDjEYA0np5R3+LRMzj5fgCFGR9/I5E3OgLH\\\n",
              "x9/I/iKwsVgDCAAFGB9/I0Zf1H6y66Nu2LBBADYYM4AA0OAmi78RIxE48p3oEzET2FgEII3Hx74A\\\n",
              "Y7S1tU26beSbjkbi73TffHS656G++AgYABrcZNcz7UxnNmVTVmZlkmRlVmZTNqUznafs62svG4vv\\\n",
              "Ap4C3yUIQD0ZvcZvSZZkUzZVtw1mMK35/Ul0a7O2OhPYaPHn/dsMIAAUY/RM4J7syeZsrm4bHX+b\\\n",
              "s7lh44+TzABOgd8gAKhHixcvrq7525ZtY+JvMINZkRVJkkWLFmXv3r21GOK08v7dwDOA999/f97y\\\n",
              "lrekpaUlLS0t6ejoyHe+853q9iNHjqSrqyuvf/3rc9lll+WDH/xgDh06VMMRA8D0G32278qsHBN/\\\n",
              "ycmZwJE1gfv27ateIobG0rABOG/evNx7773ZtWtXfvrTn+bmm2/O+9///jzzzDNJkk9/+tP51re+\\\n",
              "lUcffTQ7duzIwYMH84EPfKDGowaA6TN+DeDqrK5uG8zvr6CwOquzJEuSjL1OII2jqI+AZ8+enS99\\\n",
              "6Uv50Ic+lLa2tjz88MP50Ic+lCTZv39/Fi1alJ07d+amm246o+czhQxAvZjoIs+d6cyqrMrmbM7W\\\n",
              "bM3KrMzqrM6WbMlDeWjMvo20FtD7dyHXATx+/HgeffTRHD58OB0dHdm1a1eOHTuWZcuWVfe57rrr\\\n",
              "smDBgrMKQACoB5N9w8dDeSi7sqt6wsfWbM2e//1vvIm+No761dAB+PTTT6ejoyNHjhzJZZddlsce\\\n",
              "eyyLFy/O7t2709TUlCuuuGLM/nPmzEl/f/+kzzc8PJzh4eHq/aGhoekaOgCcMwMDA5NuG4m9RYsW\\\n",
              "Zd++fZNeBPqVnof60rBrAJPk2muvze7du/PUU0/ljjvuSGdn55TOZtq4cWNaW1urt/nz55/D0QLA\\\n",
              "9Ojp6Ul3d/ek23t7e7N3794JLxY9oru729fANZCGDsCmpqZcc801Wbp0aTZu3Jjrr78+X/3qV9Pe\\\n",
              "3p6jR4/mpZdeGrP/oUOH0t7ePunzrV+/PoODg9XbCy+8MM3/BwBwbkwWgaPX9k32jSHir/E0dACO\\\n",
              "d+LEiQwPD2fp0qW5+OKLs3379uq2Z599NgcOHEhHR8ekP9/c3Fy9rMzIDQDqxfgInOjEjvERKP4a\\\n",
              "U8OuAVy/fn1uvfXWLFiwIC+//HIefvjh/PCHP8z3vve9tLa25vbbb8+6desye/bstLS0ZO3ateno\\\n",
              "6HACCAANbSTm2traJj2hY+TxgYEB8degGjYAX3zxxXzsYx/Lr371q7S2tuYtb3lLvve97+VP/uRP\\\n",
              "kiR///d/n5kzZ+aDH/xghoeHs3z58nz961+v8agB4Oy88e7/V/3zL+697Yx+5kyiztm+ja2o6wCe\\\n",
              "a64jBECtvZoALJ3378LWAAIA0MAfAQNACcz68WqYAQQAKIwABAAojAAEACiMAAQAKIwABAAojAAE\\\n",
              "ACiMAAQAKIwABAAojAAEACiMAAQAKIwABAAojAAEACiMAAQAKIwABAAojAAEACiMAAQAKIwABAAo\\\n",
              "jAAEACiMAAQAKIwABAAojAAEACiMAAQAKIwABAAojAAEACiMAAQAKIwAbCA9PT3p6+s77T59fX3p\\\n",
              "6ek5PwMCAC5IF9V6AJwbPT092bBhQ/V+V1fXKfv09fVlzZo1Y34GACiPGcAGMD7+1qxZc8pM4Pj4\\\n",
              "27BhgwAEgEIJwDo3Pv5GjI7A8fE3QgQCQJlmVCqVSq0HUa+GhobS2tqawcHBtLS0nPe/f7L4G23R\\\n",
              "okXZt2/faffp7u4WggAUo9bv3xcCM4B1rK2tbdJtS7IkSarxN3L/bJ8HAGg8ArCOdXV1pbe395TH\\\n",
              "O9OZTdmUlVmZJFmZldmUTelM5yn79vb2TnjCCADQuHwEPAUXyhTy6DV+S7Ikm7Kpum0wg2lNa/X+\\\n",
              "2qzNnuxJIv4AKNOF8v5dS2YAG8DomcA92ZPN2VzdNjr+Nmez+AMAzABOxYX2G8TixYura/62ZduY\\\n",
              "+BvMYFZkRZKTJ4bs3bu3FkMEgJq70N6/a8EMYIPo6+urxt/KrBwTf8nJmcCRNYH79u17xW8MAQAa\\\n",
              "lwBsAOPXAK7O6uq2wQxW/7w6q6tnA090sWgAoAwCsM6Nv8jznuzJlmxJcnLN34qsqK4J3JIt1TWA\\\n",
              "iQgEgFJZAzgFtV5DMNk3fCQnZwJHx974+6M5IQSAktT6/ftCYAawjg0MDEy6bST2Fi1aNOb+2T4P\\\n",
              "ANB4BGAd6+npSXd396Tbe3t7s3fv3gkvFj3C18ABQHkEYJ2bLAJHf6w72TeGiD8AKJMAbADjI3Ci\\\n",
              "NX3jI1D8AUC5Lqr1ADg3RmKura1t0hM6Rh4fGBgQfwBQsIY9C3jjxo35l3/5l+zfvz+zZs3KO9/5\\\n",
              "zvzt3/5trr322uo+R44cyV133ZWtW7dmeHg4y5cvz9e//vXMmTPnjP4OZxEBQP3x/t3AHwHv2LEj\\\n",
              "XV1d+fGPf5zHH388x44dyy233JLDhw9X9/n0pz+db33rW3n00UezY8eOHDx4MB/4wAdqOOrf23fd\\\n",
              "ouoNAOBcatgZwPEGBgZy1VVXZceOHXn3u9+dwcHBtLW15eGHH86HPvShJMn+/fuzaNGi7Ny5Mzfd\\\n",
              "dNMrPud0/gYxOvwW7d93Tp8bAEpmBrCBZwDHGxw8+ZVos2fPTpLs2rUrx44dy7Jly6r7XHfddVmw\\\n",
              "YEF27tw54XMMDw9naGhozA0AoN4UcRLIiRMncuedd+Zd73pXliw5+V24/f39aWpqyhVXXDFm3zlz\\\n",
              "5qS/v3/C59m4cWM2bNgw3cNNYtYPAJg+RcwAdnV1Zc+ePdm6deuUnmf9+vUZHBys3l544YVzNEIA\\\n",
              "gPOn4WcA16xZk29/+9t58sknM2/evOrj7e3tOXr0aF566aUxs4CHDh1Ke3v7hM/V3Nyc5ubm6R4y\\\n",
              "AMC0atgZwEqlkjVr1uSxxx7LD37wgyxcuHDM9qVLl+biiy/O9u3bq489++yzOXDgQDo6Os73cAEA\\\n",
              "zpuGnQHs6urKww8/nG9+85u5/PLLq+v6WltbM2vWrLS2tub222/PunXrMnv27LS0tGTt2rXp6Og4\\\n",
              "ozOAAQDqVcNeBmbGjBkTPv7ggw9m1apVSX5/IehvfOMbYy4EPdlHwOM5jRwA6o/37wYOwPPBPyAA\\\n",
              "qD/evxt4DSAAABMTgAAAhRGAAACFEYAAAIURgAAAhRGAAACFEYAAAIURgAAAhRGAAACFEYAAAIUR\\\n",
              "gAAAhRGAAACFEYAAAIURgAAAhRGAAACFEYAAAIURgAAAhRGAAACFEYAAAIURgAAAhRGAAACFEYAA\\\n",
              "AIURgAAAhRGAAACFEYAAAIURgAAAhRGAAACFEYAAAIURgAAAhRGAAACFEYAAAIURgAAAhRGAAACF\\\n",
              "EYAAAIURgAAAhRGAAACFEYAAAIURgAAAhRGAAACFEYAAAIURgAAAhRGAAACFEYAAAIURgAAAhRGA\\\n",
              "AACFadgAfPLJJ/O+970vc+fOzYwZM7Jt27Yx2yuVSu6555684Q1vyKxZs7Js2bL8/Oc/r81gAQDO\\\n",
              "o4YNwMOHD+f6669PX1/fhNvvu+++fO1rX8sDDzyQp556Kq997WuzfPnyHDly5DyPlAtZT0/PpP+G\\\n",
              "RvT19aWnp+f8DAgAzoGLaj2A6XLrrbfm1ltvnXBbpVLJV77ylXzuc5/L+9///iTJP//zP2fOnDnZ\\\n",
              "tm1bVq5ceT6HygWqp6cnGzZsqN7v6uo6ZZ++vr6sWbNmzM8AwIWuYWcAT+f5559Pf39/li1bVn2s\\\n",
              "tbU1N954Y3bu3Dnpzw0PD2doaGjMjcY0Pv7WrFlzykzg+PjbsGGDAASgLhQZgP39/UmSOXPmjHl8\\\n",
              "zpw51W0T2bhxY1pbW6u3+fPnT+s4qY3x8TdidASOj78RIhDgzFlmUzsN+xHwdFi/fn3WrVtXvT80\\\n",
              "NCQCG8xk8TdiJAL37ds36T4jP+8FC2ByltnUVpEzgO3t7UmSQ4cOjXn80KFD1W0TaW5uTktLy5gb\\\n",
              "jaWtrW3SbUuyJEmq8Tdy/2yfB6B0ltnUXpEBuHDhwrS3t2f79u3Vx4aGhvLUU0+lo6OjhiOj1rq6\\\n",
              "utLb23vK453pzKZsysqcPEFoZVZmUzalM52n7Nvb2zvhb7IAWGZzoWjYj4B/+9vf5rnnnqvef/75\\\n",
              "57N79+7Mnj07CxYsyJ133pkvfOELedOb3pSFCxfm85//fObOnZsVK1bUbtBcEEbibeTFZ0mWZFVW\\\n",
              "JUlWZ3VWZmVa05okWZVV2ZVd2ZM9ScQfwOlYZnPhaNgZwJ/+9Kd529velre97W1JknXr1uVtb3tb\\\n",
              "7rnnniTJX/3VX2Xt2rX51Kc+lXe84x357W9/m+9+97u55JJLajlsLhCjZwL3ZE82Z3N120j8Jcnm\\\n",
              "bBZ/AGfIMpsLx4xKpVKp9SDq1dDQUFpbWzM4OGg9YINavHhx9cVoW7aNib/BDGZFViRJFi1alL17\\\n",
              "99ZiiAB1ZaKPdzvTmVVZlc3ZnK3ZmpVZmdVZnS3Zkofy0Jh9z8Uv296/G3gGEKZq9McQoz/2HdGa\\\n",
              "1uqawH379r3ipQwAOHWt9fhlNtuyLauzOsnJZTajZwJ90nLuCECYwOjfUJdkSfXFKDk58zdidVZX\\\n",
              "X5wmOosNgFNZZlN7AhDGGf/xxJ7syZZsSXLyxWhFVlRfrLZkS/XFKRGBAGeqq6srixYtSpJszdYx\\\n",
              "v1wnJ3/Z3pqtSU4usxF/55YAhFEmu/TAQ3koa7O2+mK0NVuzNmtPWZuSiECAM2GZTW0JQBhlYGBg\\\n",
              "0m0jM30jv7GOnvk7m+cBKJ1lNrUnAGGUnp6edHd3T7q9t7c3e/funfBi0SO6u7tdnwpgEpbZXBhc\\\n",
              "BmYKnEbeuCa6WOn4BcgTfVws/gAmN9kym+TkTODo2Bt/f7SpnhDi/dsMIExo/EzgRC824y9lIP4A\\\n",
              "Ts8ymwtHw34VHEzVSMy1tbVN+pvmyOMDAwPiD+AVjLxOTvZ1cCO/bJ9uptAv2+eGj4CnwBQyAJy9\\\n",
              "Wi+z8f5tBpBCvPmhN1f//HTn0zUcCQDjZwInW2aTpBqBZv7OLQEIAJx3ltnUlgAEAKbk/37kz6p/\\\n",
              "vuuRb5/xz51J1PkGkOkhACmCj30B4PdcBgYAoDBmAAGAKTmbj325MJgBBAAojAAEACiMAAQAKIwA\\\n",
              "BAAojAAEACiMAAQAKIwABAAojAAEACiMAAQAKIwABAAojAAEACiMAAQAKIwABAAojAAEACiMAAQA\\\n",
              "KIwABAAojAAEACiMAAQAKIwABAAojAAEACiMAAQAKIwABAAojAAEACiMAAQAKIwABAAojAAEACiM\\\n",
              "AAQAKIwABAAojAAEAChM8QHY19eXN77xjbnkkkty44035ic/+UmthwQAMK2KDsBHHnkk69atS3d3\\\n",
              "d372s5/l+uuvz/Lly/Piiy/WemgAANOm6AD8u7/7u3zyk5/Mxz/+8SxevDgPPPBALr300vzTP/1T\\\n",
              "rYcGADBtig3Ao0ePZteuXVm2bFn1sZkzZ2bZsmXZuXNnDUcGADC9Lqr1AGrl17/+dY4fP545c+aM\\\n",
              "eXzOnDnZv3//hD8zPDyc4eHh6v2hoaFpHSMAwHQodgbw1di4cWNaW1urt/nz59d6SAAAZ63YALzy\\\n",
              "yivzmte8JocOHRrz+KFDh9Le3j7hz6xfvz6Dg4PV2wsvvHA+hgoAcE4VG4BNTU1ZunRptm/fXn3s\\\n",
              "xIkT2b59ezo6Oib8mebm5rS0tIy5AQDUm2LXACbJunXr0tnZmbe//e254YYb8pWvfCWHDx/Oxz/+\\\n",
              "8VoPDQBg2hQdgB/5yEcyMDCQe+65J/39/XnrW9+a7373u6ecGAIA0EhmVCqVSq0HUa+GhobS2tqa\\\n",
              "wcFBHwcDQJ3w/l3wGkAAgFIJQACAwghAAIDCCEAAgMIIQACAwghAAIDCCEAAgMIIQACAwghAAIDC\\\n",
              "CEAAgMIIQACAwghAAIDCCEAAgMIIQACAwghAAIDCCEAAgMIIQACAwghAAIDCCEAAgMIIQACAwghA\\\n",
              "AIDCCEAAgMIIQACAwghAAIDCCEAAgMIIQACAwghAAIDCCEAAgMIIQACAwghAAIDCCEAAgMIIQACA\\\n",
              "wghAAIDCCEAAgMIIQACAwghAAIDCCEAAgMIIQACAwghAAIDCCEAAgMIIQACAwghAAIDCCEAAgMII\\\n",
              "QACAwghAAIDCCEAAgMI0ZAB+8YtfzDvf+c5ceumlueKKKybc58CBA7ntttty6aWX5qqrrspnPvOZ\\\n",
              "/O53vzu/AwUAqIGLaj2A6XD06NF8+MMfTkdHR/7xH//xlO3Hjx/Pbbfdlvb29vzoRz/Kr371q3zs\\\n",
              "Yx/LxRdfnL/5m7+pwYgBAM6fGZVKpVLrQUyXLVu25M4778xLL7005vHvfOc7+bM/+7McPHgwc+bM\\\n",
              "SZI88MAD+eu//usMDAykqanpjJ5/aGgora2tGRwcTEtLy7kePgAwDbx/N+hHwK9k586defOb31yN\\\n",
              "vyRZvnx5hoaG8swzz0z6c8PDwxkaGhpzAwCoN0UGYH9//5j4S1K939/fP+nPbdy4Ma2trdXb/Pnz\\\n",
              "p3WcAADToW4C8O67786MGTNOe9u/f/+0jmH9+vUZHBys3l544YVp/fsAAKZD3ZwEctddd2XVqlWn\\\n",
              "3efqq68+o+dqb2/PT37ykzGPHTp0qLptMs3NzWlubj6jvwMA4EJVNwHY1taWtra2c/JcHR0d+eIX\\\n",
              "v5gXX3wxV111VZLk8ccfT0tLSxYvXnxO/g4AgAtV3QTg2Thw4EB+85vf5MCBAzl+/Hh2796dJLnm\\\n",
              "mmty2WWX5ZZbbsnixYvz0Y9+NPfdd1/6+/vzuc99Ll1dXWb4AICG15CXgVm1alUeeuihUx5/4okn\\\n",
              "8p73vCdJ8p//+Z+544478sMf/jCvfe1r09nZmXvvvTcXXXTmTew0cgCoP96/GzQAzxf/gACg/nj/\\\n",
              "rqOzgAEAODcEIABAYQQgAEBhBCAAQGEEIABAYQQgAEBhBCAAQGEEIABAYQQgAEBhBCAAQGEEIABA\\\n",
              "YQQgAEBhBCAAQGEEIABAYQQgAEBhBCAAQGEEIABAYQQgAEBhBCAAQGEEIABAYQQgAEBhBCAAQGEE\\\n",
              "IABAYQQgAEBhBCAAQGEEIABAYQQgAEBhBCAAQGEEIABAYQQgAEBhBCAAQGEEIABAYQQgAEBhBCAA\\\n",
              "QGEEIABAYQQgAEBhBCAAQGEEIABAYQQgAEBhBCAAQGEEIABAYQQgAEBhBCAAQGEEIABAYQQgAEBh\\\n",
              "GjIAf/GLX+T222/PwoULM2vWrPzhH/5huru7c/To0TH7/fu//3v+6I/+KJdccknmz5+f++67r0Yj\\\n",
              "BgA4fy6q9QCmw/79+3PixIls3rw511xzTfbs2ZNPfvKTOXz4cL785S8nSYaGhnLLLbdk2bJleeCB\\\n",
              "B/L000/nE5/4RK644op86lOfqvH/AQDA9JlRqVQqtR7E+fClL30p999/f/7jP/4jSXL//ffns5/9\\\n",
              "bPr7+9PU1JQkufvuu7Nt27bs37//jJ5zaGgora2tGRwcTEtLy7SNHQA4d7x/N+hHwBMZHBzM7Nmz\\\n",
              "q/d37tyZd7/73dX4S5Lly5fn2WefzX//93/XYogAAOdFEQH43HPPZdOmTVm9enX1sf7+/syZM2fM\\\n",
              "fiP3+/v7J3ye4eHhDA0NjbkBANSbugrAu+++OzNmzDjtbfzHt7/85S/zp3/6p/nwhz+cT37yk1P6\\\n",
              "+zdu3JjW1tbqbf78+VN6PgCAWqirNYADAwP5r//6r9Puc/XVV1c/1j148GDe85735KabbsqWLVsy\\\n",
              "c+bve/djH/tYhoaGsm3btupjTzzxRG6++eb85je/yete97pTnnt4eDjDw8PV+0NDQ5k/f37RawgA\\\n",
              "oN5YA1hnZwG3tbWlra3tjPb95S9/mT/+4z/O0qVL8+CDD46JvyTp6OjIZz/72Rw7diwXX3xxkuTx\\\n",
              "xx/PtddeO2H8JUlzc3Oam5un9j8BAFBjdfUR8Jn65S9/mfe85z1ZsGBBvvzlL2dgYCD9/f1j1vb9\\\n",
              "xV/8RZqamnL77bfnmWeeySOPPJKvfvWrWbduXQ1HDgAw/epqBvBMPf7443nuuefy3HPPZd68eWO2\\\n",
              "jXzi3dramu9///vp6urK0qVLc+WVV+aee+5xDUAAoOHV1RrAC401BABQf7x/N+hHwAAATE4AAgAU\\\n",
              "RgACABRGAAIAFEYAAgAURgACADXX09OTvr6+0+7T19eXnp6e8zOgBteQ1wEEAOpHT09PNmzYUL3f\\\n",
              "1dV1yj59fX1Zs2bNmJ/h1TMDCADUzPj4W7NmzSkzgePjb8OGDQJwigQgAFAT4+NvxOgIHB9/I0Tg\\\n",
              "1PgmkClwJXEAeHUmi7/RFi1alH379p12n+7u7rMOQe/fZgABgBpoa2ubdNuSLEmSavyN3D/b52Fy\\\n",
              "AhAAOO+6urrS29t7yuOd6cymbMrKrEySrMzKbMqmdKbzlH17e3snPGGEV+Yj4CkwhQwAUzN6jd+S\\\n",
              "LMmmbKpuG8xgWtNavb82a7Mne5JMLf68f5sBBABqaPRM4J7syeZsrm4bHX+bs/mcxB8nmQGcAr9B\\\n",
              "AMC5sXjx4uqav23ZNib+BjOYFVmR5OSJIXv37p3S3+X92wwgAFBjfX191fhbmZVj4i85ORM4siZw\\\n",
              "3759r/iNIbwyAQgA1Mz4NYCrs7q6bTCD1T+vzurq2cATXSyasyMAAYCaGH+R5z3Zky3ZkuTkmr8V\\\n",
              "WVFdE7glW6prABMROFXWAE6BNQQA8OpM9g0fycmZwNGxN/7+aK/mhBDv32YAAYAaGBgYmHTbSOwt\\\n",
              "WrRozP2zfR4mJwABgPOup6cn3d3dk27v7e3N3r17J7xY9IhX8zVwnCQAAYCamCwCR3+sO9k3hoi/\\\n",
              "qRGAAEDNjI/Aidb0jY9A8Td1F9V6AABAY+n7Pz+o/rnrgZtfcf+RmGtra5v0hI6RxwcGBsTfOSAA\\\n",
              "AYCaO5Oo8/Vv546PgAEACmMGEAA4p87kY19qywwgAEBhBCAAQGEEIABAYQQgAEBhBCAAQGEEIABA\\\n",
              "YQQgAEBhBCAAQGEEIABAYQQgAEBhBCAAQGEEIABAYQQgAEBhLqr1AOpZpVJJkgwNDdV4JADAmRp5\\\n",
              "3x55Hy+RAJyCl19+OUkyf/78Go8EADhbL7/8clpbW2s9jJqYUSk5f6foxIkTOXjwYC6//PLMmDGj\\\n",
              "1sNpGENDQ5k/f35eeOGFtLS01Ho4DctxPn8c6/PDcT5/6v1YVyqVvPzyy5k7d25mzixzNZwZwCmY\\\n",
              "OXNm5s2bV+thNKyWlpa6fGGpN47z+eNYnx+O8/lTz8e61Jm/EWVmLwBAwQQgAEBhBCAXnObm5nR3\\\n",
              "d6e5ubnWQ2lojvP541ifH47z+eNY1z8ngQAAFMYMIABAYQQgAEBhBCAAQGEEIABAYQQgF5QvfvGL\\\n",
              "eec735lLL700V1xxxYT7HDhwILfddlsuvfTSXHXVVfnMZz6T3/3ud+d3oA2gr68vb3zjG3PJJZfk\\\n",
              "xhtvzE9+8pNaD6muPfnkk3nf+96XuXPnZsaMGdm2bduY7ZVKJffcc0/e8IY3ZNasWVm2bFl+/vOf\\\n",
              "12awdWzjxo15xzvekcsvvzxXXXVVVqxYkWeffXbMPkeOHElXV1de//rX57LLLssHP/jBHDp0qEYj\\\n",
              "rl/3339/3vKWt1Qv9tzR0ZHvfOc71e2Oc30TgFxQjh49mg9/+MO54447Jtx+/Pjx3HbbbTl69Gh+\\\n",
              "9KMf5aGHHsqWLVtyzz33nOeR1rdHHnkk69atS3d3d372s5/l+uuvz/Lly/Piiy/Wemh16/Dhw7n+\\\n",
              "+uvT19c34fb77rsvX/va1/LAAw/kqaeeymtf+9osX748R44cOc8jrW87duxIV1dXfvzjH+fxxx/P\\\n",
              "sWPHcsstt+Tw4cPVfT796U/nW9/6Vh599NHs2LEjBw8ezAc+8IEajro+zZs3L/fee2927dqVn/70\\\n",
              "p7n55pvz/ve/P88880wSx7nuVeAC9OCDD1ZaW1tPefxf//VfKzNnzqz09/dXH7v//vsrLS0tleHh\\\n",
              "4fM4wvp2ww03VLq6uqr3jx8/Xpk7d25l48aNNRxV40hSeeyxx6r3T5w4UWlvb6986Utfqj720ksv\\\n",
              "VZqbmyvf+MY3ajDCxvHiiy9WklR27NhRqVROHteLL7648uijj1b32bdvXyVJZefOnbUaZsN43ete\\\n",
              "V/mHf/gHx7kBmAGkruzcuTNvfvObM2fOnOpjy5cvz9DQUPW3Uk7v6NGj2bVrV5YtW1Z9bObMmVm2\\\n",
              "bFl27txZw5E1rueffz79/f1jjnlra2tuvPFGx3yKBgcHkySzZ89OkuzatSvHjh0bc6yvu+66LFiw\\\n",
              "wLGeguPHj2fr1q05fPhwOjo6HOcGcFGtBwBno7+/f0z8Jane7+/vr8WQ6s6vf/3rHD9+fMLjuH//\\\n",
              "/hqNqrGN/Nuc6Jj7d/vqnThxInfeeWfe9a53ZcmSJUlOHuumpqZT1hA71q/O008/nY6Ojhw5ciSX\\\n",
              "XXZZHnvssSxevDi7d+92nOucGUCm3d13350ZM2ac9iY8gLPV1dWVPXv2ZOvWrbUeSsO69tprs3v3\\\n",
              "7jz11FO544470tnZmb1799Z6WJwDZgCZdnfddVdWrVp12n2uvvrqM3qu9vb2U85WHTnrrL29/VWN\\\n",
              "rzRXXnllXvOa15xytt6hQ4ccw2kyclwPHTqUN7zhDdXHDx06lLe+9a01GlV9W7NmTb797W/nySef\\\n",
              "zLx586qPt7e35+jRo3nppZfGzE759/3qNDU15ZprrkmSLF26NP/2b/+Wr371q/nIRz7iONc5M4BM\\\n",
              "u7a2tlx33XWnvTU1NZ3Rc3V0dOTpp58ec7bq448/npaWlixevHi6/hcaSlNTU5YuXZrt27dXHztx\\\n",
              "4kS2b9+ejo6OGo6scS1cuDDt7e1jjvnQ0FCeeuopx/wsVSqVrFmzJo899lh+8IMfZOHChWO2L126\\\n",
              "NBdffPGYY/3ss8/mwIEDjvU5cOLEiQwPDzvODcAMIBeUAwcO5De/+U0OHDiQ48ePZ/fu3UmSa665\\\n",
              "JpdddlluueWWLF68OB/96Edz3333pb+/P5/73OfS1dWV5ubm2g6+jqxbty6dnZ15+9vfnhtuuCFf\\\n",
              "+cpXcvjw4Xz84x+v9dDq1m9/+9s899xz1fvPP/98du/endmzZ2fBggW5884784UvfCFvetObsnDh\\\n",
              "wnz+85/P3Llzs2LFitoNug51dXXl4Ycfzje/+c1cfvnl1fVmra2tmTVrVlpbW3P77bdn3bp1mT17\\\n",
              "dlpaWrJ27dp0dHTkpptuqvHo68v69etz6623ZsGCBXn55Zfz8MMP54c//GG+973vOc6NoNanIcNo\\\n",
              "nZ2dlSSn3J544onqPr/4xS8qt956a2XWrFmVK6+8snLXXXdVjh07VrtB16lNmzZVFixYUGlqaqrc\\\n",
              "cMMNlR//+Me1HlJde+KJJyb8t9vZ2VmpVE5eCubzn/98Zc6cOZXm5ubKe9/73sqzzz5b20HXoYmO\\\n",
              "cZLKgw8+WN3nf/7nfyp/+Zd/WXnd615XufTSSyt//ud/XvnVr35Vu0HXqU984hOVP/iDP6g0NTVV\\\n",
              "2traKu9973sr3//+96vbHef6NqNSqVTOf3YCAFAr1gACABRGAAIAFEYAAgAURgACABRGAAIAFEYA\\\n",
              "AgAURgACABRGAAIAFEYAAgAURgACABRGAAIAFEYAAgAURgACABRGAAIAFEYAAgAURgACABRGAAIA\\\n",
              "FEYAAgAURgACABRGAAIAFEYAAgAURgACABRGAAIAFEYAAgAURgACABRGAAIAFEYAAgAURgACABRG\\\n",
              "AAIAFEYAAgAURgACABTm/wMTWfvdAzL5lgAAAABJRU5ErkJggg==\\\n",
              "\"\n",
              "  frames[4] = \"data:image/png;base64,iVBORw0KGgoAAAANSUhEUgAAAoAAAAHgCAYAAAA10dzkAAAAOnRFWHRTb2Z0d2FyZQBNYXRwbG90\\\n",
              "bGliIHZlcnNpb24zLjEwLjAsIGh0dHBzOi8vbWF0cGxvdGxpYi5vcmcvlHJYcgAAAAlwSFlzAAAP\\\n",
              "YQAAD2EBqD+naQAAJsFJREFUeJzt3W+MlWeB9/Ef2M6U2s5U7JSRACvdmhaCVoO2Hc0at7Jlm66R\\\n",
              "9U8km+igjfJ0B5JK426J2hkSXbrVZ1dlxpZkd0v3RaVpssXos/5psNIXYl0xZEuBxmbr0ohDx3U7\\\n",
              "U8kyIJznBTvHmWGGQofhcM71+TQn4Zz7nsPVO+Sc71znuu8zo1KpVAIAQDFm1noAAACcXwIQAKAw\\\n",
              "AhAAoDACEACgMAIQAKAwAhAAoDACEACgMAIQAKAwAhAAoDACEACgMAIQAKAwAhAAoDACEACgMAIQ\\\n",
              "AKAwAhAAoDACEACgMAIQAKAwAhAAoDACEACgMAIQAKAwAhAAoDACEACgMAIQAKAwAhAAoDACEACg\\\n",
              "MAIQAKAwAhAAoDACEACgMAIQAKAwAhAAoDACEACgMAIQAKAwAhAAoDACEACgMAIQAKAwAhAAoDAC\\\n",
              "EACgMAIQAKAwAhAAoDACEACgMAIQAKAwAhAAoDACEACgMAIQAKAwAhAAoDACEACgMAIQAKAwAhAA\\\n",
              "oDACEACgMAIQAKAwAhAAoDACEACgMAIQAKAwAhAAoDACEACgMAIQAKAwF9V6APXsxIkTOXjwYC6/\\\n",
              "/PLMmDGj1sMBAM5ApVLJyy+/nLlz52bmzDLnwgTgFBw8eDDz58+v9TAAgFfhhRdeyLx582o9jJoQ\\\n",
              "gFNw+eWXJzn5D6ilpaXGowEAzsTQ0FDmz59ffR8vkQCcgpGPfVtaWgQgANSZkpdvlfnBNwBAwQQg\\\n",
              "AEBhBCAAQGEEIABAYQQg/K+enp709fWddp++vr709PScnwEBwDRxFjDkZPxt2LCher+rq+uUffr6\\\n",
              "+rJmzZoxPwMA9cgMIMUbH39r1qw5ZSZwfPxt2LBBAAJQtwQgRRsffyNGR+D4+BshAgGoVzMqlUql\\\n",
              "1oOoV0NDQ2ltbc3g4KALQdehyeJvtEWLFmXfvn2n3ae7u1sIAtQR799mAClYW1vbpNuWZEmSVONv\\\n",
              "5P7ZPg8AXIgEIMXq6upKb2/vKY93pjObsikrszJJsjIrsymb0pnOU/bt7e2d8IQRALiQ+Qh4Ckwh\\\n",
              "N4bRa/yWZEk2ZVN122AG05rW6v21WZs92ZNE/AHUK+/fZgBhzEzgnuzJ5myubhsdf5uzWfwB0BDM\\\n",
              "AE6B3yAay+LFi6tr/rZl25j4G8xgVmRFkpMnhuzdu7cWQwTgHPD+bQYQkpz8GHgk/lZm5Zj4S07O\\\n",
              "BI6sCdy3b98rfmMIAFzIBCDFG78GcHVWV7cNZrD659VZXT0beKKLRQNAvRCAFG38RZ73ZE+2ZEuS\\\n",
              "k2v+VmRFdU3glmyprgFMRCAA9csawCmwhqC+TfYNH8nJmcDRsTf+/mhOCAGoL96/zQBSsIGBgUm3\\\n",
              "jcTeokWLxtw/2+cBgAuRAKRYPT096e7unnR7b29v9u7dO+HFokf4GjgA6pEApGiTReDoj3Un+8YQ\\\n",
              "8QdAvRKAFG98BE60pm98BIo/AOrZRbUeAFwIRmKura1t0hM6Rh4fGBgQf0Bd6+npOe3rXXLyRDmv\\\n",
              "d41LAML/OpMXOWf7AvWup6cnGzZsqN6f6HVt/FUSRGDjEYA0np5R3+LRMzj5fgCFGR9/I5E3OgLH\\\n",
              "x9/I/iKwsVgDCAAFGB9/I0Zf1H6y66Nu2LBBADYYM4AA0OAmi78RIxE48p3oEzET2FgEII3Hx74A\\\n",
              "Y7S1tU26beSbjkbi73TffHS656G++AgYABrcZNcz7UxnNmVTVmZlkmRlVmZTNqUznafs62svG4vv\\\n",
              "Ap4C3yUIQD0ZvcZvSZZkUzZVtw1mMK35/Ul0a7O2OhPYaPHn/dsMIAAUY/RM4J7syeZsrm4bHX+b\\\n",
              "s7lh44+TzABOgd8gAKhHixcvrq7525ZtY+JvMINZkRVJkkWLFmXv3r21GOK08v7dwDOA999/f97y\\\n",
              "lrekpaUlLS0t6ejoyHe+853q9iNHjqSrqyuvf/3rc9lll+WDH/xgDh06VMMRA8D0G32278qsHBN/\\\n",
              "ycmZwJE1gfv27ateIobG0rABOG/evNx7773ZtWtXfvrTn+bmm2/O+9///jzzzDNJkk9/+tP51re+\\\n",
              "lUcffTQ7duzIwYMH84EPfKDGowaA6TN+DeDqrK5uG8zvr6CwOquzJEuSjL1OII2jqI+AZ8+enS99\\\n",
              "6Uv50Ic+lLa2tjz88MP50Ic+lCTZv39/Fi1alJ07d+amm246o+czhQxAvZjoIs+d6cyqrMrmbM7W\\\n",
              "bM3KrMzqrM6WbMlDeWjMvo20FtD7dyHXATx+/HgeffTRHD58OB0dHdm1a1eOHTuWZcuWVfe57rrr\\\n",
              "smDBgrMKQACoB5N9w8dDeSi7sqt6wsfWbM2e//1vvIm+No761dAB+PTTT6ejoyNHjhzJZZddlsce\\\n",
              "eyyLFy/O7t2709TUlCuuuGLM/nPmzEl/f/+kzzc8PJzh4eHq/aGhoekaOgCcMwMDA5NuG4m9RYsW\\\n",
              "Zd++fZNeBPqVnof60rBrAJPk2muvze7du/PUU0/ljjvuSGdn55TOZtq4cWNaW1urt/nz55/D0QLA\\\n",
              "9Ojp6Ul3d/ek23t7e7N3794JLxY9oru729fANZCGDsCmpqZcc801Wbp0aTZu3Jjrr78+X/3qV9Pe\\\n",
              "3p6jR4/mpZdeGrP/oUOH0t7ePunzrV+/PoODg9XbCy+8MM3/BwBwbkwWgaPX9k32jSHir/E0dACO\\\n",
              "d+LEiQwPD2fp0qW5+OKLs3379uq2Z599NgcOHEhHR8ekP9/c3Fy9rMzIDQDqxfgInOjEjvERKP4a\\\n",
              "U8OuAVy/fn1uvfXWLFiwIC+//HIefvjh/PCHP8z3vve9tLa25vbbb8+6desye/bstLS0ZO3ateno\\\n",
              "6HACCAANbSTm2traJj2hY+TxgYEB8degGjYAX3zxxXzsYx/Lr371q7S2tuYtb3lLvve97+VP/uRP\\\n",
              "kiR///d/n5kzZ+aDH/xghoeHs3z58nz961+v8agB4Oy88e7/V/3zL+697Yx+5kyiztm+ja2o6wCe\\\n",
              "a64jBECtvZoALJ3378LWAAIA0MAfAQNACcz68WqYAQQAKIwABAAojAAEACiMAAQAKIwABAAojAAE\\\n",
              "ACiMAAQAKIwABAAojAAEACiMAAQAKIwABAAojAAEACiMAAQAKIwABAAojAAEACiMAAQAKIwABAAo\\\n",
              "jAAEACiMAAQAKIwABAAojAAEACiMAAQAKIwABAAojAAEACiMAAQAKIwAbCA9PT3p6+s77T59fX3p\\\n",
              "6ek5PwMCAC5IF9V6AJwbPT092bBhQ/V+V1fXKfv09fVlzZo1Y34GACiPGcAGMD7+1qxZc8pM4Pj4\\\n",
              "27BhgwAEgEIJwDo3Pv5GjI7A8fE3QgQCQJlmVCqVSq0HUa+GhobS2tqawcHBtLS0nPe/f7L4G23R\\\n",
              "okXZt2/faffp7u4WggAUo9bv3xcCM4B1rK2tbdJtS7IkSarxN3L/bJ8HAGg8ArCOdXV1pbe395TH\\\n",
              "O9OZTdmUlVmZJFmZldmUTelM5yn79vb2TnjCCADQuHwEPAUXyhTy6DV+S7Ikm7Kpum0wg2lNa/X+\\\n",
              "2qzNnuxJIv4AKNOF8v5dS2YAG8DomcA92ZPN2VzdNjr+Nmez+AMAzABOxYX2G8TixYura/62ZduY\\\n",
              "+BvMYFZkRZKTJ4bs3bu3FkMEgJq70N6/a8EMYIPo6+urxt/KrBwTf8nJmcCRNYH79u17xW8MAQAa\\\n",
              "lwBsAOPXAK7O6uq2wQxW/7w6q6tnA090sWgAoAwCsM6Nv8jznuzJlmxJcnLN34qsqK4J3JIt1TWA\\\n",
              "iQgEgFJZAzgFtV5DMNk3fCQnZwJHx974+6M5IQSAktT6/ftCYAawjg0MDEy6bST2Fi1aNOb+2T4P\\\n",
              "ANB4BGAd6+npSXd396Tbe3t7s3fv3gkvFj3C18ABQHkEYJ2bLAJHf6w72TeGiD8AKJMAbADjI3Ci\\\n",
              "NX3jI1D8AUC5Lqr1ADg3RmKura1t0hM6Rh4fGBgQfwBQsIY9C3jjxo35l3/5l+zfvz+zZs3KO9/5\\\n",
              "zvzt3/5trr322uo+R44cyV133ZWtW7dmeHg4y5cvz9e//vXMmTPnjP4OZxEBQP3x/t3AHwHv2LEj\\\n",
              "XV1d+fGPf5zHH388x44dyy233JLDhw9X9/n0pz+db33rW3n00UezY8eOHDx4MB/4wAdqOOrf23fd\\\n",
              "ouoNAOBcatgZwPEGBgZy1VVXZceOHXn3u9+dwcHBtLW15eGHH86HPvShJMn+/fuzaNGi7Ny5Mzfd\\\n",
              "dNMrPud0/gYxOvwW7d93Tp8bAEpmBrCBZwDHGxw8+ZVos2fPTpLs2rUrx44dy7Jly6r7XHfddVmw\\\n",
              "YEF27tw54XMMDw9naGhozA0AoN4UcRLIiRMncuedd+Zd73pXliw5+V24/f39aWpqyhVXXDFm3zlz\\\n",
              "5qS/v3/C59m4cWM2bNgw3cNNYtYPAJg+RcwAdnV1Zc+ePdm6deuUnmf9+vUZHBys3l544YVzNEIA\\\n",
              "gPOn4WcA16xZk29/+9t58sknM2/evOrj7e3tOXr0aF566aUxs4CHDh1Ke3v7hM/V3Nyc5ubm6R4y\\\n",
              "AMC0atgZwEqlkjVr1uSxxx7LD37wgyxcuHDM9qVLl+biiy/O9u3bq489++yzOXDgQDo6Os73cAEA\\\n",
              "zpuGnQHs6urKww8/nG9+85u5/PLLq+v6WltbM2vWrLS2tub222/PunXrMnv27LS0tGTt2rXp6Og4\\\n",
              "ozOAAQDqVcNeBmbGjBkTPv7ggw9m1apVSX5/IehvfOMbYy4EPdlHwOM5jRwA6o/37wYOwPPBPyAA\\\n",
              "qD/evxt4DSAAABMTgAAAhRGAAACFEYAAAIURgAAAhRGAAACFEYAAAIURgAAAhRGAAACFEYAAAIUR\\\n",
              "gAAAhRGAAACFEYAAAIURgAAAhRGAAACFEYAAAIURgAAAhRGAAACFEYAAAIURgAAAhRGAAACFEYAA\\\n",
              "AIURgAAAhRGAAACFEYAAAIURgAAAhRGAAACFEYAAAIURgAAAhRGAAACFEYAAAIURgAAAhRGAAACF\\\n",
              "EYAAAIURgAAAhRGAAACFEYAAAIURgAAAhRGAAACFEYAAAIURgAAAhRGAAACFEYAAAIURgAAAhRGA\\\n",
              "AACFadgAfPLJJ/O+970vc+fOzYwZM7Jt27Yx2yuVSu6555684Q1vyKxZs7Js2bL8/Oc/r81gAQDO\\\n",
              "o4YNwMOHD+f6669PX1/fhNvvu+++fO1rX8sDDzyQp556Kq997WuzfPnyHDly5DyPlAtZT0/PpP+G\\\n",
              "RvT19aWnp+f8DAgAzoGLaj2A6XLrrbfm1ltvnXBbpVLJV77ylXzuc5/L+9///iTJP//zP2fOnDnZ\\\n",
              "tm1bVq5ceT6HygWqp6cnGzZsqN7v6uo6ZZ++vr6sWbNmzM8AwIWuYWcAT+f5559Pf39/li1bVn2s\\\n",
              "tbU1N954Y3bu3Dnpzw0PD2doaGjMjcY0Pv7WrFlzykzg+PjbsGGDAASgLhQZgP39/UmSOXPmjHl8\\\n",
              "zpw51W0T2bhxY1pbW6u3+fPnT+s4qY3x8TdidASOj78RIhDgzFlmUzsN+xHwdFi/fn3WrVtXvT80\\\n",
              "NCQCG8xk8TdiJAL37ds36T4jP+8FC2ByltnUVpEzgO3t7UmSQ4cOjXn80KFD1W0TaW5uTktLy5gb\\\n",
              "jaWtrW3SbUuyJEmq8Tdy/2yfB6B0ltnUXpEBuHDhwrS3t2f79u3Vx4aGhvLUU0+lo6OjhiOj1rq6\\\n",
              "utLb23vK453pzKZsysqcPEFoZVZmUzalM52n7Nvb2zvhb7IAWGZzoWjYj4B/+9vf5rnnnqvef/75\\\n",
              "57N79+7Mnj07CxYsyJ133pkvfOELedOb3pSFCxfm85//fObOnZsVK1bUbtBcEEbibeTFZ0mWZFVW\\\n",
              "JUlWZ3VWZmVa05okWZVV2ZVd2ZM9ScQfwOlYZnPhaNgZwJ/+9Kd529velre97W1JknXr1uVtb3tb\\\n",
              "7rnnniTJX/3VX2Xt2rX51Kc+lXe84x357W9/m+9+97u55JJLajlsLhCjZwL3ZE82Z3N120j8Jcnm\\\n",
              "bBZ/AGfIMpsLx4xKpVKp9SDq1dDQUFpbWzM4OGg9YINavHhx9cVoW7aNib/BDGZFViRJFi1alL17\\\n",
              "99ZiiAB1ZaKPdzvTmVVZlc3ZnK3ZmpVZmdVZnS3Zkofy0Jh9z8Uv296/G3gGEKZq9McQoz/2HdGa\\\n",
              "1uqawH379r3ipQwAOHWt9fhlNtuyLauzOsnJZTajZwJ90nLuCECYwOjfUJdkSfXFKDk58zdidVZX\\\n",
              "X5wmOosNgFNZZlN7AhDGGf/xxJ7syZZsSXLyxWhFVlRfrLZkS/XFKRGBAGeqq6srixYtSpJszdYx\\\n",
              "v1wnJ3/Z3pqtSU4usxF/55YAhFEmu/TAQ3koa7O2+mK0NVuzNmtPWZuSiECAM2GZTW0JQBhlYGBg\\\n",
              "0m0jM30jv7GOnvk7m+cBKJ1lNrUnAGGUnp6edHd3T7q9t7c3e/funfBi0SO6u7tdnwpgEpbZXBhc\\\n",
              "BmYKnEbeuCa6WOn4BcgTfVws/gAmN9kym+TkTODo2Bt/f7SpnhDi/dsMIExo/EzgRC824y9lIP4A\\\n",
              "Ts8ymwtHw34VHEzVSMy1tbVN+pvmyOMDAwPiD+AVjLxOTvZ1cCO/bJ9uptAv2+eGj4CnwBQyAJy9\\\n",
              "Wi+z8f5tBpBCvPmhN1f//HTn0zUcCQDjZwInW2aTpBqBZv7OLQEIAJx3ltnUlgAEAKbk/37kz6p/\\\n",
              "vuuRb5/xz51J1PkGkOkhACmCj30B4PdcBgYAoDBmAAGAKTmbj325MJgBBAAojAAEACiMAAQAKIwA\\\n",
              "BAAojAAEACiMAAQAKIwABAAojAAEACiMAAQAKIwABAAojAAEACiMAAQAKIwABAAojAAEACiMAAQA\\\n",
              "KIwABAAojAAEACiMAAQAKIwABAAojAAEACiMAAQAKIwABAAojAAEACiMAAQAKIwABAAojAAEACiM\\\n",
              "AAQAKIwABAAojAAEAChM8QHY19eXN77xjbnkkkty44035ic/+UmthwQAMK2KDsBHHnkk69atS3d3\\\n",
              "d372s5/l+uuvz/Lly/Piiy/WemgAANOm6AD8u7/7u3zyk5/Mxz/+8SxevDgPPPBALr300vzTP/1T\\\n",
              "rYcGADBtig3Ao0ePZteuXVm2bFn1sZkzZ2bZsmXZuXNnDUcGADC9Lqr1AGrl17/+dY4fP545c+aM\\\n",
              "eXzOnDnZv3//hD8zPDyc4eHh6v2hoaFpHSMAwHQodgbw1di4cWNaW1urt/nz59d6SAAAZ63YALzy\\\n",
              "yivzmte8JocOHRrz+KFDh9Le3j7hz6xfvz6Dg4PV2wsvvHA+hgoAcE4VG4BNTU1ZunRptm/fXn3s\\\n",
              "xIkT2b59ezo6Oib8mebm5rS0tIy5AQDUm2LXACbJunXr0tnZmbe//e254YYb8pWvfCWHDx/Oxz/+\\\n",
              "8VoPDQBg2hQdgB/5yEcyMDCQe+65J/39/XnrW9+a7373u6ecGAIA0EhmVCqVSq0HUa+GhobS2tqa\\\n",
              "wcFBHwcDQJ3w/l3wGkAAgFIJQACAwghAAIDCCEAAgMIIQACAwghAAIDCCEAAgMIIQACAwghAAIDC\\\n",
              "CEAAgMIIQACAwghAAIDCCEAAgMIIQACAwghAAIDCCEAAgMIIQACAwghAAIDCCEAAgMIIQACAwghA\\\n",
              "AIDCCEAAgMIIQACAwghAAIDCCEAAgMIIQACAwghAAIDCCEAAgMIIQACAwghAAIDCCEAAgMIIQACA\\\n",
              "wghAAIDCCEAAgMIIQACAwghAAIDCCEAAgMIIQACAwghAAIDCCEAAgMIIQACAwghAAIDCCEAAgMII\\\n",
              "QACAwghAAIDCCEAAgMI0ZAB+8YtfzDvf+c5ceumlueKKKybc58CBA7ntttty6aWX5qqrrspnPvOZ\\\n",
              "/O53vzu/AwUAqIGLaj2A6XD06NF8+MMfTkdHR/7xH//xlO3Hjx/Pbbfdlvb29vzoRz/Kr371q3zs\\\n",
              "Yx/LxRdfnL/5m7+pwYgBAM6fGZVKpVLrQUyXLVu25M4778xLL7005vHvfOc7+bM/+7McPHgwc+bM\\\n",
              "SZI88MAD+eu//usMDAykqanpjJ5/aGgora2tGRwcTEtLy7kePgAwDbx/N+hHwK9k586defOb31yN\\\n",
              "vyRZvnx5hoaG8swzz0z6c8PDwxkaGhpzAwCoN0UGYH9//5j4S1K939/fP+nPbdy4Ma2trdXb/Pnz\\\n",
              "p3WcAADToW4C8O67786MGTNOe9u/f/+0jmH9+vUZHBys3l544YVp/fsAAKZD3ZwEctddd2XVqlWn\\\n",
              "3efqq68+o+dqb2/PT37ykzGPHTp0qLptMs3NzWlubj6jvwMA4EJVNwHY1taWtra2c/JcHR0d+eIX\\\n",
              "v5gXX3wxV111VZLk8ccfT0tLSxYvXnxO/g4AgAtV3QTg2Thw4EB+85vf5MCBAzl+/Hh2796dJLnm\\\n",
              "mmty2WWX5ZZbbsnixYvz0Y9+NPfdd1/6+/vzuc99Ll1dXWb4AICG15CXgVm1alUeeuihUx5/4okn\\\n",
              "8p73vCdJ8p//+Z+544478sMf/jCvfe1r09nZmXvvvTcXXXTmTew0cgCoP96/GzQAzxf/gACg/nj/\\\n",
              "rqOzgAEAODcEIABAYQQgAEBhBCAAQGEEIABAYQQgAEBhBCAAQGEEIABAYQQgAEBhBCAAQGEEIABA\\\n",
              "YQQgAEBhBCAAQGEEIABAYQQgAEBhBCAAQGEEIABAYQQgAEBhBCAAQGEEIABAYQQgAEBhBCAAQGEE\\\n",
              "IABAYQQgAEBhBCAAQGEEIABAYQQgAEBhBCAAQGEEIABAYQQgAEBhBCAAQGEEIABAYQQgAEBhBCAA\\\n",
              "QGEEIABAYQQgAEBhBCAAQGEEIABAYQQgAEBhBCAAQGEEIABAYQQgAEBhBCAAQGEEIABAYQQgAEBh\\\n",
              "GjIAf/GLX+T222/PwoULM2vWrPzhH/5huru7c/To0TH7/fu//3v+6I/+KJdccknmz5+f++67r0Yj\\\n",
              "BgA4fy6q9QCmw/79+3PixIls3rw511xzTfbs2ZNPfvKTOXz4cL785S8nSYaGhnLLLbdk2bJleeCB\\\n",
              "B/L000/nE5/4RK644op86lOfqvH/AQDA9JlRqVQqtR7E+fClL30p999/f/7jP/4jSXL//ffns5/9\\\n",
              "bPr7+9PU1JQkufvuu7Nt27bs37//jJ5zaGgora2tGRwcTEtLy7SNHQA4d7x/N+hHwBMZHBzM7Nmz\\\n",
              "q/d37tyZd7/73dX4S5Lly5fn2WefzX//93/XYogAAOdFEQH43HPPZdOmTVm9enX1sf7+/syZM2fM\\\n",
              "fiP3+/v7J3ye4eHhDA0NjbkBANSbugrAu+++OzNmzDjtbfzHt7/85S/zp3/6p/nwhz+cT37yk1P6\\\n",
              "+zdu3JjW1tbqbf78+VN6PgCAWqirNYADAwP5r//6r9Puc/XVV1c/1j148GDe85735KabbsqWLVsy\\\n",
              "c+bve/djH/tYhoaGsm3btupjTzzxRG6++eb85je/yete97pTnnt4eDjDw8PV+0NDQ5k/f37RawgA\\\n",
              "oN5YA1hnZwG3tbWlra3tjPb95S9/mT/+4z/O0qVL8+CDD46JvyTp6OjIZz/72Rw7diwXX3xxkuTx\\\n",
              "xx/PtddeO2H8JUlzc3Oam5un9j8BAFBjdfUR8Jn65S9/mfe85z1ZsGBBvvzlL2dgYCD9/f1j1vb9\\\n",
              "xV/8RZqamnL77bfnmWeeySOPPJKvfvWrWbduXQ1HDgAw/epqBvBMPf7443nuuefy3HPPZd68eWO2\\\n",
              "jXzi3dramu9///vp6urK0qVLc+WVV+aee+5xDUAAoOHV1RrAC401BABQf7x/N+hHwAAATE4AAgAU\\\n",
              "RgACABRGAAIAFEYAAgAURgACADXX09OTvr6+0+7T19eXnp6e8zOgBteQ1wEEAOpHT09PNmzYUL3f\\\n",
              "1dV1yj59fX1Zs2bNmJ/h1TMDCADUzPj4W7NmzSkzgePjb8OGDQJwigQgAFAT4+NvxOgIHB9/I0Tg\\\n",
              "1PgmkClwJXEAeHUmi7/RFi1alH379p12n+7u7rMOQe/fZgABgBpoa2ubdNuSLEmSavyN3D/b52Fy\\\n",
              "AhAAOO+6urrS29t7yuOd6cymbMrKrEySrMzKbMqmdKbzlH17e3snPGGEV+Yj4CkwhQwAUzN6jd+S\\\n",
              "LMmmbKpuG8xgWtNavb82a7Mne5JMLf68f5sBBABqaPRM4J7syeZsrm4bHX+bs/mcxB8nmQGcAr9B\\\n",
              "AMC5sXjx4uqav23ZNib+BjOYFVmR5OSJIXv37p3S3+X92wwgAFBjfX191fhbmZVj4i85ORM4siZw\\\n",
              "3759r/iNIbwyAQgA1Mz4NYCrs7q6bTCD1T+vzurq2cATXSyasyMAAYCaGH+R5z3Zky3ZkuTkmr8V\\\n",
              "WVFdE7glW6prABMROFXWAE6BNQQA8OpM9g0fycmZwNGxN/7+aK/mhBDv32YAAYAaGBgYmHTbSOwt\\\n",
              "WrRozP2zfR4mJwABgPOup6cn3d3dk27v7e3N3r17J7xY9IhX8zVwnCQAAYCamCwCR3+sO9k3hoi/\\\n",
              "qRGAAEDNjI/Aidb0jY9A8Td1F9V6AABAY+n7Pz+o/rnrgZtfcf+RmGtra5v0hI6RxwcGBsTfOSAA\\\n",
              "AYCaO5Oo8/Vv546PgAEACmMGEAA4p87kY19qywwgAEBhBCAAQGEEIABAYQQgAEBhBCAAQGEEIABA\\\n",
              "YQQgAEBhBCAAQGEEIABAYQQgAEBhBCAAQGEEIABAYQQgAEBhLqr1AOpZpVJJkgwNDdV4JADAmRp5\\\n",
              "3x55Hy+RAJyCl19+OUkyf/78Go8EADhbL7/8clpbW2s9jJqYUSk5f6foxIkTOXjwYC6//PLMmDGj\\\n",
              "1sNpGENDQ5k/f35eeOGFtLS01Ho4DctxPn8c6/PDcT5/6v1YVyqVvPzyy5k7d25mzixzNZwZwCmY\\\n",
              "OXNm5s2bV+thNKyWlpa6fGGpN47z+eNYnx+O8/lTz8e61Jm/EWVmLwBAwQQgAEBhBCAXnObm5nR3\\\n",
              "d6e5ubnWQ2lojvP541ifH47z+eNY1z8ngQAAFMYMIABAYQQgAEBhBCAAQGEEIABAYQQgF5QvfvGL\\\n",
              "eec735lLL700V1xxxYT7HDhwILfddlsuvfTSXHXVVfnMZz6T3/3ud+d3oA2gr68vb3zjG3PJJZfk\\\n",
              "xhtvzE9+8pNaD6muPfnkk3nf+96XuXPnZsaMGdm2bduY7ZVKJffcc0/e8IY3ZNasWVm2bFl+/vOf\\\n",
              "12awdWzjxo15xzvekcsvvzxXXXVVVqxYkWeffXbMPkeOHElXV1de//rX57LLLssHP/jBHDp0qEYj\\\n",
              "rl/3339/3vKWt1Qv9tzR0ZHvfOc71e2Oc30TgFxQjh49mg9/+MO54447Jtx+/Pjx3HbbbTl69Gh+\\\n",
              "9KMf5aGHHsqWLVtyzz33nOeR1rdHHnkk69atS3d3d372s5/l+uuvz/Lly/Piiy/Wemh16/Dhw7n+\\\n",
              "+uvT19c34fb77rsvX/va1/LAAw/kqaeeymtf+9osX748R44cOc8jrW87duxIV1dXfvzjH+fxxx/P\\\n",
              "sWPHcsstt+Tw4cPVfT796U/nW9/6Vh599NHs2LEjBw8ezAc+8IEajro+zZs3L/fee2927dqVn/70\\\n",
              "p7n55pvz/ve/P88880wSx7nuVeAC9OCDD1ZaW1tPefxf//VfKzNnzqz09/dXH7v//vsrLS0tleHh\\\n",
              "4fM4wvp2ww03VLq6uqr3jx8/Xpk7d25l48aNNRxV40hSeeyxx6r3T5w4UWlvb6986Utfqj720ksv\\\n",
              "VZqbmyvf+MY3ajDCxvHiiy9WklR27NhRqVROHteLL7648uijj1b32bdvXyVJZefOnbUaZsN43ete\\\n",
              "V/mHf/gHx7kBmAGkruzcuTNvfvObM2fOnOpjy5cvz9DQUPW3Uk7v6NGj2bVrV5YtW1Z9bObMmVm2\\\n",
              "bFl27txZw5E1rueffz79/f1jjnlra2tuvPFGx3yKBgcHkySzZ89OkuzatSvHjh0bc6yvu+66LFiw\\\n",
              "wLGeguPHj2fr1q05fPhwOjo6HOcGcFGtBwBno7+/f0z8Jane7+/vr8WQ6s6vf/3rHD9+fMLjuH//\\\n",
              "/hqNqrGN/Nuc6Jj7d/vqnThxInfeeWfe9a53ZcmSJUlOHuumpqZT1hA71q/O008/nY6Ojhw5ciSX\\\n",
              "XXZZHnvssSxevDi7d+92nOucGUCm3d13350ZM2ac9iY8gLPV1dWVPXv2ZOvWrbUeSsO69tprs3v3\\\n",
              "7jz11FO544470tnZmb1799Z6WJwDZgCZdnfddVdWrVp12n2uvvrqM3qu9vb2U85WHTnrrL29/VWN\\\n",
              "rzRXXnllXvOa15xytt6hQ4ccw2kyclwPHTqUN7zhDdXHDx06lLe+9a01GlV9W7NmTb797W/nySef\\\n",
              "zLx586qPt7e35+jRo3nppZfGzE759/3qNDU15ZprrkmSLF26NP/2b/+Wr371q/nIRz7iONc5M4BM\\\n",
              "u7a2tlx33XWnvTU1NZ3Rc3V0dOTpp58ec7bq448/npaWlixevHi6/hcaSlNTU5YuXZrt27dXHztx\\\n",
              "4kS2b9+ejo6OGo6scS1cuDDt7e1jjvnQ0FCeeuopx/wsVSqVrFmzJo899lh+8IMfZOHChWO2L126\\\n",
              "NBdffPGYY/3ss8/mwIEDjvU5cOLEiQwPDzvODcAMIBeUAwcO5De/+U0OHDiQ48ePZ/fu3UmSa665\\\n",
              "JpdddlluueWWLF68OB/96Edz3333pb+/P5/73OfS1dWV5ubm2g6+jqxbty6dnZ15+9vfnhtuuCFf\\\n",
              "+cpXcvjw4Xz84x+v9dDq1m9/+9s899xz1fvPP/98du/endmzZ2fBggW5884784UvfCFvetObsnDh\\\n",
              "wnz+85/P3Llzs2LFitoNug51dXXl4Ycfzje/+c1cfvnl1fVmra2tmTVrVlpbW3P77bdn3bp1mT17\\\n",
              "dlpaWrJ27dp0dHTkpptuqvHo68v69etz6623ZsGCBXn55Zfz8MMP54c//GG+973vOc6NoNanIcNo\\\n",
              "nZ2dlSSn3J544onqPr/4xS8qt956a2XWrFmVK6+8snLXXXdVjh07VrtB16lNmzZVFixYUGlqaqrc\\\n",
              "cMMNlR//+Me1HlJde+KJJyb8t9vZ2VmpVE5eCubzn/98Zc6cOZXm5ubKe9/73sqzzz5b20HXoYmO\\\n",
              "cZLKgw8+WN3nf/7nfyp/+Zd/WXnd615XufTSSyt//ud/XvnVr35Vu0HXqU984hOVP/iDP6g0NTVV\\\n",
              "2traKu9973sr3//+96vbHef6NqNSqVTOf3YCAFAr1gACABRGAAIAFEYAAgAURgACABRGAAIAFEYA\\\n",
              "AgAURgACABRGAAIAFEYAAgAURgACABRGAAIAFEYAAgAURgACABRGAAIAFEYAAgAURgACABRGAAIA\\\n",
              "FEYAAgAURgACABRGAAIAFEYAAgAURgACABRGAAIAFEYAAgAURgACABRGAAIAFEYAAgAURgACABRG\\\n",
              "AAIAFEYAAgAURgACABTm/wMTWfvdAzL5lgAAAABJRU5ErkJggg==\\\n",
              "\"\n",
              "\n",
              "\n",
              "    /* set a timeout to make sure all the above elements are created before\n",
              "       the object is initialized. */\n",
              "    setTimeout(function() {\n",
              "        anim1216b40927e34ed8ae5243158573660a = new Animation(frames, img_id, slider_id, 800.0,\n",
              "                                 loop_select_id);\n",
              "    }, 0);\n",
              "  })()\n",
              "</script>\n"
            ]
          },
          "metadata": {},
          "execution_count": 34
        }
      ]
    },
    {
      "cell_type": "markdown",
      "metadata": {
        "id": "fiB8oz1WGmY4"
      },
      "source": [
        "## GPU batched algorithm"
      ]
    },
    {
      "cell_type": "markdown",
      "metadata": {
        "id": "sUnScF8-GmY4"
      },
      "source": [
        "To truly accelerate the algorithm, we need to be performing updates on a batch of points per iteration, instead of just one as we were doing."
      ]
    },
    {
      "cell_type": "code",
      "source": [
        "bs = 5\n",
        "X = data.clone()\n",
        "x = X[:5]\n",
        "x.shape, X.shape"
      ],
      "metadata": {
        "colab": {
          "base_uri": "https://localhost:8080/"
        },
        "id": "ApW4XPG6ST1r",
        "outputId": "1d9bb1b5-8a38-4df4-e443-f221526320ed"
      },
      "execution_count": null,
      "outputs": [
        {
          "output_type": "execute_result",
          "data": {
            "text/plain": [
              "(torch.Size([5, 2]), torch.Size([1500, 2]))"
            ]
          },
          "metadata": {},
          "execution_count": 35
        }
      ]
    },
    {
      "cell_type": "code",
      "execution_count": null,
      "metadata": {
        "id": "0PUHvdR_GmY4",
        "outputId": "ac930e15-80a8-4dd9-d467-0147c86f6b63",
        "colab": {
          "base_uri": "https://localhost:8080/"
        }
      },
      "outputs": [
        {
          "output_type": "execute_result",
          "data": {
            "text/plain": [
              "(torch.Size([1, 1500, 2]), torch.Size([5, 1, 2]), torch.Size([5, 1500, 2]))"
            ]
          },
          "metadata": {},
          "execution_count": 36
        }
      ],
      "source": [
        "X[None,:].shape, x[:,None].shape, (X[None,:]-x[:,None]).shape"
      ]
    },
    {
      "cell_type": "code",
      "source": [
        "def dist_b(a,b): return (((a[None] - b[:,None])**2).sum(2)).sqrt()"
      ],
      "metadata": {
        "id": "qhIJ8NbicnOE"
      },
      "execution_count": null,
      "outputs": []
    },
    {
      "cell_type": "code",
      "execution_count": null,
      "metadata": {
        "id": "E857lEX3GmY4",
        "colab": {
          "base_uri": "https://localhost:8080/"
        },
        "outputId": "d7725fdb-d917-4f2b-e9e0-b8a536108239"
      },
      "outputs": [
        {
          "output_type": "execute_result",
          "data": {
            "text/plain": [
              "tensor([[ 0.000,  3.899,  4.834,  ..., 17.628, 22.610, 21.617],\n",
              "        [ 3.899,  0.000,  4.978,  ..., 21.499, 26.508, 25.500],\n",
              "        [ 4.834,  4.978,  0.000,  ..., 19.373, 24.757, 23.396],\n",
              "        [ 3.726,  0.185,  4.969,  ..., 21.335, 26.336, 25.333],\n",
              "        [ 6.273,  5.547,  1.615,  ..., 20.775, 26.201, 24.785]])"
            ]
          },
          "metadata": {},
          "execution_count": 38
        }
      ],
      "source": [
        "dist_b(X,x)"
      ]
    },
    {
      "cell_type": "code",
      "execution_count": null,
      "metadata": {
        "id": "8i5Szc9xGmY4",
        "outputId": "7119ee28-eeac-4091-82b4-ab94df9d148c",
        "colab": {
          "base_uri": "https://localhost:8080/"
        }
      },
      "outputs": [
        {
          "output_type": "execute_result",
          "data": {
            "text/plain": [
              "torch.Size([5, 1500])"
            ]
          },
          "metadata": {},
          "execution_count": 39
        }
      ],
      "source": [
        "dist_b(X, x).shape"
      ]
    },
    {
      "cell_type": "code",
      "source": [
        "weight = gaussian(dist_b(X,x), 2)\n",
        "weight"
      ],
      "metadata": {
        "colab": {
          "base_uri": "https://localhost:8080/"
        },
        "id": "nGVD9mE_gQCp",
        "outputId": "cf2e4595-b7cb-49ab-d957-3f83ef4b62d8"
      },
      "execution_count": null,
      "outputs": [
        {
          "output_type": "execute_result",
          "data": {
            "text/plain": [
              "tensor([[    0.199,     0.030,     0.011,  ...,     0.000,     0.000,     0.000],\n",
              "        [    0.030,     0.199,     0.009,  ...,     0.000,     0.000,     0.000],\n",
              "        [    0.011,     0.009,     0.199,  ...,     0.000,     0.000,     0.000],\n",
              "        [    0.035,     0.199,     0.009,  ...,     0.000,     0.000,     0.000],\n",
              "        [    0.001,     0.004,     0.144,  ...,     0.000,     0.000,     0.000]])"
            ]
          },
          "metadata": {},
          "execution_count": 40
        }
      ]
    },
    {
      "cell_type": "code",
      "execution_count": null,
      "metadata": {
        "id": "tME2DjDcGmY4",
        "outputId": "5429e4e0-76f7-41c0-c1db-f4a6eb9d13d8",
        "colab": {
          "base_uri": "https://localhost:8080/"
        }
      },
      "outputs": [
        {
          "output_type": "execute_result",
          "data": {
            "text/plain": [
              "(torch.Size([5, 1500]), torch.Size([1500, 2]))"
            ]
          },
          "metadata": {},
          "execution_count": 41
        }
      ],
      "source": [
        "weight.shape,X.shape"
      ]
    },
    {
      "cell_type": "code",
      "source": [
        "weight[...,None].shape, X[None].shape"
      ],
      "metadata": {
        "colab": {
          "base_uri": "https://localhost:8080/"
        },
        "id": "BSL-Sfkuj7hq",
        "outputId": "0824d4e5-2b49-4983-93b5-5a62ade9206f"
      },
      "execution_count": null,
      "outputs": [
        {
          "output_type": "execute_result",
          "data": {
            "text/plain": [
              "(torch.Size([5, 1500, 1]), torch.Size([1, 1500, 2]))"
            ]
          },
          "metadata": {},
          "execution_count": 42
        }
      ]
    },
    {
      "cell_type": "code",
      "execution_count": null,
      "metadata": {
        "id": "7PyNdL2WGmY4",
        "outputId": "2771261f-753a-433c-a617-568ab89a8bf2",
        "colab": {
          "base_uri": "https://localhost:8080/"
        }
      },
      "outputs": [
        {
          "output_type": "execute_result",
          "data": {
            "text/plain": [
              "torch.Size([5, 2])"
            ]
          },
          "metadata": {},
          "execution_count": 43
        }
      ],
      "source": [
        "num = (weight[...,None]*X[None]).sum(1)\n",
        "num.shape"
      ]
    },
    {
      "cell_type": "code",
      "execution_count": null,
      "metadata": {
        "id": "G8Y8LL2FGmY5",
        "outputId": "3863c812-3517-42bb-8300-a5f1a8cfd90d",
        "colab": {
          "base_uri": "https://localhost:8080/"
        }
      },
      "outputs": [
        {
          "output_type": "execute_result",
          "data": {
            "text/plain": [
              "tensor([[367.870, 386.231],\n",
              "        [518.332, 588.680],\n",
              "        [329.665, 330.782],\n",
              "        [527.617, 598.217],\n",
              "        [231.302, 234.155]])"
            ]
          },
          "metadata": {},
          "execution_count": 44
        }
      ],
      "source": [
        "num"
      ]
    },
    {
      "cell_type": "code",
      "source": [
        "torch.einsum(\"ij,jk->ik \", weight, X) # recreating the same operation using einsum"
      ],
      "metadata": {
        "colab": {
          "base_uri": "https://localhost:8080/"
        },
        "id": "ewOokiVfweO4",
        "outputId": "d77555e9-3d31-4f41-ffbe-3f3587467545"
      },
      "execution_count": null,
      "outputs": [
        {
          "output_type": "execute_result",
          "data": {
            "text/plain": [
              "tensor([[367.870, 386.231],\n",
              "        [518.332, 588.680],\n",
              "        [329.665, 330.782],\n",
              "        [527.617, 598.218],\n",
              "        [231.302, 234.155]])"
            ]
          },
          "metadata": {},
          "execution_count": 45
        }
      ]
    },
    {
      "cell_type": "code",
      "execution_count": null,
      "metadata": {
        "id": "W-NMj3E8GmY5",
        "outputId": "03f203cc-545e-4b69-ce6c-6129fa51a5ff",
        "colab": {
          "base_uri": "https://localhost:8080/"
        }
      },
      "outputs": [
        {
          "output_type": "execute_result",
          "data": {
            "text/plain": [
              "tensor([[367.870, 386.231],\n",
              "        [518.332, 588.680],\n",
              "        [329.665, 330.782],\n",
              "        [527.617, 598.218],\n",
              "        [231.302, 234.155]])"
            ]
          },
          "metadata": {},
          "execution_count": 46
        }
      ],
      "source": [
        "weight@X #using matrix multi instead - The numerator of weighted sum is the same as matrix multiplication"
      ]
    },
    {
      "cell_type": "code",
      "execution_count": null,
      "metadata": {
        "id": "cMZI5xStGmY5",
        "outputId": "57e3c364-b46b-4f8c-aa0a-9808718c0628",
        "colab": {
          "base_uri": "https://localhost:8080/"
        }
      },
      "outputs": [
        {
          "output_type": "execute_result",
          "data": {
            "text/plain": [
              "(torch.Size([5, 1]), torch.Size([5, 2]))"
            ]
          },
          "metadata": {},
          "execution_count": 47
        }
      ],
      "source": [
        "div = weight.sum(1, keepdim=True)\n",
        "div.shape, num.shape"
      ]
    },
    {
      "cell_type": "code",
      "execution_count": null,
      "metadata": {
        "id": "Ar0zekPNGmY5",
        "outputId": "89a5fe51-0b26-4d83-a69c-7e1fbf57b689",
        "colab": {
          "base_uri": "https://localhost:8080/"
        }
      },
      "outputs": [
        {
          "output_type": "execute_result",
          "data": {
            "text/plain": [
              "tensor([[26.376, 27.692],\n",
              "        [26.101, 29.643],\n",
              "        [28.892, 28.990],\n",
              "        [26.071, 29.559],\n",
              "        [29.323, 29.685]])"
            ]
          },
          "metadata": {},
          "execution_count": 48
        }
      ],
      "source": [
        "num/div"
      ]
    },
    {
      "cell_type": "code",
      "source": [
        "def meanshift(data, bs=500):\n",
        "  n = len(data)\n",
        "  X = data.clone()\n",
        "  for it in range(5): #no of iterations for clustering\n",
        "    for i in range(0, n, bs):\n",
        "      s = slice(i, min(i+bs,n))\n",
        "      weight = gaussian(dist_b(X, X[s]), 2.5)\n",
        "      # weight = tri(dist_b(X, X[s]), 8)\n",
        "      div = weight.sum(1, keepdim=True)\n",
        "      X[s] = (weight@X)/div\n",
        "\n",
        "  return X"
      ],
      "metadata": {
        "id": "wD0_afWu8Pg3"
      },
      "execution_count": null,
      "outputs": []
    },
    {
      "cell_type": "markdown",
      "metadata": {
        "id": "z2-jM_coGmY5"
      },
      "source": [
        "Although each iteration still has to launch a new cuda kernel, there are now fewer iterations, and the acceleration from updating a batch of points more than makes up for it."
      ]
    },
    {
      "cell_type": "code",
      "source": [
        "data = data.cuda()\n",
        "data[:5]"
      ],
      "metadata": {
        "colab": {
          "base_uri": "https://localhost:8080/"
        },
        "id": "UNmiBxCiFr6l",
        "outputId": "db24e704-fc21-49ff-8ead-e8dd739b15ba"
      },
      "execution_count": null,
      "outputs": [
        {
          "output_type": "execute_result",
          "data": {
            "text/plain": [
              "tensor([[26.204, 26.349],\n",
              "        [25.691, 30.213],\n",
              "        [30.431, 28.693],\n",
              "        [25.647, 30.033],\n",
              "        [31.236, 30.093]], device='cuda:0')"
            ]
          },
          "metadata": {},
          "execution_count": 65
        }
      ]
    },
    {
      "cell_type": "code",
      "execution_count": null,
      "metadata": {
        "id": "nIWOsWsVGmY5",
        "colab": {
          "base_uri": "https://localhost:8080/"
        },
        "outputId": "8e2c1e5e-0117-4de8-b513-1eeaa8e823ec"
      },
      "outputs": [
        {
          "output_type": "execute_result",
          "data": {
            "text/plain": [
              "tensor([[26.758, 29.152],\n",
              "        [26.758, 29.152],\n",
              "        [26.758, 29.152],\n",
              "        [26.758, 29.152],\n",
              "        [26.758, 29.152]])"
            ]
          },
          "metadata": {},
          "execution_count": 66
        }
      ],
      "source": [
        "X = meanshift(data).cpu() # converged X after weight update\n",
        "X[:5]"
      ]
    },
    {
      "cell_type": "code",
      "source": [
        "%timeit -n 5 _= meanshift(data).cpu()"
      ],
      "metadata": {
        "colab": {
          "base_uri": "https://localhost:8080/"
        },
        "id": "w2Sdidn7Gakn",
        "outputId": "28704c19-6b2e-4b78-fa23-cae951db9ef4"
      },
      "execution_count": null,
      "outputs": [
        {
          "output_type": "stream",
          "name": "stdout",
          "text": [
            "5.98 ms ± 537 µs per loop (mean ± std. dev. of 7 runs, 5 loops each)\n"
          ]
        }
      ]
    },
    {
      "cell_type": "code",
      "execution_count": null,
      "metadata": {
        "id": "WJyqfYASGmY5",
        "outputId": "e0fd0c33-850f-4436-b178-08d62c265fea",
        "colab": {
          "base_uri": "https://localhost:8080/"
        }
      },
      "outputs": [
        {
          "output_type": "stream",
          "name": "stdout",
          "text": [
            "4.88 ms ± 58.5 µs per loop (mean ± std. dev. of 7 runs, 5 loops each)\n"
          ]
        }
      ],
      "source": [
        "%timeit -n 5 _=meanshift(data, 1024).cpu()"
      ]
    },
    {
      "cell_type": "code",
      "execution_count": null,
      "metadata": {
        "id": "iPlAH5szGmY5",
        "outputId": "4f13604b-907e-4972-cc52-922fa66c0f82",
        "colab": {
          "base_uri": "https://localhost:8080/",
          "height": 430
        }
      },
      "outputs": [
        {
          "output_type": "display_data",
          "data": {
            "text/plain": [
              "<Figure size 640x480 with 1 Axes>"
            ],
            "image/png": "[encoded data removed]"
          },
          "metadata": {}
        }
      ],
      "source": [
        "plot_data(centroids+2, X, n_samples)"
      ]
    },
    {
      "cell_type": "markdown",
      "metadata": {
        "id": "9a4b2040"
      },
      "source": [
        "The formula for the Gaussian probability density function (PDF) for a single variable $x$ is:\n",
        "\n",
        "$$ f(x | \\mu, \\sigma^2) = \\frac{1}{\\sqrt{2\\pi\\sigma^2}} e^{-\\frac{(x - \\mu)^2}{2\\sigma^2}} $$\n",
        "\n",
        "Where:\n",
        "- $x$ is the variable\n",
        "- $\\mu$ is the mean\n",
        "- $\\sigma^2$ is the variance\n",
        "- $\\sigma$ is the standard deviation\n",
        "- $e$ is the base of the natural logarithm (approximately 2.71828)\n",
        "- $\\pi$ is approximately 3.14159"
      ]
    }
  ],
  "metadata": {
    "kernelspec": {
      "display_name": "Python 3",
      "name": "python3"
    },
    "colab": {
      "provenance": [],
      "gpuType": "T4",
      "include_colab_link": true
    },
    "accelerator": "GPU"
  },
  "nbformat": 4,
  "nbformat_minor": 0
}